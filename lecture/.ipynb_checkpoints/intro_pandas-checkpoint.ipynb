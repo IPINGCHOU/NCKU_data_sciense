{
 "cells": [
  {
   "cell_type": "markdown",
   "metadata": {},
   "source": [
    "# An Introduction to Pandas\n",
    "\n",
    "This is a short introduction to pandas. You can see more complex recipes in the [Cookbook](http://pandas.pydata.org/pandas-docs/stable/cookbook.html#cookbook) \n",
    "\n",
    "Data Handled by Pandas\n",
    "\n",
    "Pandas is well suited for many different kinds of data:\n",
    "\n",
    "* Tabular data with heterogeneously-typed columns (comparable to EXCEL, R or relational Databases)\n",
    "* Time series data\n",
    "* Matrix data(homogeneously typed or heterogeneous) with row and column labels\n",
    "* Any other form of observational / statistical data sets. \n",
    "\n",
    "## Pandas Data Structures\n",
    "\n",
    "Pandas is build around two data structures\n",
    "\n",
    "* `Series` represent 1 dimensional datasets as subclass of Numpy's ndarray\n",
    "* `DataFrame` represent 2 dimensional data sets as list of `Series`\n",
    "\n",
    "For all data structures, labels/indices can be defined per row and column. "
   ]
  },
  {
   "cell_type": "markdown",
   "metadata": {},
   "source": [
    "Customarily, we import as follows:"
   ]
  },
  {
   "cell_type": "code",
   "execution_count": 7,
   "metadata": {
    "collapsed": true
   },
   "outputs": [],
   "source": [
    "import pandas as pd\n",
    "import numpy as np\n",
    "import matplotlib.pyplot as plt"
   ]
  },
  {
   "cell_type": "code",
   "execution_count": 8,
   "metadata": {
    "collapsed": true
   },
   "outputs": [],
   "source": [
    "%matplotlib inline"
   ]
  },
  {
   "cell_type": "markdown",
   "metadata": {},
   "source": [
    "## Object Creation\n",
    "\n",
    "See the [Data Structure Intro section](http://pandas.pydata.org/pandas-docs/stable/dsintro.html#dsintro) "
   ]
  },
  {
   "cell_type": "markdown",
   "metadata": {},
   "source": [
    "Creating a Series by passing a list of values, letting pandas create a default integer index:"
   ]
  },
  {
   "cell_type": "code",
   "execution_count": 9,
   "metadata": {
    "collapsed": true
   },
   "outputs": [],
   "source": [
    "s = pd.Series([1,3,5,np.nan,6,8])"
   ]
  },
  {
   "cell_type": "code",
   "execution_count": 10,
   "metadata": {},
   "outputs": [
    {
     "data": {
      "text/plain": [
       "0    1.0\n",
       "1    3.0\n",
       "2    5.0\n",
       "3    NaN\n",
       "4    6.0\n",
       "5    8.0\n",
       "dtype: float64"
      ]
     },
     "execution_count": 10,
     "metadata": {},
     "output_type": "execute_result"
    }
   ],
   "source": [
    "s"
   ]
  },
  {
   "cell_type": "markdown",
   "metadata": {},
   "source": [
    "Creating a DataFrame by passing a numpy array, with a datetime index and labeled columns:"
   ]
  },
  {
   "cell_type": "code",
   "execution_count": 11,
   "metadata": {
    "collapsed": true
   },
   "outputs": [],
   "source": [
    "dates = pd.date_range('20130101', periods=6)"
   ]
  },
  {
   "cell_type": "code",
   "execution_count": 12,
   "metadata": {},
   "outputs": [
    {
     "data": {
      "text/plain": [
       "DatetimeIndex(['2013-01-01', '2013-01-02', '2013-01-03', '2013-01-04',\n",
       "               '2013-01-05', '2013-01-06'],\n",
       "              dtype='datetime64[ns]', freq='D')"
      ]
     },
     "execution_count": 12,
     "metadata": {},
     "output_type": "execute_result"
    }
   ],
   "source": [
    "dates"
   ]
  },
  {
   "cell_type": "code",
   "execution_count": 13,
   "metadata": {
    "collapsed": true
   },
   "outputs": [],
   "source": [
    "df = pd.DataFrame(np.random.randn(6,4), index=dates, columns=list('ABCD'))"
   ]
  },
  {
   "cell_type": "code",
   "execution_count": 14,
   "metadata": {},
   "outputs": [
    {
     "data": {
      "text/html": [
       "<div>\n",
       "<table border=\"1\" class=\"dataframe\">\n",
       "  <thead>\n",
       "    <tr style=\"text-align: right;\">\n",
       "      <th></th>\n",
       "      <th>A</th>\n",
       "      <th>B</th>\n",
       "      <th>C</th>\n",
       "      <th>D</th>\n",
       "    </tr>\n",
       "  </thead>\n",
       "  <tbody>\n",
       "    <tr>\n",
       "      <th>2013-01-01</th>\n",
       "      <td>-1.512950</td>\n",
       "      <td>0.625586</td>\n",
       "      <td>-1.169128</td>\n",
       "      <td>0.553374</td>\n",
       "    </tr>\n",
       "    <tr>\n",
       "      <th>2013-01-02</th>\n",
       "      <td>-0.372553</td>\n",
       "      <td>0.735714</td>\n",
       "      <td>-0.868527</td>\n",
       "      <td>1.424880</td>\n",
       "    </tr>\n",
       "    <tr>\n",
       "      <th>2013-01-03</th>\n",
       "      <td>0.568267</td>\n",
       "      <td>2.346499</td>\n",
       "      <td>-0.933751</td>\n",
       "      <td>-0.166287</td>\n",
       "    </tr>\n",
       "    <tr>\n",
       "      <th>2013-01-04</th>\n",
       "      <td>1.267818</td>\n",
       "      <td>0.572746</td>\n",
       "      <td>1.314664</td>\n",
       "      <td>-0.757074</td>\n",
       "    </tr>\n",
       "    <tr>\n",
       "      <th>2013-01-05</th>\n",
       "      <td>-0.352270</td>\n",
       "      <td>0.830764</td>\n",
       "      <td>0.195967</td>\n",
       "      <td>1.737833</td>\n",
       "    </tr>\n",
       "    <tr>\n",
       "      <th>2013-01-06</th>\n",
       "      <td>0.051426</td>\n",
       "      <td>2.048968</td>\n",
       "      <td>0.762006</td>\n",
       "      <td>0.878897</td>\n",
       "    </tr>\n",
       "  </tbody>\n",
       "</table>\n",
       "</div>"
      ],
      "text/plain": [
       "                   A         B         C         D\n",
       "2013-01-01 -1.512950  0.625586 -1.169128  0.553374\n",
       "2013-01-02 -0.372553  0.735714 -0.868527  1.424880\n",
       "2013-01-03  0.568267  2.346499 -0.933751 -0.166287\n",
       "2013-01-04  1.267818  0.572746  1.314664 -0.757074\n",
       "2013-01-05 -0.352270  0.830764  0.195967  1.737833\n",
       "2013-01-06  0.051426  2.048968  0.762006  0.878897"
      ]
     },
     "execution_count": 14,
     "metadata": {},
     "output_type": "execute_result"
    }
   ],
   "source": [
    "df"
   ]
  },
  {
   "cell_type": "markdown",
   "metadata": {},
   "source": [
    "Creating a DataFrame by passing a dict of objects that can be converted to series-like."
   ]
  },
  {
   "cell_type": "code",
   "execution_count": 15,
   "metadata": {
    "collapsed": true
   },
   "outputs": [],
   "source": [
    "df2 = pd.DataFrame({'A':1.,\n",
    "                   'B':pd.Timestamp('20130102'),\n",
    "                   'C':pd.Series(1,index=list(range(4)),dtype='float32'),\n",
    "                   'D':np.array([3]*4,dtype='int32'),\n",
    "                   'E':pd.Categorical([\"test\",\"train\",\"test\",\"train\"]),\n",
    "                   'F':'foo'})"
   ]
  },
  {
   "cell_type": "code",
   "execution_count": 16,
   "metadata": {},
   "outputs": [
    {
     "data": {
      "text/html": [
       "<div>\n",
       "<table border=\"1\" class=\"dataframe\">\n",
       "  <thead>\n",
       "    <tr style=\"text-align: right;\">\n",
       "      <th></th>\n",
       "      <th>A</th>\n",
       "      <th>B</th>\n",
       "      <th>C</th>\n",
       "      <th>D</th>\n",
       "      <th>E</th>\n",
       "      <th>F</th>\n",
       "    </tr>\n",
       "  </thead>\n",
       "  <tbody>\n",
       "    <tr>\n",
       "      <th>0</th>\n",
       "      <td>1.0</td>\n",
       "      <td>2013-01-02</td>\n",
       "      <td>1.0</td>\n",
       "      <td>3</td>\n",
       "      <td>test</td>\n",
       "      <td>foo</td>\n",
       "    </tr>\n",
       "    <tr>\n",
       "      <th>1</th>\n",
       "      <td>1.0</td>\n",
       "      <td>2013-01-02</td>\n",
       "      <td>1.0</td>\n",
       "      <td>3</td>\n",
       "      <td>train</td>\n",
       "      <td>foo</td>\n",
       "    </tr>\n",
       "    <tr>\n",
       "      <th>2</th>\n",
       "      <td>1.0</td>\n",
       "      <td>2013-01-02</td>\n",
       "      <td>1.0</td>\n",
       "      <td>3</td>\n",
       "      <td>test</td>\n",
       "      <td>foo</td>\n",
       "    </tr>\n",
       "    <tr>\n",
       "      <th>3</th>\n",
       "      <td>1.0</td>\n",
       "      <td>2013-01-02</td>\n",
       "      <td>1.0</td>\n",
       "      <td>3</td>\n",
       "      <td>train</td>\n",
       "      <td>foo</td>\n",
       "    </tr>\n",
       "  </tbody>\n",
       "</table>\n",
       "</div>"
      ],
      "text/plain": [
       "     A          B    C  D      E    F\n",
       "0  1.0 2013-01-02  1.0  3   test  foo\n",
       "1  1.0 2013-01-02  1.0  3  train  foo\n",
       "2  1.0 2013-01-02  1.0  3   test  foo\n",
       "3  1.0 2013-01-02  1.0  3  train  foo"
      ]
     },
     "execution_count": 16,
     "metadata": {},
     "output_type": "execute_result"
    }
   ],
   "source": [
    "df2"
   ]
  },
  {
   "cell_type": "markdown",
   "metadata": {},
   "source": [
    "Having specific [dtypes](http://pandas.pydata.org/pandas-docs/stable/basics.html#basics-dtypes)"
   ]
  },
  {
   "cell_type": "code",
   "execution_count": 17,
   "metadata": {},
   "outputs": [
    {
     "data": {
      "text/plain": [
       "A           float64\n",
       "B    datetime64[ns]\n",
       "C           float32\n",
       "D             int32\n",
       "E          category\n",
       "F            object\n",
       "dtype: object"
      ]
     },
     "execution_count": 17,
     "metadata": {},
     "output_type": "execute_result"
    }
   ],
   "source": [
    "df2.dtypes"
   ]
  },
  {
   "cell_type": "markdown",
   "metadata": {},
   "source": [
    "## Series: labelled arrays\n",
    "\n",
    "Series is a one-dimensional labeled array capable of holding any data type (integers, strings, ﬂoating point numbers,Python objects, etc.). The axis labels are collectively referred to as the index. The basic method to create a Series is\n",
    "to call:\n",
    "\n",
    "    Series(data, index=index)\n",
    "    \n",
    "`data` may be a dict, a `numpy.ndarray` or a sclar value"
   ]
  },
  {
   "cell_type": "code",
   "execution_count": 18,
   "metadata": {},
   "outputs": [
    {
     "name": "stdout",
     "output_type": "stream",
     "text": [
      "0     2.0000\n",
      "1     1.0000\n",
      "2     5.0000\n",
      "3     0.9700\n",
      "4     3.0000\n",
      "5    10.0000\n",
      "6     0.0599\n",
      "7     8.0000\n",
      "dtype: float64\n"
     ]
    }
   ],
   "source": [
    "import numpy as np # we need numpy\n",
    "import pandas as pd #import pandas\n",
    "\n",
    "\n",
    "values = np.array([2.0, 1.0, 5.0, 0.97, 3.0, 10.0, 0.0599, 8.0]) #create numpy array\n",
    "ser = pd.Series(values) # now create series\n",
    "print (ser)"
   ]
  },
  {
   "cell_type": "code",
   "execution_count": 19,
   "metadata": {},
   "outputs": [
    {
     "name": "stdout",
     "output_type": "stream",
     "text": [
      "A     2.0000\n",
      "B     1.0000\n",
      "C     5.0000\n",
      "D     0.9700\n",
      "E     3.0000\n",
      "F    10.0000\n",
      "G     0.0599\n",
      "H     8.0000\n",
      "dtype: float64\n"
     ]
    }
   ],
   "source": [
    "#now lets put some index on the data\n",
    "#indices will be great later on when accessing datas\n",
    "#indices represent unique identifiers for rows\n",
    "values = np.array([2.0, 1.0, 5.0, 0.97, 3.0, 10.0, 0.0599, 8.0])\n",
    "labels = ['A', 'B', 'C', 'D', 'E', 'F', 'G', 'H']\n",
    "ser = pd.Series(data=values, index=labels)#values and labels must have the same dimension\n",
    "print (ser)"
   ]
  },
  {
   "cell_type": "code",
   "execution_count": 20,
   "metadata": {},
   "outputs": [
    {
     "name": "stdout",
     "output_type": "stream",
     "text": [
      "age                                                1\n",
      "gender                                             F\n",
      "genres                                         Drama\n",
      "movie_id                                        1193\n",
      "occupation                                        10\n",
      "rating                                             5\n",
      "timestamp                                  978300760\n",
      "title         One Flew Over the Cuckoo's Nest (1975)\n",
      "user_id                                            1\n",
      "zip                                            48067\n",
      "dtype: object\n"
     ]
    }
   ],
   "source": [
    "#craeting a heterogeneous series\n",
    "movie_rating = {\n",
    "    'age': 1,\n",
    "    'gender': 'F',\n",
    "    'genres': 'Drama',\n",
    "    'movie_id': 1193,\n",
    "    'occupation': 10,\n",
    "    'rating': 5,\n",
    "    'timestamp': 978300760,\n",
    "    'title': \"One Flew Over the Cuckoo's Nest (1975)\",\n",
    "    'user_id': 1,\n",
    "    'zip': '48067'\n",
    "    }\n",
    "ser = pd.Series(movie_rating)\n",
    "print (ser)"
   ]
  },
  {
   "cell_type": "code",
   "execution_count": 21,
   "metadata": {},
   "outputs": [
    {
     "data": {
      "text/plain": [
       "Index(['age', 'gender', 'genres', 'movie_id', 'occupation', 'rating',\n",
       "       'timestamp', 'title', 'user_id', 'zip'],\n",
       "      dtype='object')"
      ]
     },
     "execution_count": 21,
     "metadata": {},
     "output_type": "execute_result"
    }
   ],
   "source": [
    "#show the index\n",
    "ser.index"
   ]
  },
  {
   "cell_type": "code",
   "execution_count": 22,
   "metadata": {},
   "outputs": [
    {
     "data": {
      "text/plain": [
       "array([1, 'F', 'Drama', 1193, 10, 5, 978300760,\n",
       "       \"One Flew Over the Cuckoo's Nest (1975)\", 1, '48067'], dtype=object)"
      ]
     },
     "execution_count": 22,
     "metadata": {},
     "output_type": "execute_result"
    }
   ],
   "source": [
    "#show the value\n",
    "ser.values"
   ]
  },
  {
   "cell_type": "code",
   "execution_count": 23,
   "metadata": {},
   "outputs": [
    {
     "data": {
      "text/plain": [
       "1"
      ]
     },
     "execution_count": 23,
     "metadata": {},
     "output_type": "execute_result"
    }
   ],
   "source": [
    "#use the row number\n",
    "ser[0]"
   ]
  },
  {
   "cell_type": "code",
   "execution_count": 24,
   "metadata": {},
   "outputs": [
    {
     "data": {
      "text/plain": [
       "'F'"
      ]
     },
     "execution_count": 24,
     "metadata": {},
     "output_type": "execute_result"
    }
   ],
   "source": [
    "#use the index like in a dict object\n",
    "ser['gender']"
   ]
  },
  {
   "cell_type": "code",
   "execution_count": 25,
   "metadata": {},
   "outputs": [
    {
     "name": "stdout",
     "output_type": "stream",
     "text": [
      "A    6.0\n",
      "B    NaN\n",
      "C    9.0\n",
      "G    NaN\n",
      "dtype: float64\n"
     ]
    }
   ],
   "source": [
    "ser_1 = pd.Series(data=[1,3,4], index=['A', 'B', 'C']) #series 1\n",
    "ser_2 = pd.Series(data=[5,5,5], index=['A', 'G', 'C']) #series 2 but with different indices\n",
    "print (ser_1 + ser_2) #note that if an index not exists, its value is undefined"
   ]
  },
  {
   "cell_type": "markdown",
   "metadata": {},
   "source": [
    "**A `Series` is like a `Numpy.ndarray`**\n",
    "\n",
    "It can be used in Numpy functions."
   ]
  },
  {
   "cell_type": "code",
   "execution_count": 26,
   "metadata": {},
   "outputs": [
    {
     "name": "stdout",
     "output_type": "stream",
     "text": [
      "a    0.232298\n",
      "b    0.447172\n",
      "c    0.045676\n",
      "d   -1.771083\n",
      "e    0.127217\n",
      "dtype: float64\n",
      "epx(s)\n",
      " a    1.261496\n",
      "b    1.563883\n",
      "c    1.046736\n",
      "dtype: float64\n",
      "a    0.232298\n",
      "b    0.447172\n",
      "c    0.045676\n",
      "d   -1.771083\n",
      "e    0.127217\n",
      "dtype: float64\n"
     ]
    }
   ],
   "source": [
    "s=pd.Series(np.random.randn(5), index=[\"a\", \"b\", \"c\", \"d\", \"e\"])\n",
    "print (s)\n",
    "print (\"epx(s)\\n\", np.exp(s[:3]))\n",
    "print (s)"
   ]
  },
  {
   "cell_type": "markdown",
   "metadata": {},
   "source": [
    "## DataFrame: a Series of Series\n",
    "\n",
    "The pandas DataFrame is a 2 dimensional labeled data structure with columns of potentially different types. Similar to \n",
    "* a spreadsheet \n",
    "* relational database table \n",
    "* a dictionary of series\n",
    "\n",
    "**Creating DataFrame**\n",
    "\n",
    "DataFrame can be created from\n",
    "* dict of Series\n",
    "* dict of ndarrays\n",
    "* structured or record arrays\n",
    "* from a list of dicts\n",
    "* From a dict of tuples\n",
    "* From a Series"
   ]
  },
  {
   "cell_type": "code",
   "execution_count": 27,
   "metadata": {},
   "outputs": [
    {
     "name": "stdout",
     "output_type": "stream",
     "text": [
      "   one  two\n",
      "a  1.0  1.0\n",
      "b  2.0  2.0\n",
      "c  3.0  3.0\n",
      "d  NaN  4.0\n",
      "   one  two\n",
      "d  NaN  4.0\n",
      "b  2.0  2.0\n",
      "a  1.0  1.0\n",
      "Index: Index(['a', 'b', 'c', 'd'], dtype='object')\n",
      "Columns: Index(['one', 'two'], dtype='object')\n"
     ]
    }
   ],
   "source": [
    "#dict of series\n",
    "d = {'one' : pd.Series([1., 2., 3.], index=['a', 'b', 'c']),\n",
    "    'two' : pd.Series([1., 2., 3., 4.], index=['a', 'b', 'c', 'd'])}\n",
    "df = pd.DataFrame(d)\n",
    "print (df)\n",
    "print (pd.DataFrame(d, index=['d','b','a'])) # create data frame with index subset\n",
    "print\n",
    "print (\"Index:\", df.index)\n",
    "print (\"Columns:\", df.columns)"
   ]
  },
  {
   "cell_type": "code",
   "execution_count": 28,
   "metadata": {},
   "outputs": [
    {
     "name": "stdout",
     "output_type": "stream",
     "text": [
      "   one  two\n",
      "0  1.0  1.0\n",
      "1  2.0  2.0\n",
      "2  3.0  3.0\n",
      "3  4.0  4.0\n"
     ]
    }
   ],
   "source": [
    "#dict of lists\n",
    "d = {'one' : [1., 2., 3., 4.],\n",
    "    'two' :  [1., 2., 3., 4.]}\n",
    "print (pd.DataFrame(d))"
   ]
  },
  {
   "cell_type": "code",
   "execution_count": 29,
   "metadata": {},
   "outputs": [
    {
     "name": "stdout",
     "output_type": "stream",
     "text": [
      "   a   b     c\n",
      "0  1   2   NaN\n",
      "1  5  10  20.0\n"
     ]
    }
   ],
   "source": [
    "#from a list of dicts\n",
    "data2 = [{'a': 1, 'b': 2}, {'a': 5, 'b': 10, 'c': 20}]\n",
    "print (pd.DataFrame(data2))"
   ]
  },
  {
   "cell_type": "markdown",
   "metadata": {},
   "source": [
    "## Viewing Data\n",
    "\n",
    "See the [Basics section](http://pandas.pydata.org/pandas-docs/stable/basics.html#basics) "
   ]
  },
  {
   "cell_type": "markdown",
   "metadata": {},
   "source": [
    "See the top & bottom rows of the frame"
   ]
  },
  {
   "cell_type": "code",
   "execution_count": 30,
   "metadata": {},
   "outputs": [
    {
     "data": {
      "text/html": [
       "<div>\n",
       "<table border=\"1\" class=\"dataframe\">\n",
       "  <thead>\n",
       "    <tr style=\"text-align: right;\">\n",
       "      <th></th>\n",
       "      <th>A</th>\n",
       "      <th>B</th>\n",
       "      <th>C</th>\n",
       "      <th>D</th>\n",
       "    </tr>\n",
       "  </thead>\n",
       "  <tbody>\n",
       "    <tr>\n",
       "      <th>2013-01-01</th>\n",
       "      <td>1.296246</td>\n",
       "      <td>1.625978</td>\n",
       "      <td>-0.848935</td>\n",
       "      <td>-0.038101</td>\n",
       "    </tr>\n",
       "    <tr>\n",
       "      <th>2013-01-02</th>\n",
       "      <td>-0.681253</td>\n",
       "      <td>-1.789304</td>\n",
       "      <td>0.180994</td>\n",
       "      <td>2.204553</td>\n",
       "    </tr>\n",
       "    <tr>\n",
       "      <th>2013-01-03</th>\n",
       "      <td>1.299874</td>\n",
       "      <td>-0.718343</td>\n",
       "      <td>0.138649</td>\n",
       "      <td>0.150983</td>\n",
       "    </tr>\n",
       "    <tr>\n",
       "      <th>2013-01-04</th>\n",
       "      <td>0.665121</td>\n",
       "      <td>-2.189572</td>\n",
       "      <td>-0.071599</td>\n",
       "      <td>1.980411</td>\n",
       "    </tr>\n",
       "    <tr>\n",
       "      <th>2013-01-05</th>\n",
       "      <td>-0.185720</td>\n",
       "      <td>-0.739665</td>\n",
       "      <td>1.277518</td>\n",
       "      <td>-0.219183</td>\n",
       "    </tr>\n",
       "  </tbody>\n",
       "</table>\n",
       "</div>"
      ],
      "text/plain": [
       "                   A         B         C         D\n",
       "2013-01-01  1.296246  1.625978 -0.848935 -0.038101\n",
       "2013-01-02 -0.681253 -1.789304  0.180994  2.204553\n",
       "2013-01-03  1.299874 -0.718343  0.138649  0.150983\n",
       "2013-01-04  0.665121 -2.189572 -0.071599  1.980411\n",
       "2013-01-05 -0.185720 -0.739665  1.277518 -0.219183"
      ]
     },
     "execution_count": 30,
     "metadata": {},
     "output_type": "execute_result"
    }
   ],
   "source": [
    "dates = pd.date_range('20130101', periods=6)\n",
    "df = pd.DataFrame(np.random.randn(6,4), index=dates, columns=list('ABCD'))\n",
    "df.head()"
   ]
  },
  {
   "cell_type": "code",
   "execution_count": 31,
   "metadata": {},
   "outputs": [
    {
     "data": {
      "text/html": [
       "<div>\n",
       "<table border=\"1\" class=\"dataframe\">\n",
       "  <thead>\n",
       "    <tr style=\"text-align: right;\">\n",
       "      <th></th>\n",
       "      <th>A</th>\n",
       "      <th>B</th>\n",
       "      <th>C</th>\n",
       "      <th>D</th>\n",
       "    </tr>\n",
       "  </thead>\n",
       "  <tbody>\n",
       "    <tr>\n",
       "      <th>2013-01-04</th>\n",
       "      <td>0.665121</td>\n",
       "      <td>-2.189572</td>\n",
       "      <td>-0.071599</td>\n",
       "      <td>1.980411</td>\n",
       "    </tr>\n",
       "    <tr>\n",
       "      <th>2013-01-05</th>\n",
       "      <td>-0.185720</td>\n",
       "      <td>-0.739665</td>\n",
       "      <td>1.277518</td>\n",
       "      <td>-0.219183</td>\n",
       "    </tr>\n",
       "    <tr>\n",
       "      <th>2013-01-06</th>\n",
       "      <td>-0.557088</td>\n",
       "      <td>-0.188943</td>\n",
       "      <td>-1.059828</td>\n",
       "      <td>-1.412372</td>\n",
       "    </tr>\n",
       "  </tbody>\n",
       "</table>\n",
       "</div>"
      ],
      "text/plain": [
       "                   A         B         C         D\n",
       "2013-01-04  0.665121 -2.189572 -0.071599  1.980411\n",
       "2013-01-05 -0.185720 -0.739665  1.277518 -0.219183\n",
       "2013-01-06 -0.557088 -0.188943 -1.059828 -1.412372"
      ]
     },
     "execution_count": 31,
     "metadata": {},
     "output_type": "execute_result"
    }
   ],
   "source": [
    "df.tail(3)"
   ]
  },
  {
   "cell_type": "markdown",
   "metadata": {},
   "source": [
    "Display the index, columns, and the underlying numpy data"
   ]
  },
  {
   "cell_type": "code",
   "execution_count": 32,
   "metadata": {},
   "outputs": [
    {
     "data": {
      "text/plain": [
       "DatetimeIndex(['2013-01-01', '2013-01-02', '2013-01-03', '2013-01-04',\n",
       "               '2013-01-05', '2013-01-06'],\n",
       "              dtype='datetime64[ns]', freq='D')"
      ]
     },
     "execution_count": 32,
     "metadata": {},
     "output_type": "execute_result"
    }
   ],
   "source": [
    "df.index"
   ]
  },
  {
   "cell_type": "code",
   "execution_count": 33,
   "metadata": {},
   "outputs": [
    {
     "data": {
      "text/plain": [
       "Index(['A', 'B', 'C', 'D'], dtype='object')"
      ]
     },
     "execution_count": 33,
     "metadata": {},
     "output_type": "execute_result"
    }
   ],
   "source": [
    "df.columns"
   ]
  },
  {
   "cell_type": "code",
   "execution_count": 34,
   "metadata": {
    "scrolled": true
   },
   "outputs": [
    {
     "data": {
      "text/plain": [
       "array([[ 1.29624636,  1.62597758, -0.84893469, -0.03810064],\n",
       "       [-0.68125291, -1.78930448,  0.18099427,  2.20455341],\n",
       "       [ 1.29987427, -0.71834323,  0.13864856,  0.15098275],\n",
       "       [ 0.66512078, -2.18957228, -0.07159918,  1.98041119],\n",
       "       [-0.18572048, -0.73966451,  1.27751839, -0.21918293],\n",
       "       [-0.55708801, -0.188943  , -1.05982834, -1.41237248]])"
      ]
     },
     "execution_count": 34,
     "metadata": {},
     "output_type": "execute_result"
    }
   ],
   "source": [
    "df.values"
   ]
  },
  {
   "cell_type": "markdown",
   "metadata": {},
   "source": [
    "Describe shows a quick statistic summary of your data"
   ]
  },
  {
   "cell_type": "code",
   "execution_count": 35,
   "metadata": {},
   "outputs": [
    {
     "data": {
      "text/html": [
       "<div>\n",
       "<table border=\"1\" class=\"dataframe\">\n",
       "  <thead>\n",
       "    <tr style=\"text-align: right;\">\n",
       "      <th></th>\n",
       "      <th>A</th>\n",
       "      <th>B</th>\n",
       "      <th>C</th>\n",
       "      <th>D</th>\n",
       "    </tr>\n",
       "  </thead>\n",
       "  <tbody>\n",
       "    <tr>\n",
       "      <th>count</th>\n",
       "      <td>6.000000</td>\n",
       "      <td>6.000000</td>\n",
       "      <td>6.000000</td>\n",
       "      <td>6.000000</td>\n",
       "    </tr>\n",
       "    <tr>\n",
       "      <th>mean</th>\n",
       "      <td>0.306197</td>\n",
       "      <td>-0.666642</td>\n",
       "      <td>-0.063867</td>\n",
       "      <td>0.444382</td>\n",
       "    </tr>\n",
       "    <tr>\n",
       "      <th>std</th>\n",
       "      <td>0.900968</td>\n",
       "      <td>1.346996</td>\n",
       "      <td>0.837689</td>\n",
       "      <td>1.390275</td>\n",
       "    </tr>\n",
       "    <tr>\n",
       "      <th>min</th>\n",
       "      <td>-0.681253</td>\n",
       "      <td>-2.189572</td>\n",
       "      <td>-1.059828</td>\n",
       "      <td>-1.412372</td>\n",
       "    </tr>\n",
       "    <tr>\n",
       "      <th>25%</th>\n",
       "      <td>-0.464246</td>\n",
       "      <td>-1.526894</td>\n",
       "      <td>-0.654601</td>\n",
       "      <td>-0.173912</td>\n",
       "    </tr>\n",
       "    <tr>\n",
       "      <th>50%</th>\n",
       "      <td>0.239700</td>\n",
       "      <td>-0.729004</td>\n",
       "      <td>0.033525</td>\n",
       "      <td>0.056441</td>\n",
       "    </tr>\n",
       "    <tr>\n",
       "      <th>75%</th>\n",
       "      <td>1.138465</td>\n",
       "      <td>-0.321293</td>\n",
       "      <td>0.170408</td>\n",
       "      <td>1.523054</td>\n",
       "    </tr>\n",
       "    <tr>\n",
       "      <th>max</th>\n",
       "      <td>1.299874</td>\n",
       "      <td>1.625978</td>\n",
       "      <td>1.277518</td>\n",
       "      <td>2.204553</td>\n",
       "    </tr>\n",
       "  </tbody>\n",
       "</table>\n",
       "</div>"
      ],
      "text/plain": [
       "              A         B         C         D\n",
       "count  6.000000  6.000000  6.000000  6.000000\n",
       "mean   0.306197 -0.666642 -0.063867  0.444382\n",
       "std    0.900968  1.346996  0.837689  1.390275\n",
       "min   -0.681253 -2.189572 -1.059828 -1.412372\n",
       "25%   -0.464246 -1.526894 -0.654601 -0.173912\n",
       "50%    0.239700 -0.729004  0.033525  0.056441\n",
       "75%    1.138465 -0.321293  0.170408  1.523054\n",
       "max    1.299874  1.625978  1.277518  2.204553"
      ]
     },
     "execution_count": 35,
     "metadata": {},
     "output_type": "execute_result"
    }
   ],
   "source": [
    "df.describe()"
   ]
  },
  {
   "cell_type": "markdown",
   "metadata": {},
   "source": [
    "Transposing your data"
   ]
  },
  {
   "cell_type": "code",
   "execution_count": 36,
   "metadata": {},
   "outputs": [
    {
     "data": {
      "text/html": [
       "<div>\n",
       "<table border=\"1\" class=\"dataframe\">\n",
       "  <thead>\n",
       "    <tr style=\"text-align: right;\">\n",
       "      <th></th>\n",
       "      <th>2013-01-01 00:00:00</th>\n",
       "      <th>2013-01-02 00:00:00</th>\n",
       "      <th>2013-01-03 00:00:00</th>\n",
       "      <th>2013-01-04 00:00:00</th>\n",
       "      <th>2013-01-05 00:00:00</th>\n",
       "      <th>2013-01-06 00:00:00</th>\n",
       "    </tr>\n",
       "  </thead>\n",
       "  <tbody>\n",
       "    <tr>\n",
       "      <th>A</th>\n",
       "      <td>1.296246</td>\n",
       "      <td>-0.681253</td>\n",
       "      <td>1.299874</td>\n",
       "      <td>0.665121</td>\n",
       "      <td>-0.185720</td>\n",
       "      <td>-0.557088</td>\n",
       "    </tr>\n",
       "    <tr>\n",
       "      <th>B</th>\n",
       "      <td>1.625978</td>\n",
       "      <td>-1.789304</td>\n",
       "      <td>-0.718343</td>\n",
       "      <td>-2.189572</td>\n",
       "      <td>-0.739665</td>\n",
       "      <td>-0.188943</td>\n",
       "    </tr>\n",
       "    <tr>\n",
       "      <th>C</th>\n",
       "      <td>-0.848935</td>\n",
       "      <td>0.180994</td>\n",
       "      <td>0.138649</td>\n",
       "      <td>-0.071599</td>\n",
       "      <td>1.277518</td>\n",
       "      <td>-1.059828</td>\n",
       "    </tr>\n",
       "    <tr>\n",
       "      <th>D</th>\n",
       "      <td>-0.038101</td>\n",
       "      <td>2.204553</td>\n",
       "      <td>0.150983</td>\n",
       "      <td>1.980411</td>\n",
       "      <td>-0.219183</td>\n",
       "      <td>-1.412372</td>\n",
       "    </tr>\n",
       "  </tbody>\n",
       "</table>\n",
       "</div>"
      ],
      "text/plain": [
       "   2013-01-01  2013-01-02  2013-01-03  2013-01-04  2013-01-05  2013-01-06\n",
       "A    1.296246   -0.681253    1.299874    0.665121   -0.185720   -0.557088\n",
       "B    1.625978   -1.789304   -0.718343   -2.189572   -0.739665   -0.188943\n",
       "C   -0.848935    0.180994    0.138649   -0.071599    1.277518   -1.059828\n",
       "D   -0.038101    2.204553    0.150983    1.980411   -0.219183   -1.412372"
      ]
     },
     "execution_count": 36,
     "metadata": {},
     "output_type": "execute_result"
    }
   ],
   "source": [
    "df.T"
   ]
  },
  {
   "cell_type": "markdown",
   "metadata": {},
   "source": [
    "Sorting by value"
   ]
  },
  {
   "cell_type": "code",
   "execution_count": 37,
   "metadata": {},
   "outputs": [
    {
     "data": {
      "text/html": [
       "<div>\n",
       "<table border=\"1\" class=\"dataframe\">\n",
       "  <thead>\n",
       "    <tr style=\"text-align: right;\">\n",
       "      <th></th>\n",
       "      <th>A</th>\n",
       "      <th>B</th>\n",
       "      <th>C</th>\n",
       "      <th>D</th>\n",
       "    </tr>\n",
       "  </thead>\n",
       "  <tbody>\n",
       "    <tr>\n",
       "      <th>2013-01-04</th>\n",
       "      <td>0.665121</td>\n",
       "      <td>-2.189572</td>\n",
       "      <td>-0.071599</td>\n",
       "      <td>1.980411</td>\n",
       "    </tr>\n",
       "    <tr>\n",
       "      <th>2013-01-02</th>\n",
       "      <td>-0.681253</td>\n",
       "      <td>-1.789304</td>\n",
       "      <td>0.180994</td>\n",
       "      <td>2.204553</td>\n",
       "    </tr>\n",
       "    <tr>\n",
       "      <th>2013-01-05</th>\n",
       "      <td>-0.185720</td>\n",
       "      <td>-0.739665</td>\n",
       "      <td>1.277518</td>\n",
       "      <td>-0.219183</td>\n",
       "    </tr>\n",
       "    <tr>\n",
       "      <th>2013-01-03</th>\n",
       "      <td>1.299874</td>\n",
       "      <td>-0.718343</td>\n",
       "      <td>0.138649</td>\n",
       "      <td>0.150983</td>\n",
       "    </tr>\n",
       "    <tr>\n",
       "      <th>2013-01-06</th>\n",
       "      <td>-0.557088</td>\n",
       "      <td>-0.188943</td>\n",
       "      <td>-1.059828</td>\n",
       "      <td>-1.412372</td>\n",
       "    </tr>\n",
       "    <tr>\n",
       "      <th>2013-01-01</th>\n",
       "      <td>1.296246</td>\n",
       "      <td>1.625978</td>\n",
       "      <td>-0.848935</td>\n",
       "      <td>-0.038101</td>\n",
       "    </tr>\n",
       "  </tbody>\n",
       "</table>\n",
       "</div>"
      ],
      "text/plain": [
       "                   A         B         C         D\n",
       "2013-01-04  0.665121 -2.189572 -0.071599  1.980411\n",
       "2013-01-02 -0.681253 -1.789304  0.180994  2.204553\n",
       "2013-01-05 -0.185720 -0.739665  1.277518 -0.219183\n",
       "2013-01-03  1.299874 -0.718343  0.138649  0.150983\n",
       "2013-01-06 -0.557088 -0.188943 -1.059828 -1.412372\n",
       "2013-01-01  1.296246  1.625978 -0.848935 -0.038101"
      ]
     },
     "execution_count": 37,
     "metadata": {},
     "output_type": "execute_result"
    }
   ],
   "source": [
    "df.sort_values(by='B')"
   ]
  },
  {
   "cell_type": "markdown",
   "metadata": {},
   "source": [
    "## Selection"
   ]
  },
  {
   "cell_type": "markdown",
   "metadata": {},
   "source": [
    "See the indexing documentation [Indexing and Selecting Data](http://pandas.pydata.org/pandas-docs/stable/indexing.html#indexing) and [MultiIndex / Advanced Indexing](http://pandas.pydata.org/pandas-docs/stable/advanced.html#advanced)"
   ]
  },
  {
   "cell_type": "markdown",
   "metadata": {},
   "source": [
    "### Getting"
   ]
  },
  {
   "cell_type": "markdown",
   "metadata": {},
   "source": [
    "Selecting a single column, which yields a Series, equivalent to df.A"
   ]
  },
  {
   "cell_type": "code",
   "execution_count": 38,
   "metadata": {},
   "outputs": [
    {
     "data": {
      "text/plain": [
       "2013-01-01    1.296246\n",
       "2013-01-02   -0.681253\n",
       "2013-01-03    1.299874\n",
       "2013-01-04    0.665121\n",
       "2013-01-05   -0.185720\n",
       "2013-01-06   -0.557088\n",
       "Freq: D, Name: A, dtype: float64"
      ]
     },
     "execution_count": 38,
     "metadata": {},
     "output_type": "execute_result"
    }
   ],
   "source": [
    "df['A']"
   ]
  },
  {
   "cell_type": "markdown",
   "metadata": {},
   "source": [
    "Selecting via [], which slices the rows."
   ]
  },
  {
   "cell_type": "code",
   "execution_count": 39,
   "metadata": {},
   "outputs": [
    {
     "data": {
      "text/html": [
       "<div>\n",
       "<table border=\"1\" class=\"dataframe\">\n",
       "  <thead>\n",
       "    <tr style=\"text-align: right;\">\n",
       "      <th></th>\n",
       "      <th>A</th>\n",
       "      <th>B</th>\n",
       "      <th>C</th>\n",
       "      <th>D</th>\n",
       "    </tr>\n",
       "  </thead>\n",
       "  <tbody>\n",
       "    <tr>\n",
       "      <th>2013-01-01</th>\n",
       "      <td>1.296246</td>\n",
       "      <td>1.625978</td>\n",
       "      <td>-0.848935</td>\n",
       "      <td>-0.038101</td>\n",
       "    </tr>\n",
       "    <tr>\n",
       "      <th>2013-01-02</th>\n",
       "      <td>-0.681253</td>\n",
       "      <td>-1.789304</td>\n",
       "      <td>0.180994</td>\n",
       "      <td>2.204553</td>\n",
       "    </tr>\n",
       "    <tr>\n",
       "      <th>2013-01-03</th>\n",
       "      <td>1.299874</td>\n",
       "      <td>-0.718343</td>\n",
       "      <td>0.138649</td>\n",
       "      <td>0.150983</td>\n",
       "    </tr>\n",
       "  </tbody>\n",
       "</table>\n",
       "</div>"
      ],
      "text/plain": [
       "                   A         B         C         D\n",
       "2013-01-01  1.296246  1.625978 -0.848935 -0.038101\n",
       "2013-01-02 -0.681253 -1.789304  0.180994  2.204553\n",
       "2013-01-03  1.299874 -0.718343  0.138649  0.150983"
      ]
     },
     "execution_count": 39,
     "metadata": {},
     "output_type": "execute_result"
    }
   ],
   "source": [
    "df[0:3]"
   ]
  },
  {
   "cell_type": "code",
   "execution_count": 40,
   "metadata": {},
   "outputs": [
    {
     "data": {
      "text/html": [
       "<div>\n",
       "<table border=\"1\" class=\"dataframe\">\n",
       "  <thead>\n",
       "    <tr style=\"text-align: right;\">\n",
       "      <th></th>\n",
       "      <th>A</th>\n",
       "      <th>B</th>\n",
       "      <th>C</th>\n",
       "      <th>D</th>\n",
       "    </tr>\n",
       "  </thead>\n",
       "  <tbody>\n",
       "    <tr>\n",
       "      <th>2013-01-02</th>\n",
       "      <td>-0.681253</td>\n",
       "      <td>-1.789304</td>\n",
       "      <td>0.180994</td>\n",
       "      <td>2.204553</td>\n",
       "    </tr>\n",
       "    <tr>\n",
       "      <th>2013-01-03</th>\n",
       "      <td>1.299874</td>\n",
       "      <td>-0.718343</td>\n",
       "      <td>0.138649</td>\n",
       "      <td>0.150983</td>\n",
       "    </tr>\n",
       "    <tr>\n",
       "      <th>2013-01-04</th>\n",
       "      <td>0.665121</td>\n",
       "      <td>-2.189572</td>\n",
       "      <td>-0.071599</td>\n",
       "      <td>1.980411</td>\n",
       "    </tr>\n",
       "  </tbody>\n",
       "</table>\n",
       "</div>"
      ],
      "text/plain": [
       "                   A         B         C         D\n",
       "2013-01-02 -0.681253 -1.789304  0.180994  2.204553\n",
       "2013-01-03  1.299874 -0.718343  0.138649  0.150983\n",
       "2013-01-04  0.665121 -2.189572 -0.071599  1.980411"
      ]
     },
     "execution_count": 40,
     "metadata": {},
     "output_type": "execute_result"
    }
   ],
   "source": [
    "df['20130102':'20130104']"
   ]
  },
  {
   "cell_type": "markdown",
   "metadata": {},
   "source": [
    "### Selection by Label\n",
    "\n",
    "See more in [Selection by Label](Selection by Label)"
   ]
  },
  {
   "cell_type": "markdown",
   "metadata": {},
   "source": [
    "For getting a cross section using a label"
   ]
  },
  {
   "cell_type": "code",
   "execution_count": 41,
   "metadata": {},
   "outputs": [
    {
     "data": {
      "text/plain": [
       "A    1.296246\n",
       "B    1.625978\n",
       "C   -0.848935\n",
       "D   -0.038101\n",
       "Name: 2013-01-01 00:00:00, dtype: float64"
      ]
     },
     "execution_count": 41,
     "metadata": {},
     "output_type": "execute_result"
    }
   ],
   "source": [
    "df.loc[dates[0]]"
   ]
  },
  {
   "cell_type": "markdown",
   "metadata": {},
   "source": [
    "Selection by Label"
   ]
  },
  {
   "cell_type": "code",
   "execution_count": 42,
   "metadata": {},
   "outputs": [
    {
     "data": {
      "text/html": [
       "<div>\n",
       "<table border=\"1\" class=\"dataframe\">\n",
       "  <thead>\n",
       "    <tr style=\"text-align: right;\">\n",
       "      <th></th>\n",
       "      <th>A</th>\n",
       "      <th>B</th>\n",
       "    </tr>\n",
       "  </thead>\n",
       "  <tbody>\n",
       "    <tr>\n",
       "      <th>2013-01-01</th>\n",
       "      <td>1.296246</td>\n",
       "      <td>1.625978</td>\n",
       "    </tr>\n",
       "    <tr>\n",
       "      <th>2013-01-02</th>\n",
       "      <td>-0.681253</td>\n",
       "      <td>-1.789304</td>\n",
       "    </tr>\n",
       "    <tr>\n",
       "      <th>2013-01-03</th>\n",
       "      <td>1.299874</td>\n",
       "      <td>-0.718343</td>\n",
       "    </tr>\n",
       "    <tr>\n",
       "      <th>2013-01-04</th>\n",
       "      <td>0.665121</td>\n",
       "      <td>-2.189572</td>\n",
       "    </tr>\n",
       "    <tr>\n",
       "      <th>2013-01-05</th>\n",
       "      <td>-0.185720</td>\n",
       "      <td>-0.739665</td>\n",
       "    </tr>\n",
       "    <tr>\n",
       "      <th>2013-01-06</th>\n",
       "      <td>-0.557088</td>\n",
       "      <td>-0.188943</td>\n",
       "    </tr>\n",
       "  </tbody>\n",
       "</table>\n",
       "</div>"
      ],
      "text/plain": [
       "                   A         B\n",
       "2013-01-01  1.296246  1.625978\n",
       "2013-01-02 -0.681253 -1.789304\n",
       "2013-01-03  1.299874 -0.718343\n",
       "2013-01-04  0.665121 -2.189572\n",
       "2013-01-05 -0.185720 -0.739665\n",
       "2013-01-06 -0.557088 -0.188943"
      ]
     },
     "execution_count": 42,
     "metadata": {},
     "output_type": "execute_result"
    }
   ],
   "source": [
    "df.loc[:,['A','B']]"
   ]
  },
  {
   "cell_type": "markdown",
   "metadata": {},
   "source": [
    "Showing label slicing, both endpoints are included"
   ]
  },
  {
   "cell_type": "code",
   "execution_count": 43,
   "metadata": {},
   "outputs": [
    {
     "data": {
      "text/html": [
       "<div>\n",
       "<table border=\"1\" class=\"dataframe\">\n",
       "  <thead>\n",
       "    <tr style=\"text-align: right;\">\n",
       "      <th></th>\n",
       "      <th>A</th>\n",
       "      <th>B</th>\n",
       "    </tr>\n",
       "  </thead>\n",
       "  <tbody>\n",
       "    <tr>\n",
       "      <th>2013-01-02</th>\n",
       "      <td>-0.681253</td>\n",
       "      <td>-1.789304</td>\n",
       "    </tr>\n",
       "    <tr>\n",
       "      <th>2013-01-03</th>\n",
       "      <td>1.299874</td>\n",
       "      <td>-0.718343</td>\n",
       "    </tr>\n",
       "    <tr>\n",
       "      <th>2013-01-04</th>\n",
       "      <td>0.665121</td>\n",
       "      <td>-2.189572</td>\n",
       "    </tr>\n",
       "  </tbody>\n",
       "</table>\n",
       "</div>"
      ],
      "text/plain": [
       "                   A         B\n",
       "2013-01-02 -0.681253 -1.789304\n",
       "2013-01-03  1.299874 -0.718343\n",
       "2013-01-04  0.665121 -2.189572"
      ]
     },
     "execution_count": 43,
     "metadata": {},
     "output_type": "execute_result"
    }
   ],
   "source": [
    "df.loc['20130102':'20130104',['A','B']]"
   ]
  },
  {
   "cell_type": "markdown",
   "metadata": {},
   "source": [
    "Reduction in the dimensions of the returned object"
   ]
  },
  {
   "cell_type": "code",
   "execution_count": 44,
   "metadata": {},
   "outputs": [
    {
     "data": {
      "text/plain": [
       "A   -0.681253\n",
       "B   -1.789304\n",
       "Name: 2013-01-02 00:00:00, dtype: float64"
      ]
     },
     "execution_count": 44,
     "metadata": {},
     "output_type": "execute_result"
    }
   ],
   "source": [
    "df.loc['20130102',['A','B']]"
   ]
  },
  {
   "cell_type": "markdown",
   "metadata": {},
   "source": [
    "For getting a scalar value"
   ]
  },
  {
   "cell_type": "code",
   "execution_count": 45,
   "metadata": {},
   "outputs": [
    {
     "data": {
      "text/plain": [
       "1.2962463562573059"
      ]
     },
     "execution_count": 45,
     "metadata": {},
     "output_type": "execute_result"
    }
   ],
   "source": [
    "df.loc[dates[0],'A']"
   ]
  },
  {
   "cell_type": "code",
   "execution_count": 46,
   "metadata": {},
   "outputs": [
    {
     "name": "stdout",
     "output_type": "stream",
     "text": [
      "a    1.0\n",
      "b    2.0\n",
      "c    3.0\n",
      "d    NaN\n",
      "Name: one, dtype: float64\n"
     ]
    }
   ],
   "source": [
    "d = {'one' : pd.Series([1., 2., 3.], index=['a', 'b', 'c']),\n",
    "    'two' : pd.Series([1., 2., 3., 4.], index=['a', 'b', 'c', 'd'])}\n",
    "df = pd.DataFrame(d)\n",
    "print (df['one'])"
   ]
  },
  {
   "cell_type": "code",
   "execution_count": 47,
   "metadata": {},
   "outputs": [
    {
     "name": "stdout",
     "output_type": "stream",
     "text": [
      "   one  two  three\n",
      "a  1.0  1.0    1.0\n",
      "b  2.0  2.0    4.0\n",
      "c  3.0  3.0    9.0\n",
      "d  NaN  4.0    NaN\n"
     ]
    }
   ],
   "source": [
    "df['three']=df['one']*df['two']\n",
    "print (df)"
   ]
  },
  {
   "cell_type": "code",
   "execution_count": 48,
   "metadata": {},
   "outputs": [
    {
     "name": "stdout",
     "output_type": "stream",
     "text": [
      "   one  three\n",
      "a  1.0    1.0\n",
      "b  2.0    4.0\n",
      "c  3.0    9.0\n",
      "d  NaN    NaN\n"
     ]
    }
   ],
   "source": [
    "del df['two']\n",
    "print (df)"
   ]
  },
  {
   "cell_type": "code",
   "execution_count": 49,
   "metadata": {},
   "outputs": [
    {
     "name": "stdout",
     "output_type": "stream",
     "text": [
      "   one  three  foo\n",
      "a  1.0    1.0  bar\n",
      "b  2.0    4.0  bar\n",
      "c  3.0    9.0  bar\n",
      "d  NaN    NaN  bar\n"
     ]
    }
   ],
   "source": [
    "df['foo']='bar'\n",
    "print (df)"
   ]
  },
  {
   "cell_type": "code",
   "execution_count": 50,
   "metadata": {},
   "outputs": [
    {
     "name": "stdout",
     "output_type": "stream",
     "text": [
      "Before\n",
      "   one  three  foo\n",
      "a  1.0    1.0  bar\n",
      "b  2.0    4.0  bar\n",
      "c  3.0    9.0  bar\n",
      "d  NaN    NaN  bar\n",
      "After\n",
      "   one  bar  three  foo\n",
      "a  1.0  1.0    1.0  bar\n",
      "b  2.0  2.0    4.0  bar\n",
      "c  3.0  3.0    9.0  bar\n",
      "d  NaN  NaN    NaN  bar\n"
     ]
    }
   ],
   "source": [
    "print (\"Before\")\n",
    "print (df)\n",
    "df.insert(1,\"bar\",df[\"one\"])\n",
    "print (\"After\")\n",
    "print (df)"
   ]
  },
  {
   "cell_type": "markdown",
   "metadata": {},
   "source": [
    "### Selection by Position\n",
    "\n",
    "See more in [Selection by Position](http://pandas.pydata.org/pandas-docs/stable/indexing.html#indexing-integer)"
   ]
  },
  {
   "cell_type": "markdown",
   "metadata": {},
   "source": [
    "Select via the position of the passed integers"
   ]
  },
  {
   "cell_type": "code",
   "execution_count": 51,
   "metadata": {},
   "outputs": [
    {
     "name": "stdout",
     "output_type": "stream",
     "text": [
      "                   A         B         C         D\n",
      "2013-01-01 -0.026558 -0.235115  1.100300 -0.022789\n",
      "2013-01-02  0.537712 -0.080129  0.723476 -1.561783\n",
      "2013-01-03  1.046858 -0.566546  0.358276  0.001756\n",
      "2013-01-04 -0.552240 -0.905239 -1.791620  0.802435\n",
      "2013-01-05 -2.117529 -0.786040  0.198402 -1.013035\n",
      "2013-01-06  0.550921 -0.211374 -1.050273  0.878875\n"
     ]
    },
    {
     "data": {
      "text/plain": [
       "A   -0.552240\n",
       "B   -0.905239\n",
       "C   -1.791620\n",
       "D    0.802435\n",
       "Name: 2013-01-04 00:00:00, dtype: float64"
      ]
     },
     "execution_count": 51,
     "metadata": {},
     "output_type": "execute_result"
    }
   ],
   "source": [
    "dates = pd.date_range('20130101', periods=6)\n",
    "df = pd.DataFrame(np.random.randn(6,4), index=dates, columns=list('ABCD'))\n",
    "print(df)\n",
    "df.iloc[3]"
   ]
  },
  {
   "cell_type": "markdown",
   "metadata": {},
   "source": [
    "By integer slices, acting similar to numpy/python"
   ]
  },
  {
   "cell_type": "code",
   "execution_count": 52,
   "metadata": {},
   "outputs": [
    {
     "data": {
      "text/html": [
       "<div>\n",
       "<table border=\"1\" class=\"dataframe\">\n",
       "  <thead>\n",
       "    <tr style=\"text-align: right;\">\n",
       "      <th></th>\n",
       "      <th>A</th>\n",
       "      <th>B</th>\n",
       "    </tr>\n",
       "  </thead>\n",
       "  <tbody>\n",
       "    <tr>\n",
       "      <th>2013-01-04</th>\n",
       "      <td>-0.552240</td>\n",
       "      <td>-0.905239</td>\n",
       "    </tr>\n",
       "    <tr>\n",
       "      <th>2013-01-05</th>\n",
       "      <td>-2.117529</td>\n",
       "      <td>-0.786040</td>\n",
       "    </tr>\n",
       "  </tbody>\n",
       "</table>\n",
       "</div>"
      ],
      "text/plain": [
       "                   A         B\n",
       "2013-01-04 -0.552240 -0.905239\n",
       "2013-01-05 -2.117529 -0.786040"
      ]
     },
     "execution_count": 52,
     "metadata": {},
     "output_type": "execute_result"
    }
   ],
   "source": [
    "df.iloc[3:5,0:2]"
   ]
  },
  {
   "cell_type": "markdown",
   "metadata": {},
   "source": [
    "By lists of integer position locations, similar to the numpy/python style"
   ]
  },
  {
   "cell_type": "code",
   "execution_count": 53,
   "metadata": {},
   "outputs": [
    {
     "data": {
      "text/html": [
       "<div>\n",
       "<table border=\"1\" class=\"dataframe\">\n",
       "  <thead>\n",
       "    <tr style=\"text-align: right;\">\n",
       "      <th></th>\n",
       "      <th>A</th>\n",
       "      <th>C</th>\n",
       "    </tr>\n",
       "  </thead>\n",
       "  <tbody>\n",
       "    <tr>\n",
       "      <th>2013-01-02</th>\n",
       "      <td>0.537712</td>\n",
       "      <td>0.723476</td>\n",
       "    </tr>\n",
       "    <tr>\n",
       "      <th>2013-01-03</th>\n",
       "      <td>1.046858</td>\n",
       "      <td>0.358276</td>\n",
       "    </tr>\n",
       "    <tr>\n",
       "      <th>2013-01-05</th>\n",
       "      <td>-2.117529</td>\n",
       "      <td>0.198402</td>\n",
       "    </tr>\n",
       "  </tbody>\n",
       "</table>\n",
       "</div>"
      ],
      "text/plain": [
       "                   A         C\n",
       "2013-01-02  0.537712  0.723476\n",
       "2013-01-03  1.046858  0.358276\n",
       "2013-01-05 -2.117529  0.198402"
      ]
     },
     "execution_count": 53,
     "metadata": {},
     "output_type": "execute_result"
    }
   ],
   "source": [
    "df.iloc[[1,2,4],[0,2]]"
   ]
  },
  {
   "cell_type": "markdown",
   "metadata": {},
   "source": [
    "For slicing rows explicitly"
   ]
  },
  {
   "cell_type": "code",
   "execution_count": 54,
   "metadata": {},
   "outputs": [
    {
     "data": {
      "text/html": [
       "<div>\n",
       "<table border=\"1\" class=\"dataframe\">\n",
       "  <thead>\n",
       "    <tr style=\"text-align: right;\">\n",
       "      <th></th>\n",
       "      <th>A</th>\n",
       "      <th>B</th>\n",
       "      <th>C</th>\n",
       "      <th>D</th>\n",
       "    </tr>\n",
       "  </thead>\n",
       "  <tbody>\n",
       "    <tr>\n",
       "      <th>2013-01-02</th>\n",
       "      <td>0.537712</td>\n",
       "      <td>-0.080129</td>\n",
       "      <td>0.723476</td>\n",
       "      <td>-1.561783</td>\n",
       "    </tr>\n",
       "    <tr>\n",
       "      <th>2013-01-03</th>\n",
       "      <td>1.046858</td>\n",
       "      <td>-0.566546</td>\n",
       "      <td>0.358276</td>\n",
       "      <td>0.001756</td>\n",
       "    </tr>\n",
       "  </tbody>\n",
       "</table>\n",
       "</div>"
      ],
      "text/plain": [
       "                   A         B         C         D\n",
       "2013-01-02  0.537712 -0.080129  0.723476 -1.561783\n",
       "2013-01-03  1.046858 -0.566546  0.358276  0.001756"
      ]
     },
     "execution_count": 54,
     "metadata": {},
     "output_type": "execute_result"
    }
   ],
   "source": [
    "df.iloc[1:3,:]"
   ]
  },
  {
   "cell_type": "markdown",
   "metadata": {},
   "source": [
    "For slicing columns explicitly"
   ]
  },
  {
   "cell_type": "code",
   "execution_count": 55,
   "metadata": {},
   "outputs": [
    {
     "data": {
      "text/html": [
       "<div>\n",
       "<table border=\"1\" class=\"dataframe\">\n",
       "  <thead>\n",
       "    <tr style=\"text-align: right;\">\n",
       "      <th></th>\n",
       "      <th>B</th>\n",
       "      <th>C</th>\n",
       "    </tr>\n",
       "  </thead>\n",
       "  <tbody>\n",
       "    <tr>\n",
       "      <th>2013-01-01</th>\n",
       "      <td>-0.235115</td>\n",
       "      <td>1.100300</td>\n",
       "    </tr>\n",
       "    <tr>\n",
       "      <th>2013-01-02</th>\n",
       "      <td>-0.080129</td>\n",
       "      <td>0.723476</td>\n",
       "    </tr>\n",
       "    <tr>\n",
       "      <th>2013-01-03</th>\n",
       "      <td>-0.566546</td>\n",
       "      <td>0.358276</td>\n",
       "    </tr>\n",
       "    <tr>\n",
       "      <th>2013-01-04</th>\n",
       "      <td>-0.905239</td>\n",
       "      <td>-1.791620</td>\n",
       "    </tr>\n",
       "    <tr>\n",
       "      <th>2013-01-05</th>\n",
       "      <td>-0.786040</td>\n",
       "      <td>0.198402</td>\n",
       "    </tr>\n",
       "    <tr>\n",
       "      <th>2013-01-06</th>\n",
       "      <td>-0.211374</td>\n",
       "      <td>-1.050273</td>\n",
       "    </tr>\n",
       "  </tbody>\n",
       "</table>\n",
       "</div>"
      ],
      "text/plain": [
       "                   B         C\n",
       "2013-01-01 -0.235115  1.100300\n",
       "2013-01-02 -0.080129  0.723476\n",
       "2013-01-03 -0.566546  0.358276\n",
       "2013-01-04 -0.905239 -1.791620\n",
       "2013-01-05 -0.786040  0.198402\n",
       "2013-01-06 -0.211374 -1.050273"
      ]
     },
     "execution_count": 55,
     "metadata": {},
     "output_type": "execute_result"
    }
   ],
   "source": [
    "df.iloc[:,1:3]"
   ]
  },
  {
   "cell_type": "markdown",
   "metadata": {},
   "source": [
    "For getting a value explicitly"
   ]
  },
  {
   "cell_type": "code",
   "execution_count": 56,
   "metadata": {},
   "outputs": [
    {
     "data": {
      "text/plain": [
       "-0.080128887005997712"
      ]
     },
     "execution_count": 56,
     "metadata": {},
     "output_type": "execute_result"
    }
   ],
   "source": [
    "df.iloc[1,1]"
   ]
  },
  {
   "cell_type": "markdown",
   "metadata": {},
   "source": [
    "For getting fast access to a scalar (equiv to the prior method)"
   ]
  },
  {
   "cell_type": "code",
   "execution_count": 57,
   "metadata": {},
   "outputs": [
    {
     "data": {
      "text/plain": [
       "-0.080128887005997712"
      ]
     },
     "execution_count": 57,
     "metadata": {},
     "output_type": "execute_result"
    }
   ],
   "source": [
    "df.iat[1,1]"
   ]
  },
  {
   "cell_type": "markdown",
   "metadata": {},
   "source": [
    "**Indexing/Selection**\n",
    "\n",
    "<table>\n",
    "<tr><td>Operation</td><td>Syntax</td><td>Result</td></tr>\n",
    "<tr><td>Select column</td><td>df[col]</td><td>Series</td></tr>\n",
    "<tr><td>Select columns by labels</td><td>df[[list of labels]]</td><td>DataFrame</td></tr>\n",
    "<tr><td>Select row by index</td><td>df.loc[index]</td><td>Series</td></tr>\n",
    "<tr><td>Select row by integer location</td><td>df.iloc[loc]</td><td>Series</td></tr>\n",
    "<tr><td>Slice rows</td><td>df[5:10]</td><td>DataFrame</td></tr>\n",
    "<tr><td>Select rows by boolean vector</td><td>df[bool_vec]</td><td>DataFrame</td></tr>\n",
    "<tr><td> Flexible slicing</td><td>df.ix[rowselector, columnselector]</td><td>Variable</td></tr>\n",
    "</table>"
   ]
  },
  {
   "cell_type": "markdown",
   "metadata": {},
   "source": [
    "## Boolean Indexing"
   ]
  },
  {
   "cell_type": "markdown",
   "metadata": {},
   "source": [
    "Using a single column’s values to select data."
   ]
  },
  {
   "cell_type": "code",
   "execution_count": 58,
   "metadata": {
    "scrolled": true
   },
   "outputs": [
    {
     "name": "stdout",
     "output_type": "stream",
     "text": [
      "                   A         B         C         D\n",
      "2013-01-01  0.705646  0.634738  1.651682 -0.146138\n",
      "2013-01-02  1.794577  2.132818  0.030584  0.201896\n",
      "2013-01-03  1.298591 -0.565637  0.655687 -1.401375\n",
      "2013-01-04 -0.495474 -1.115342  0.213850 -0.454800\n",
      "2013-01-05 -0.348213  0.910114  0.008723  0.189823\n",
      "2013-01-06 -0.912059 -0.190638  0.083191 -1.823215\n"
     ]
    },
    {
     "data": {
      "text/html": [
       "<div>\n",
       "<table border=\"1\" class=\"dataframe\">\n",
       "  <thead>\n",
       "    <tr style=\"text-align: right;\">\n",
       "      <th></th>\n",
       "      <th>A</th>\n",
       "      <th>B</th>\n",
       "      <th>C</th>\n",
       "      <th>D</th>\n",
       "    </tr>\n",
       "  </thead>\n",
       "  <tbody>\n",
       "    <tr>\n",
       "      <th>2013-01-01</th>\n",
       "      <td>0.705646</td>\n",
       "      <td>0.634738</td>\n",
       "      <td>1.651682</td>\n",
       "      <td>-0.146138</td>\n",
       "    </tr>\n",
       "    <tr>\n",
       "      <th>2013-01-02</th>\n",
       "      <td>1.794577</td>\n",
       "      <td>2.132818</td>\n",
       "      <td>0.030584</td>\n",
       "      <td>0.201896</td>\n",
       "    </tr>\n",
       "    <tr>\n",
       "      <th>2013-01-03</th>\n",
       "      <td>1.298591</td>\n",
       "      <td>-0.565637</td>\n",
       "      <td>0.655687</td>\n",
       "      <td>-1.401375</td>\n",
       "    </tr>\n",
       "  </tbody>\n",
       "</table>\n",
       "</div>"
      ],
      "text/plain": [
       "                   A         B         C         D\n",
       "2013-01-01  0.705646  0.634738  1.651682 -0.146138\n",
       "2013-01-02  1.794577  2.132818  0.030584  0.201896\n",
       "2013-01-03  1.298591 -0.565637  0.655687 -1.401375"
      ]
     },
     "execution_count": 58,
     "metadata": {},
     "output_type": "execute_result"
    }
   ],
   "source": [
    "dates = pd.date_range('20130101', periods=6)\n",
    "df = pd.DataFrame(np.random.randn(6,4), index=dates, columns=list('ABCD'))\n",
    "print(df)\n",
    "df[df.A > 0]"
   ]
  },
  {
   "cell_type": "markdown",
   "metadata": {},
   "source": [
    "A where operation for getting."
   ]
  },
  {
   "cell_type": "code",
   "execution_count": 59,
   "metadata": {},
   "outputs": [
    {
     "data": {
      "text/html": [
       "<div>\n",
       "<table border=\"1\" class=\"dataframe\">\n",
       "  <thead>\n",
       "    <tr style=\"text-align: right;\">\n",
       "      <th></th>\n",
       "      <th>A</th>\n",
       "      <th>B</th>\n",
       "      <th>C</th>\n",
       "      <th>D</th>\n",
       "    </tr>\n",
       "  </thead>\n",
       "  <tbody>\n",
       "    <tr>\n",
       "      <th>2013-01-01</th>\n",
       "      <td>0.705646</td>\n",
       "      <td>0.634738</td>\n",
       "      <td>1.651682</td>\n",
       "      <td>NaN</td>\n",
       "    </tr>\n",
       "    <tr>\n",
       "      <th>2013-01-02</th>\n",
       "      <td>1.794577</td>\n",
       "      <td>2.132818</td>\n",
       "      <td>0.030584</td>\n",
       "      <td>0.201896</td>\n",
       "    </tr>\n",
       "    <tr>\n",
       "      <th>2013-01-03</th>\n",
       "      <td>1.298591</td>\n",
       "      <td>NaN</td>\n",
       "      <td>0.655687</td>\n",
       "      <td>NaN</td>\n",
       "    </tr>\n",
       "    <tr>\n",
       "      <th>2013-01-04</th>\n",
       "      <td>NaN</td>\n",
       "      <td>NaN</td>\n",
       "      <td>0.213850</td>\n",
       "      <td>NaN</td>\n",
       "    </tr>\n",
       "    <tr>\n",
       "      <th>2013-01-05</th>\n",
       "      <td>NaN</td>\n",
       "      <td>0.910114</td>\n",
       "      <td>0.008723</td>\n",
       "      <td>0.189823</td>\n",
       "    </tr>\n",
       "    <tr>\n",
       "      <th>2013-01-06</th>\n",
       "      <td>NaN</td>\n",
       "      <td>NaN</td>\n",
       "      <td>0.083191</td>\n",
       "      <td>NaN</td>\n",
       "    </tr>\n",
       "  </tbody>\n",
       "</table>\n",
       "</div>"
      ],
      "text/plain": [
       "                   A         B         C         D\n",
       "2013-01-01  0.705646  0.634738  1.651682       NaN\n",
       "2013-01-02  1.794577  2.132818  0.030584  0.201896\n",
       "2013-01-03  1.298591       NaN  0.655687       NaN\n",
       "2013-01-04       NaN       NaN  0.213850       NaN\n",
       "2013-01-05       NaN  0.910114  0.008723  0.189823\n",
       "2013-01-06       NaN       NaN  0.083191       NaN"
      ]
     },
     "execution_count": 59,
     "metadata": {},
     "output_type": "execute_result"
    }
   ],
   "source": [
    "df[df > 0]"
   ]
  },
  {
   "cell_type": "markdown",
   "metadata": {},
   "source": [
    "Using the isin() method for filtering:"
   ]
  },
  {
   "cell_type": "code",
   "execution_count": 60,
   "metadata": {
    "collapsed": true,
    "scrolled": true
   },
   "outputs": [],
   "source": [
    "df2 = df.copy()"
   ]
  },
  {
   "cell_type": "code",
   "execution_count": 61,
   "metadata": {
    "collapsed": true
   },
   "outputs": [],
   "source": [
    "df2['E'] = ['one','one', 'two','three','four','three']"
   ]
  },
  {
   "cell_type": "code",
   "execution_count": 62,
   "metadata": {},
   "outputs": [
    {
     "data": {
      "text/html": [
       "<div>\n",
       "<table border=\"1\" class=\"dataframe\">\n",
       "  <thead>\n",
       "    <tr style=\"text-align: right;\">\n",
       "      <th></th>\n",
       "      <th>A</th>\n",
       "      <th>B</th>\n",
       "      <th>C</th>\n",
       "      <th>D</th>\n",
       "      <th>E</th>\n",
       "    </tr>\n",
       "  </thead>\n",
       "  <tbody>\n",
       "    <tr>\n",
       "      <th>2013-01-01</th>\n",
       "      <td>0.705646</td>\n",
       "      <td>0.634738</td>\n",
       "      <td>1.651682</td>\n",
       "      <td>-0.146138</td>\n",
       "      <td>one</td>\n",
       "    </tr>\n",
       "    <tr>\n",
       "      <th>2013-01-02</th>\n",
       "      <td>1.794577</td>\n",
       "      <td>2.132818</td>\n",
       "      <td>0.030584</td>\n",
       "      <td>0.201896</td>\n",
       "      <td>one</td>\n",
       "    </tr>\n",
       "    <tr>\n",
       "      <th>2013-01-03</th>\n",
       "      <td>1.298591</td>\n",
       "      <td>-0.565637</td>\n",
       "      <td>0.655687</td>\n",
       "      <td>-1.401375</td>\n",
       "      <td>two</td>\n",
       "    </tr>\n",
       "    <tr>\n",
       "      <th>2013-01-04</th>\n",
       "      <td>-0.495474</td>\n",
       "      <td>-1.115342</td>\n",
       "      <td>0.213850</td>\n",
       "      <td>-0.454800</td>\n",
       "      <td>three</td>\n",
       "    </tr>\n",
       "    <tr>\n",
       "      <th>2013-01-05</th>\n",
       "      <td>-0.348213</td>\n",
       "      <td>0.910114</td>\n",
       "      <td>0.008723</td>\n",
       "      <td>0.189823</td>\n",
       "      <td>four</td>\n",
       "    </tr>\n",
       "    <tr>\n",
       "      <th>2013-01-06</th>\n",
       "      <td>-0.912059</td>\n",
       "      <td>-0.190638</td>\n",
       "      <td>0.083191</td>\n",
       "      <td>-1.823215</td>\n",
       "      <td>three</td>\n",
       "    </tr>\n",
       "  </tbody>\n",
       "</table>\n",
       "</div>"
      ],
      "text/plain": [
       "                   A         B         C         D      E\n",
       "2013-01-01  0.705646  0.634738  1.651682 -0.146138    one\n",
       "2013-01-02  1.794577  2.132818  0.030584  0.201896    one\n",
       "2013-01-03  1.298591 -0.565637  0.655687 -1.401375    two\n",
       "2013-01-04 -0.495474 -1.115342  0.213850 -0.454800  three\n",
       "2013-01-05 -0.348213  0.910114  0.008723  0.189823   four\n",
       "2013-01-06 -0.912059 -0.190638  0.083191 -1.823215  three"
      ]
     },
     "execution_count": 62,
     "metadata": {},
     "output_type": "execute_result"
    }
   ],
   "source": [
    "df2"
   ]
  },
  {
   "cell_type": "code",
   "execution_count": 63,
   "metadata": {},
   "outputs": [
    {
     "data": {
      "text/html": [
       "<div>\n",
       "<table border=\"1\" class=\"dataframe\">\n",
       "  <thead>\n",
       "    <tr style=\"text-align: right;\">\n",
       "      <th></th>\n",
       "      <th>A</th>\n",
       "      <th>B</th>\n",
       "      <th>C</th>\n",
       "      <th>D</th>\n",
       "      <th>E</th>\n",
       "    </tr>\n",
       "  </thead>\n",
       "  <tbody>\n",
       "    <tr>\n",
       "      <th>2013-01-03</th>\n",
       "      <td>1.298591</td>\n",
       "      <td>-0.565637</td>\n",
       "      <td>0.655687</td>\n",
       "      <td>-1.401375</td>\n",
       "      <td>two</td>\n",
       "    </tr>\n",
       "    <tr>\n",
       "      <th>2013-01-05</th>\n",
       "      <td>-0.348213</td>\n",
       "      <td>0.910114</td>\n",
       "      <td>0.008723</td>\n",
       "      <td>0.189823</td>\n",
       "      <td>four</td>\n",
       "    </tr>\n",
       "  </tbody>\n",
       "</table>\n",
       "</div>"
      ],
      "text/plain": [
       "                   A         B         C         D     E\n",
       "2013-01-03  1.298591 -0.565637  0.655687 -1.401375   two\n",
       "2013-01-05 -0.348213  0.910114  0.008723  0.189823  four"
      ]
     },
     "execution_count": 63,
     "metadata": {},
     "output_type": "execute_result"
    }
   ],
   "source": [
    "df2[df2['E'].isin(['two','four'])]"
   ]
  },
  {
   "cell_type": "markdown",
   "metadata": {},
   "source": [
    "## Setting"
   ]
  },
  {
   "cell_type": "markdown",
   "metadata": {},
   "source": [
    "Setting a new column automatically aligns the data by the indexes"
   ]
  },
  {
   "cell_type": "code",
   "execution_count": 64,
   "metadata": {
    "collapsed": true
   },
   "outputs": [],
   "source": [
    "s1 = pd.Series([1,2,3,4,5,6], index=pd.date_range('20130102',periods=6))"
   ]
  },
  {
   "cell_type": "code",
   "execution_count": 65,
   "metadata": {},
   "outputs": [
    {
     "data": {
      "text/plain": [
       "2013-01-02    1\n",
       "2013-01-03    2\n",
       "2013-01-04    3\n",
       "2013-01-05    4\n",
       "2013-01-06    5\n",
       "2013-01-07    6\n",
       "Freq: D, dtype: int64"
      ]
     },
     "execution_count": 65,
     "metadata": {},
     "output_type": "execute_result"
    }
   ],
   "source": [
    "s1"
   ]
  },
  {
   "cell_type": "code",
   "execution_count": 66,
   "metadata": {
    "collapsed": true
   },
   "outputs": [],
   "source": [
    "df['F'] = s1"
   ]
  },
  {
   "cell_type": "markdown",
   "metadata": {},
   "source": [
    "Setting values by label"
   ]
  },
  {
   "cell_type": "code",
   "execution_count": 67,
   "metadata": {
    "collapsed": true
   },
   "outputs": [],
   "source": [
    "df.at[dates[0],'A'] = 0"
   ]
  },
  {
   "cell_type": "markdown",
   "metadata": {},
   "source": [
    "Settomg values by position"
   ]
  },
  {
   "cell_type": "code",
   "execution_count": 68,
   "metadata": {
    "collapsed": true
   },
   "outputs": [],
   "source": [
    "df.iat[0,1] = 0"
   ]
  },
  {
   "cell_type": "markdown",
   "metadata": {},
   "source": [
    "Setting by assigning with a numpy array"
   ]
  },
  {
   "cell_type": "code",
   "execution_count": 69,
   "metadata": {
    "collapsed": true
   },
   "outputs": [],
   "source": [
    "df.loc[:,'D'] = np.array([5] * len(df))"
   ]
  },
  {
   "cell_type": "markdown",
   "metadata": {},
   "source": [
    "The result of the prior setting operations"
   ]
  },
  {
   "cell_type": "code",
   "execution_count": 70,
   "metadata": {},
   "outputs": [
    {
     "data": {
      "text/html": [
       "<div>\n",
       "<table border=\"1\" class=\"dataframe\">\n",
       "  <thead>\n",
       "    <tr style=\"text-align: right;\">\n",
       "      <th></th>\n",
       "      <th>A</th>\n",
       "      <th>B</th>\n",
       "      <th>C</th>\n",
       "      <th>D</th>\n",
       "      <th>F</th>\n",
       "    </tr>\n",
       "  </thead>\n",
       "  <tbody>\n",
       "    <tr>\n",
       "      <th>2013-01-01</th>\n",
       "      <td>0.000000</td>\n",
       "      <td>0.000000</td>\n",
       "      <td>1.651682</td>\n",
       "      <td>5</td>\n",
       "      <td>NaN</td>\n",
       "    </tr>\n",
       "    <tr>\n",
       "      <th>2013-01-02</th>\n",
       "      <td>1.794577</td>\n",
       "      <td>2.132818</td>\n",
       "      <td>0.030584</td>\n",
       "      <td>5</td>\n",
       "      <td>1.0</td>\n",
       "    </tr>\n",
       "    <tr>\n",
       "      <th>2013-01-03</th>\n",
       "      <td>1.298591</td>\n",
       "      <td>-0.565637</td>\n",
       "      <td>0.655687</td>\n",
       "      <td>5</td>\n",
       "      <td>2.0</td>\n",
       "    </tr>\n",
       "    <tr>\n",
       "      <th>2013-01-04</th>\n",
       "      <td>-0.495474</td>\n",
       "      <td>-1.115342</td>\n",
       "      <td>0.213850</td>\n",
       "      <td>5</td>\n",
       "      <td>3.0</td>\n",
       "    </tr>\n",
       "    <tr>\n",
       "      <th>2013-01-05</th>\n",
       "      <td>-0.348213</td>\n",
       "      <td>0.910114</td>\n",
       "      <td>0.008723</td>\n",
       "      <td>5</td>\n",
       "      <td>4.0</td>\n",
       "    </tr>\n",
       "    <tr>\n",
       "      <th>2013-01-06</th>\n",
       "      <td>-0.912059</td>\n",
       "      <td>-0.190638</td>\n",
       "      <td>0.083191</td>\n",
       "      <td>5</td>\n",
       "      <td>5.0</td>\n",
       "    </tr>\n",
       "  </tbody>\n",
       "</table>\n",
       "</div>"
      ],
      "text/plain": [
       "                   A         B         C  D    F\n",
       "2013-01-01  0.000000  0.000000  1.651682  5  NaN\n",
       "2013-01-02  1.794577  2.132818  0.030584  5  1.0\n",
       "2013-01-03  1.298591 -0.565637  0.655687  5  2.0\n",
       "2013-01-04 -0.495474 -1.115342  0.213850  5  3.0\n",
       "2013-01-05 -0.348213  0.910114  0.008723  5  4.0\n",
       "2013-01-06 -0.912059 -0.190638  0.083191  5  5.0"
      ]
     },
     "execution_count": 70,
     "metadata": {},
     "output_type": "execute_result"
    }
   ],
   "source": [
    "df"
   ]
  },
  {
   "cell_type": "markdown",
   "metadata": {},
   "source": [
    "A where operation with setting."
   ]
  },
  {
   "cell_type": "code",
   "execution_count": 71,
   "metadata": {
    "collapsed": true
   },
   "outputs": [],
   "source": [
    "df2 = df.copy()"
   ]
  },
  {
   "cell_type": "code",
   "execution_count": 72,
   "metadata": {
    "collapsed": true
   },
   "outputs": [],
   "source": [
    "df2[df2 > 0] = -df2"
   ]
  },
  {
   "cell_type": "code",
   "execution_count": 73,
   "metadata": {},
   "outputs": [
    {
     "data": {
      "text/html": [
       "<div>\n",
       "<table border=\"1\" class=\"dataframe\">\n",
       "  <thead>\n",
       "    <tr style=\"text-align: right;\">\n",
       "      <th></th>\n",
       "      <th>A</th>\n",
       "      <th>B</th>\n",
       "      <th>C</th>\n",
       "      <th>D</th>\n",
       "      <th>F</th>\n",
       "    </tr>\n",
       "  </thead>\n",
       "  <tbody>\n",
       "    <tr>\n",
       "      <th>2013-01-01</th>\n",
       "      <td>0.000000</td>\n",
       "      <td>0.000000</td>\n",
       "      <td>-1.651682</td>\n",
       "      <td>-5</td>\n",
       "      <td>NaN</td>\n",
       "    </tr>\n",
       "    <tr>\n",
       "      <th>2013-01-02</th>\n",
       "      <td>-1.794577</td>\n",
       "      <td>-2.132818</td>\n",
       "      <td>-0.030584</td>\n",
       "      <td>-5</td>\n",
       "      <td>-1.0</td>\n",
       "    </tr>\n",
       "    <tr>\n",
       "      <th>2013-01-03</th>\n",
       "      <td>-1.298591</td>\n",
       "      <td>-0.565637</td>\n",
       "      <td>-0.655687</td>\n",
       "      <td>-5</td>\n",
       "      <td>-2.0</td>\n",
       "    </tr>\n",
       "    <tr>\n",
       "      <th>2013-01-04</th>\n",
       "      <td>-0.495474</td>\n",
       "      <td>-1.115342</td>\n",
       "      <td>-0.213850</td>\n",
       "      <td>-5</td>\n",
       "      <td>-3.0</td>\n",
       "    </tr>\n",
       "    <tr>\n",
       "      <th>2013-01-05</th>\n",
       "      <td>-0.348213</td>\n",
       "      <td>-0.910114</td>\n",
       "      <td>-0.008723</td>\n",
       "      <td>-5</td>\n",
       "      <td>-4.0</td>\n",
       "    </tr>\n",
       "    <tr>\n",
       "      <th>2013-01-06</th>\n",
       "      <td>-0.912059</td>\n",
       "      <td>-0.190638</td>\n",
       "      <td>-0.083191</td>\n",
       "      <td>-5</td>\n",
       "      <td>-5.0</td>\n",
       "    </tr>\n",
       "  </tbody>\n",
       "</table>\n",
       "</div>"
      ],
      "text/plain": [
       "                   A         B         C  D    F\n",
       "2013-01-01  0.000000  0.000000 -1.651682 -5  NaN\n",
       "2013-01-02 -1.794577 -2.132818 -0.030584 -5 -1.0\n",
       "2013-01-03 -1.298591 -0.565637 -0.655687 -5 -2.0\n",
       "2013-01-04 -0.495474 -1.115342 -0.213850 -5 -3.0\n",
       "2013-01-05 -0.348213 -0.910114 -0.008723 -5 -4.0\n",
       "2013-01-06 -0.912059 -0.190638 -0.083191 -5 -5.0"
      ]
     },
     "execution_count": 73,
     "metadata": {},
     "output_type": "execute_result"
    }
   ],
   "source": [
    "df2"
   ]
  },
  {
   "cell_type": "markdown",
   "metadata": {},
   "source": [
    "## Missing Data\n",
    "\n",
    "pandas primarily uses the value np.nan to represent missing data. It is by default not included in computations. See the Missing Data section"
   ]
  },
  {
   "cell_type": "markdown",
   "metadata": {
    "collapsed": true
   },
   "source": [
    "Reindexing allows you to change/add/delete the index on a specified axis. This returns a copy of the data."
   ]
  },
  {
   "cell_type": "code",
   "execution_count": 74,
   "metadata": {
    "collapsed": true
   },
   "outputs": [],
   "source": [
    "df1 = df.reindex(index=dates[0:4], columns=list(df.columns) + ['E'])"
   ]
  },
  {
   "cell_type": "code",
   "execution_count": 75,
   "metadata": {
    "collapsed": true
   },
   "outputs": [],
   "source": [
    "df1.loc[dates[0]:dates[1],'E'] = 1"
   ]
  },
  {
   "cell_type": "code",
   "execution_count": 76,
   "metadata": {},
   "outputs": [
    {
     "data": {
      "text/html": [
       "<div>\n",
       "<table border=\"1\" class=\"dataframe\">\n",
       "  <thead>\n",
       "    <tr style=\"text-align: right;\">\n",
       "      <th></th>\n",
       "      <th>A</th>\n",
       "      <th>B</th>\n",
       "      <th>C</th>\n",
       "      <th>D</th>\n",
       "      <th>F</th>\n",
       "      <th>E</th>\n",
       "    </tr>\n",
       "  </thead>\n",
       "  <tbody>\n",
       "    <tr>\n",
       "      <th>2013-01-01</th>\n",
       "      <td>0.000000</td>\n",
       "      <td>0.000000</td>\n",
       "      <td>1.651682</td>\n",
       "      <td>5</td>\n",
       "      <td>NaN</td>\n",
       "      <td>1.0</td>\n",
       "    </tr>\n",
       "    <tr>\n",
       "      <th>2013-01-02</th>\n",
       "      <td>1.794577</td>\n",
       "      <td>2.132818</td>\n",
       "      <td>0.030584</td>\n",
       "      <td>5</td>\n",
       "      <td>1.0</td>\n",
       "      <td>1.0</td>\n",
       "    </tr>\n",
       "    <tr>\n",
       "      <th>2013-01-03</th>\n",
       "      <td>1.298591</td>\n",
       "      <td>-0.565637</td>\n",
       "      <td>0.655687</td>\n",
       "      <td>5</td>\n",
       "      <td>2.0</td>\n",
       "      <td>NaN</td>\n",
       "    </tr>\n",
       "    <tr>\n",
       "      <th>2013-01-04</th>\n",
       "      <td>-0.495474</td>\n",
       "      <td>-1.115342</td>\n",
       "      <td>0.213850</td>\n",
       "      <td>5</td>\n",
       "      <td>3.0</td>\n",
       "      <td>NaN</td>\n",
       "    </tr>\n",
       "  </tbody>\n",
       "</table>\n",
       "</div>"
      ],
      "text/plain": [
       "                   A         B         C  D    F    E\n",
       "2013-01-01  0.000000  0.000000  1.651682  5  NaN  1.0\n",
       "2013-01-02  1.794577  2.132818  0.030584  5  1.0  1.0\n",
       "2013-01-03  1.298591 -0.565637  0.655687  5  2.0  NaN\n",
       "2013-01-04 -0.495474 -1.115342  0.213850  5  3.0  NaN"
      ]
     },
     "execution_count": 76,
     "metadata": {},
     "output_type": "execute_result"
    }
   ],
   "source": [
    "df1"
   ]
  },
  {
   "cell_type": "markdown",
   "metadata": {},
   "source": [
    "To drop any rows that have missing data."
   ]
  },
  {
   "cell_type": "code",
   "execution_count": 77,
   "metadata": {},
   "outputs": [
    {
     "data": {
      "text/html": [
       "<div>\n",
       "<table border=\"1\" class=\"dataframe\">\n",
       "  <thead>\n",
       "    <tr style=\"text-align: right;\">\n",
       "      <th></th>\n",
       "      <th>A</th>\n",
       "      <th>B</th>\n",
       "      <th>C</th>\n",
       "      <th>D</th>\n",
       "      <th>F</th>\n",
       "      <th>E</th>\n",
       "    </tr>\n",
       "  </thead>\n",
       "  <tbody>\n",
       "    <tr>\n",
       "      <th>2013-01-02</th>\n",
       "      <td>1.794577</td>\n",
       "      <td>2.132818</td>\n",
       "      <td>0.030584</td>\n",
       "      <td>5</td>\n",
       "      <td>1.0</td>\n",
       "      <td>1.0</td>\n",
       "    </tr>\n",
       "  </tbody>\n",
       "</table>\n",
       "</div>"
      ],
      "text/plain": [
       "                   A         B         C  D    F    E\n",
       "2013-01-02  1.794577  2.132818  0.030584  5  1.0  1.0"
      ]
     },
     "execution_count": 77,
     "metadata": {},
     "output_type": "execute_result"
    }
   ],
   "source": [
    "df1.dropna(how='any')"
   ]
  },
  {
   "cell_type": "markdown",
   "metadata": {},
   "source": [
    "Filling missing data"
   ]
  },
  {
   "cell_type": "code",
   "execution_count": 78,
   "metadata": {},
   "outputs": [
    {
     "data": {
      "text/html": [
       "<div>\n",
       "<table border=\"1\" class=\"dataframe\">\n",
       "  <thead>\n",
       "    <tr style=\"text-align: right;\">\n",
       "      <th></th>\n",
       "      <th>A</th>\n",
       "      <th>B</th>\n",
       "      <th>C</th>\n",
       "      <th>D</th>\n",
       "      <th>F</th>\n",
       "      <th>E</th>\n",
       "    </tr>\n",
       "  </thead>\n",
       "  <tbody>\n",
       "    <tr>\n",
       "      <th>2013-01-01</th>\n",
       "      <td>0.000000</td>\n",
       "      <td>0.000000</td>\n",
       "      <td>1.651682</td>\n",
       "      <td>5</td>\n",
       "      <td>5.0</td>\n",
       "      <td>1.0</td>\n",
       "    </tr>\n",
       "    <tr>\n",
       "      <th>2013-01-02</th>\n",
       "      <td>1.794577</td>\n",
       "      <td>2.132818</td>\n",
       "      <td>0.030584</td>\n",
       "      <td>5</td>\n",
       "      <td>1.0</td>\n",
       "      <td>1.0</td>\n",
       "    </tr>\n",
       "    <tr>\n",
       "      <th>2013-01-03</th>\n",
       "      <td>1.298591</td>\n",
       "      <td>-0.565637</td>\n",
       "      <td>0.655687</td>\n",
       "      <td>5</td>\n",
       "      <td>2.0</td>\n",
       "      <td>5.0</td>\n",
       "    </tr>\n",
       "    <tr>\n",
       "      <th>2013-01-04</th>\n",
       "      <td>-0.495474</td>\n",
       "      <td>-1.115342</td>\n",
       "      <td>0.213850</td>\n",
       "      <td>5</td>\n",
       "      <td>3.0</td>\n",
       "      <td>5.0</td>\n",
       "    </tr>\n",
       "  </tbody>\n",
       "</table>\n",
       "</div>"
      ],
      "text/plain": [
       "                   A         B         C  D    F    E\n",
       "2013-01-01  0.000000  0.000000  1.651682  5  5.0  1.0\n",
       "2013-01-02  1.794577  2.132818  0.030584  5  1.0  1.0\n",
       "2013-01-03  1.298591 -0.565637  0.655687  5  2.0  5.0\n",
       "2013-01-04 -0.495474 -1.115342  0.213850  5  3.0  5.0"
      ]
     },
     "execution_count": 78,
     "metadata": {},
     "output_type": "execute_result"
    }
   ],
   "source": [
    "df1.fillna(value=5)"
   ]
  },
  {
   "cell_type": "markdown",
   "metadata": {},
   "source": [
    "To get the boolean mask where values are nan"
   ]
  },
  {
   "cell_type": "code",
   "execution_count": 79,
   "metadata": {},
   "outputs": [
    {
     "data": {
      "text/html": [
       "<div>\n",
       "<table border=\"1\" class=\"dataframe\">\n",
       "  <thead>\n",
       "    <tr style=\"text-align: right;\">\n",
       "      <th></th>\n",
       "      <th>A</th>\n",
       "      <th>B</th>\n",
       "      <th>C</th>\n",
       "      <th>D</th>\n",
       "      <th>F</th>\n",
       "      <th>E</th>\n",
       "    </tr>\n",
       "  </thead>\n",
       "  <tbody>\n",
       "    <tr>\n",
       "      <th>2013-01-01</th>\n",
       "      <td>False</td>\n",
       "      <td>False</td>\n",
       "      <td>False</td>\n",
       "      <td>False</td>\n",
       "      <td>True</td>\n",
       "      <td>False</td>\n",
       "    </tr>\n",
       "    <tr>\n",
       "      <th>2013-01-02</th>\n",
       "      <td>False</td>\n",
       "      <td>False</td>\n",
       "      <td>False</td>\n",
       "      <td>False</td>\n",
       "      <td>False</td>\n",
       "      <td>False</td>\n",
       "    </tr>\n",
       "    <tr>\n",
       "      <th>2013-01-03</th>\n",
       "      <td>False</td>\n",
       "      <td>False</td>\n",
       "      <td>False</td>\n",
       "      <td>False</td>\n",
       "      <td>False</td>\n",
       "      <td>True</td>\n",
       "    </tr>\n",
       "    <tr>\n",
       "      <th>2013-01-04</th>\n",
       "      <td>False</td>\n",
       "      <td>False</td>\n",
       "      <td>False</td>\n",
       "      <td>False</td>\n",
       "      <td>False</td>\n",
       "      <td>True</td>\n",
       "    </tr>\n",
       "  </tbody>\n",
       "</table>\n",
       "</div>"
      ],
      "text/plain": [
       "                A      B      C      D      F      E\n",
       "2013-01-01  False  False  False  False   True  False\n",
       "2013-01-02  False  False  False  False  False  False\n",
       "2013-01-03  False  False  False  False  False   True\n",
       "2013-01-04  False  False  False  False  False   True"
      ]
     },
     "execution_count": 79,
     "metadata": {},
     "output_type": "execute_result"
    }
   ],
   "source": [
    "pd.isnull(df1)"
   ]
  },
  {
   "cell_type": "markdown",
   "metadata": {},
   "source": [
    "## Operations\n",
    "\n",
    "See the [Basic section on Binary Ops](http://pandas.pydata.org/pandas-docs/stable/basics.html#basics-binop)"
   ]
  },
  {
   "cell_type": "markdown",
   "metadata": {},
   "source": [
    "### Stats\n",
    "\n",
    "Descriptive Statistics sumarizes the underlying distribution of data values through statistical values like mean, variance etc.\n",
    "Operations in general exclude missing data.\n",
    "\n",
    "<table>\n",
    "<tr><td>Function</td><td>Description</td>\n",
    "<tr><td>count</td><td>Number of non-null observations</td>\n",
    "<tr><td>sum</td><td>Sum of values</td>\n",
    "<tr><td>mean</td><td>Mean of values</td>\n",
    "<tr><td>mad</td><td>Mean absolute deviation</td>\n",
    "<tr><td>median</td><td>Arithmetic median of values</td>\n",
    "<tr><td>min</td><td>Minimum</td>\n",
    "<tr><td>max</td><td>Maximum</td>\n",
    "<tr><td>mode</td><td>Mode</td>\n",
    "<tr><td>abs</td><td>Absolute Value</td>\n",
    "<tr><td>prod</td><td>Product of values</td>\n",
    "<tr><td>std</td><td>Unbiased standard deviation</td>\n",
    "<tr><td>var</td><td>Unbiased variance</td>\n",
    "<tr><td>skew</td><td>Unbiased skewness (3rd moment)</td>\n",
    "<tr><td>kurt</td><td>Unbiased kurtosis (4th moment)</td>\n",
    "<tr><td>quantile</td><td>Sample quantile (value at %)</td>\n",
    "<tr><td>cumsum</td><td>Cumulative sum</td>\n",
    "<tr><td>cumprod</td><td>Cumulative product</td>\n",
    "<tr><td>cummax</td><td>Cumulative maximum</td>\n",
    "<tr><td>cummin</td><td>Cumulative minimum</td>\n",
    "</table>\n"
   ]
  },
  {
   "cell_type": "markdown",
   "metadata": {},
   "source": [
    "Performing a descriptive statistic"
   ]
  },
  {
   "cell_type": "code",
   "execution_count": 80,
   "metadata": {},
   "outputs": [
    {
     "name": "stderr",
     "output_type": "stream",
     "text": [
      "C:\\Anaconda3\\lib\\site-packages\\numpy\\lib\\function_base.py:3834: RuntimeWarning: Invalid value encountered in percentile\n",
      "  RuntimeWarning)\n"
     ]
    },
    {
     "data": {
      "text/html": [
       "<div>\n",
       "<table border=\"1\" class=\"dataframe\">\n",
       "  <thead>\n",
       "    <tr style=\"text-align: right;\">\n",
       "      <th></th>\n",
       "      <th>A</th>\n",
       "      <th>B</th>\n",
       "      <th>C</th>\n",
       "      <th>D</th>\n",
       "      <th>F</th>\n",
       "    </tr>\n",
       "  </thead>\n",
       "  <tbody>\n",
       "    <tr>\n",
       "      <th>count</th>\n",
       "      <td>6.000000</td>\n",
       "      <td>6.000000</td>\n",
       "      <td>6.000000</td>\n",
       "      <td>6.0</td>\n",
       "      <td>5.000000</td>\n",
       "    </tr>\n",
       "    <tr>\n",
       "      <th>mean</th>\n",
       "      <td>0.222904</td>\n",
       "      <td>0.195219</td>\n",
       "      <td>0.440619</td>\n",
       "      <td>5.0</td>\n",
       "      <td>3.000000</td>\n",
       "    </tr>\n",
       "    <tr>\n",
       "      <th>std</th>\n",
       "      <td>1.077713</td>\n",
       "      <td>1.161795</td>\n",
       "      <td>0.639807</td>\n",
       "      <td>0.0</td>\n",
       "      <td>1.581139</td>\n",
       "    </tr>\n",
       "    <tr>\n",
       "      <th>min</th>\n",
       "      <td>-0.912059</td>\n",
       "      <td>-1.115342</td>\n",
       "      <td>0.008723</td>\n",
       "      <td>5.0</td>\n",
       "      <td>1.000000</td>\n",
       "    </tr>\n",
       "    <tr>\n",
       "      <th>25%</th>\n",
       "      <td>-0.458659</td>\n",
       "      <td>-0.471888</td>\n",
       "      <td>0.043736</td>\n",
       "      <td>5.0</td>\n",
       "      <td>NaN</td>\n",
       "    </tr>\n",
       "    <tr>\n",
       "      <th>50%</th>\n",
       "      <td>-0.174106</td>\n",
       "      <td>-0.095319</td>\n",
       "      <td>0.148521</td>\n",
       "      <td>5.0</td>\n",
       "      <td>NaN</td>\n",
       "    </tr>\n",
       "    <tr>\n",
       "      <th>75%</th>\n",
       "      <td>0.973943</td>\n",
       "      <td>0.682586</td>\n",
       "      <td>0.545228</td>\n",
       "      <td>5.0</td>\n",
       "      <td>NaN</td>\n",
       "    </tr>\n",
       "    <tr>\n",
       "      <th>max</th>\n",
       "      <td>1.794577</td>\n",
       "      <td>2.132818</td>\n",
       "      <td>1.651682</td>\n",
       "      <td>5.0</td>\n",
       "      <td>5.000000</td>\n",
       "    </tr>\n",
       "  </tbody>\n",
       "</table>\n",
       "</div>"
      ],
      "text/plain": [
       "              A         B         C    D         F\n",
       "count  6.000000  6.000000  6.000000  6.0  5.000000\n",
       "mean   0.222904  0.195219  0.440619  5.0  3.000000\n",
       "std    1.077713  1.161795  0.639807  0.0  1.581139\n",
       "min   -0.912059 -1.115342  0.008723  5.0  1.000000\n",
       "25%   -0.458659 -0.471888  0.043736  5.0       NaN\n",
       "50%   -0.174106 -0.095319  0.148521  5.0       NaN\n",
       "75%    0.973943  0.682586  0.545228  5.0       NaN\n",
       "max    1.794577  2.132818  1.651682  5.0  5.000000"
      ]
     },
     "execution_count": 80,
     "metadata": {},
     "output_type": "execute_result"
    }
   ],
   "source": [
    "df.describe()"
   ]
  },
  {
   "cell_type": "code",
   "execution_count": 81,
   "metadata": {},
   "outputs": [
    {
     "data": {
      "text/plain": [
       "A    1.794577\n",
       "B    2.132818\n",
       "C    1.651682\n",
       "D    5.000000\n",
       "F    5.000000\n",
       "dtype: float64"
      ]
     },
     "execution_count": 81,
     "metadata": {},
     "output_type": "execute_result"
    }
   ],
   "source": [
    "df.max()"
   ]
  },
  {
   "cell_type": "code",
   "execution_count": 82,
   "metadata": {},
   "outputs": [
    {
     "data": {
      "text/plain": [
       "A    0.222904\n",
       "B    0.195219\n",
       "C    0.440619\n",
       "D    5.000000\n",
       "F    3.000000\n",
       "dtype: float64"
      ]
     },
     "execution_count": 82,
     "metadata": {},
     "output_type": "execute_result"
    }
   ],
   "source": [
    "df.mean()"
   ]
  },
  {
   "cell_type": "markdown",
   "metadata": {},
   "source": [
    "Same operation on the other axis"
   ]
  },
  {
   "cell_type": "code",
   "execution_count": 83,
   "metadata": {},
   "outputs": [
    {
     "name": "stdout",
     "output_type": "stream",
     "text": [
      "                   A         B         C  D    F\n",
      "2013-01-01  0.000000  0.000000  1.651682  5  NaN\n",
      "2013-01-02  1.794577  2.132818  0.030584  5  1.0\n",
      "2013-01-03  1.298591 -0.565637  0.655687  5  2.0\n",
      "2013-01-04 -0.495474 -1.115342  0.213850  5  3.0\n",
      "2013-01-05 -0.348213  0.910114  0.008723  5  4.0\n",
      "2013-01-06 -0.912059 -0.190638  0.083191  5  5.0\n",
      "A    0.222904\n",
      "B    0.195219\n",
      "C    0.440619\n",
      "D    5.000000\n",
      "F    3.000000\n",
      "dtype: float64\n",
      "2013-01-01    1.662920\n",
      "2013-01-02    1.991596\n",
      "2013-01-03    1.677728\n",
      "2013-01-04    1.320607\n",
      "2013-01-05    1.914125\n",
      "2013-01-06    1.796099\n",
      "Freq: D, dtype: float64\n"
     ]
    }
   ],
   "source": [
    "print(df)\n",
    "print(df.mean(0))\n",
    "print(df.mean(1))"
   ]
  },
  {
   "cell_type": "markdown",
   "metadata": {},
   "source": [
    "Operating with objects that have different dimensionality and need alignment. In addition, pandas automatically broadcasts along the specified dimension."
   ]
  },
  {
   "cell_type": "code",
   "execution_count": 84,
   "metadata": {},
   "outputs": [
    {
     "name": "stdout",
     "output_type": "stream",
     "text": [
      "A   2013-01-02\n",
      "B   2013-01-02\n",
      "C   2013-01-01\n",
      "D   2013-01-01\n",
      "F   2013-01-06\n",
      "dtype: datetime64[ns]\n",
      "============================\n",
      "A   2013-01-06\n",
      "B   2013-01-04\n",
      "C   2013-01-05\n",
      "D   2013-01-01\n",
      "F   2013-01-02\n",
      "dtype: datetime64[ns]\n",
      "============================\n",
      "2013-01-01    D\n",
      "2013-01-02    D\n",
      "2013-01-03    D\n",
      "2013-01-04    D\n",
      "2013-01-05    D\n",
      "2013-01-06    D\n",
      "Freq: D, dtype: object\n",
      "============================\n",
      "2013-01-01    A\n",
      "2013-01-02    C\n",
      "2013-01-03    B\n",
      "2013-01-04    B\n",
      "2013-01-05    A\n",
      "2013-01-06    A\n",
      "Freq: D, dtype: object\n"
     ]
    }
   ],
   "source": [
    "print (df.idxmax(axis=0))\n",
    "print (\"============================\")\n",
    "print (df.idxmin(axis=0))\n",
    "print (\"============================\")\n",
    "print (df.idxmax(axis=1))\n",
    "print (\"============================\")\n",
    "print (df.idxmin(axis=1))"
   ]
  },
  {
   "cell_type": "code",
   "execution_count": 85,
   "metadata": {},
   "outputs": [
    {
     "name": "stdout",
     "output_type": "stream",
     "text": [
      "                   A         B         C  D    F\n",
      "2013-01-01  0.000000  0.000000  1.651682  5  NaN\n",
      "2013-01-02  1.794577  2.132818  0.030584  5  1.0\n",
      "2013-01-03  1.298591 -0.565637  0.655687  5  2.0\n",
      "2013-01-04 -0.495474 -1.115342  0.213850  5  3.0\n",
      "2013-01-05 -0.348213  0.910114  0.008723  5  4.0\n",
      "2013-01-06 -0.912059 -0.190638  0.083191  5  5.0\n",
      "--------------\n",
      "2013-01-02    1.794577\n",
      "2013-01-03    1.298591\n",
      "2013-01-01    0.000000\n",
      "Name: A, dtype: float64\n",
      "--------------\n",
      "DatetimeIndex(['2013-01-02', '2013-01-03', '2013-01-01'], dtype='datetime64[ns]', freq=None)\n"
     ]
    }
   ],
   "source": [
    "print(df)\n",
    "print(\"--------------\")\n",
    "print(df['A'].nlargest(3))\n",
    "print(\"--------------\")\n",
    "print(df['A'].nlargest(3).index)"
   ]
  },
  {
   "cell_type": "markdown",
   "metadata": {},
   "source": [
    "### Apply"
   ]
  },
  {
   "cell_type": "markdown",
   "metadata": {},
   "source": [
    "Applying functions to the data"
   ]
  },
  {
   "cell_type": "code",
   "execution_count": 86,
   "metadata": {},
   "outputs": [
    {
     "data": {
      "text/html": [
       "<div>\n",
       "<table border=\"1\" class=\"dataframe\">\n",
       "  <thead>\n",
       "    <tr style=\"text-align: right;\">\n",
       "      <th></th>\n",
       "      <th>A</th>\n",
       "      <th>B</th>\n",
       "      <th>C</th>\n",
       "      <th>D</th>\n",
       "      <th>F</th>\n",
       "    </tr>\n",
       "  </thead>\n",
       "  <tbody>\n",
       "    <tr>\n",
       "      <th>2013-01-01</th>\n",
       "      <td>0.000000</td>\n",
       "      <td>0.000000</td>\n",
       "      <td>1.651682</td>\n",
       "      <td>5</td>\n",
       "      <td>NaN</td>\n",
       "    </tr>\n",
       "    <tr>\n",
       "      <th>2013-01-02</th>\n",
       "      <td>1.794577</td>\n",
       "      <td>2.132818</td>\n",
       "      <td>1.682266</td>\n",
       "      <td>10</td>\n",
       "      <td>1.0</td>\n",
       "    </tr>\n",
       "    <tr>\n",
       "      <th>2013-01-03</th>\n",
       "      <td>3.093168</td>\n",
       "      <td>1.567181</td>\n",
       "      <td>2.337953</td>\n",
       "      <td>15</td>\n",
       "      <td>3.0</td>\n",
       "    </tr>\n",
       "    <tr>\n",
       "      <th>2013-01-04</th>\n",
       "      <td>2.597694</td>\n",
       "      <td>0.451839</td>\n",
       "      <td>2.551803</td>\n",
       "      <td>20</td>\n",
       "      <td>6.0</td>\n",
       "    </tr>\n",
       "    <tr>\n",
       "      <th>2013-01-05</th>\n",
       "      <td>2.249482</td>\n",
       "      <td>1.361953</td>\n",
       "      <td>2.560525</td>\n",
       "      <td>25</td>\n",
       "      <td>10.0</td>\n",
       "    </tr>\n",
       "    <tr>\n",
       "      <th>2013-01-06</th>\n",
       "      <td>1.337423</td>\n",
       "      <td>1.171314</td>\n",
       "      <td>2.643717</td>\n",
       "      <td>30</td>\n",
       "      <td>15.0</td>\n",
       "    </tr>\n",
       "  </tbody>\n",
       "</table>\n",
       "</div>"
      ],
      "text/plain": [
       "                   A         B         C   D     F\n",
       "2013-01-01  0.000000  0.000000  1.651682   5   NaN\n",
       "2013-01-02  1.794577  2.132818  1.682266  10   1.0\n",
       "2013-01-03  3.093168  1.567181  2.337953  15   3.0\n",
       "2013-01-04  2.597694  0.451839  2.551803  20   6.0\n",
       "2013-01-05  2.249482  1.361953  2.560525  25  10.0\n",
       "2013-01-06  1.337423  1.171314  2.643717  30  15.0"
      ]
     },
     "execution_count": 86,
     "metadata": {},
     "output_type": "execute_result"
    }
   ],
   "source": [
    "df.apply(np.cumsum)"
   ]
  },
  {
   "cell_type": "code",
   "execution_count": 87,
   "metadata": {},
   "outputs": [
    {
     "data": {
      "text/plain": [
       "A    2.706636\n",
       "B    3.248161\n",
       "C    1.642959\n",
       "D    0.000000\n",
       "F    4.000000\n",
       "dtype: float64"
      ]
     },
     "execution_count": 87,
     "metadata": {},
     "output_type": "execute_result"
    }
   ],
   "source": [
    "df.apply(lambda x: x.max() - x.min())"
   ]
  },
  {
   "cell_type": "markdown",
   "metadata": {},
   "source": [
    "### Histogramming\n",
    "\n",
    "See more at [Histogramming and Discretization](http://pandas.pydata.org/pandas-docs/stable/basics.html#basics-discretization)"
   ]
  },
  {
   "cell_type": "code",
   "execution_count": 88,
   "metadata": {
    "collapsed": true
   },
   "outputs": [],
   "source": [
    "s = pd.Series(np.random.randint(0, 7, size=10))"
   ]
  },
  {
   "cell_type": "code",
   "execution_count": 89,
   "metadata": {},
   "outputs": [
    {
     "data": {
      "text/plain": [
       "0    0\n",
       "1    1\n",
       "2    3\n",
       "3    1\n",
       "4    2\n",
       "5    3\n",
       "6    0\n",
       "7    6\n",
       "8    3\n",
       "9    6\n",
       "dtype: int32"
      ]
     },
     "execution_count": 89,
     "metadata": {},
     "output_type": "execute_result"
    }
   ],
   "source": [
    "s"
   ]
  },
  {
   "cell_type": "code",
   "execution_count": 90,
   "metadata": {},
   "outputs": [
    {
     "data": {
      "text/plain": [
       "3    3\n",
       "6    2\n",
       "1    2\n",
       "0    2\n",
       "2    1\n",
       "dtype: int64"
      ]
     },
     "execution_count": 90,
     "metadata": {},
     "output_type": "execute_result"
    }
   ],
   "source": [
    "s.value_counts()"
   ]
  },
  {
   "cell_type": "markdown",
   "metadata": {},
   "source": [
    "### String Methods\n",
    "\n",
    "Series is equipped with a set of string processing methods in the str attribute that make it easy to operate on each element of the array, as in the code snippet below. Note that pattern-matching in str generally uses [regular expressions](https://docs.python.org/2/library/re.html) by default (and in some cases always uses them). See more at [Vectorized String Methods](http://pandas.pydata.org/pandas-docs/stable/text.html#text-string-methods)."
   ]
  },
  {
   "cell_type": "code",
   "execution_count": 91,
   "metadata": {
    "collapsed": true
   },
   "outputs": [],
   "source": [
    "s = pd.Series(['A', 'B', 'C', 'Aaba', 'Baca', np.nan, 'CABA', 'dog', 'cat'])"
   ]
  },
  {
   "cell_type": "code",
   "execution_count": 92,
   "metadata": {},
   "outputs": [
    {
     "data": {
      "text/plain": [
       "0       a\n",
       "1       b\n",
       "2       c\n",
       "3    aaba\n",
       "4    baca\n",
       "5     NaN\n",
       "6    caba\n",
       "7     dog\n",
       "8     cat\n",
       "dtype: object"
      ]
     },
     "execution_count": 92,
     "metadata": {},
     "output_type": "execute_result"
    }
   ],
   "source": [
    "s.str.lower()"
   ]
  },
  {
   "cell_type": "markdown",
   "metadata": {},
   "source": [
    "## Merge"
   ]
  },
  {
   "cell_type": "markdown",
   "metadata": {},
   "source": [
    "### Concat\n",
    "\n",
    "pandas provides various facilities for easily combining together Series, DataFrame, and Panel objects with various kinds of set logic for the indexes and relational algebra functionality in the case of join / merge-type operations.\n",
    "\n",
    "See the [Merging section](http://pandas.pydata.org/pandas-docs/stable/merging.html#merging)"
   ]
  },
  {
   "cell_type": "markdown",
   "metadata": {},
   "source": [
    "Concatenating pandas objects together with concat():"
   ]
  },
  {
   "cell_type": "code",
   "execution_count": 93,
   "metadata": {
    "collapsed": true
   },
   "outputs": [],
   "source": [
    "df = pd.DataFrame(np.random.randn(10, 4))"
   ]
  },
  {
   "cell_type": "code",
   "execution_count": 94,
   "metadata": {},
   "outputs": [
    {
     "data": {
      "text/html": [
       "<div>\n",
       "<table border=\"1\" class=\"dataframe\">\n",
       "  <thead>\n",
       "    <tr style=\"text-align: right;\">\n",
       "      <th></th>\n",
       "      <th>0</th>\n",
       "      <th>1</th>\n",
       "      <th>2</th>\n",
       "      <th>3</th>\n",
       "    </tr>\n",
       "  </thead>\n",
       "  <tbody>\n",
       "    <tr>\n",
       "      <th>0</th>\n",
       "      <td>0.550036</td>\n",
       "      <td>-0.185919</td>\n",
       "      <td>1.469499</td>\n",
       "      <td>0.625923</td>\n",
       "    </tr>\n",
       "    <tr>\n",
       "      <th>1</th>\n",
       "      <td>0.045460</td>\n",
       "      <td>-0.384821</td>\n",
       "      <td>-0.899715</td>\n",
       "      <td>1.239764</td>\n",
       "    </tr>\n",
       "    <tr>\n",
       "      <th>2</th>\n",
       "      <td>0.642308</td>\n",
       "      <td>1.915614</td>\n",
       "      <td>-0.426009</td>\n",
       "      <td>0.718684</td>\n",
       "    </tr>\n",
       "    <tr>\n",
       "      <th>3</th>\n",
       "      <td>1.364584</td>\n",
       "      <td>0.266839</td>\n",
       "      <td>0.046077</td>\n",
       "      <td>-0.267036</td>\n",
       "    </tr>\n",
       "    <tr>\n",
       "      <th>4</th>\n",
       "      <td>-0.218749</td>\n",
       "      <td>0.125312</td>\n",
       "      <td>-0.614855</td>\n",
       "      <td>0.130034</td>\n",
       "    </tr>\n",
       "    <tr>\n",
       "      <th>5</th>\n",
       "      <td>-1.823275</td>\n",
       "      <td>-0.079933</td>\n",
       "      <td>-0.846983</td>\n",
       "      <td>-0.134358</td>\n",
       "    </tr>\n",
       "    <tr>\n",
       "      <th>6</th>\n",
       "      <td>0.686944</td>\n",
       "      <td>-0.064990</td>\n",
       "      <td>1.014363</td>\n",
       "      <td>-0.092315</td>\n",
       "    </tr>\n",
       "    <tr>\n",
       "      <th>7</th>\n",
       "      <td>-0.511748</td>\n",
       "      <td>-0.367585</td>\n",
       "      <td>-0.564792</td>\n",
       "      <td>0.864365</td>\n",
       "    </tr>\n",
       "    <tr>\n",
       "      <th>8</th>\n",
       "      <td>0.081227</td>\n",
       "      <td>-1.650229</td>\n",
       "      <td>0.642771</td>\n",
       "      <td>-0.052878</td>\n",
       "    </tr>\n",
       "    <tr>\n",
       "      <th>9</th>\n",
       "      <td>-0.152797</td>\n",
       "      <td>-1.105561</td>\n",
       "      <td>-1.816486</td>\n",
       "      <td>-0.921722</td>\n",
       "    </tr>\n",
       "  </tbody>\n",
       "</table>\n",
       "</div>"
      ],
      "text/plain": [
       "          0         1         2         3\n",
       "0  0.550036 -0.185919  1.469499  0.625923\n",
       "1  0.045460 -0.384821 -0.899715  1.239764\n",
       "2  0.642308  1.915614 -0.426009  0.718684\n",
       "3  1.364584  0.266839  0.046077 -0.267036\n",
       "4 -0.218749  0.125312 -0.614855  0.130034\n",
       "5 -1.823275 -0.079933 -0.846983 -0.134358\n",
       "6  0.686944 -0.064990  1.014363 -0.092315\n",
       "7 -0.511748 -0.367585 -0.564792  0.864365\n",
       "8  0.081227 -1.650229  0.642771 -0.052878\n",
       "9 -0.152797 -1.105561 -1.816486 -0.921722"
      ]
     },
     "execution_count": 94,
     "metadata": {},
     "output_type": "execute_result"
    }
   ],
   "source": [
    "df"
   ]
  },
  {
   "cell_type": "code",
   "execution_count": 95,
   "metadata": {
    "collapsed": true
   },
   "outputs": [],
   "source": [
    "# break it into pieces\n",
    "pieces = [df[:3], df[5:7], df[8:]]"
   ]
  },
  {
   "cell_type": "code",
   "execution_count": 96,
   "metadata": {},
   "outputs": [
    {
     "data": {
      "text/html": [
       "<div>\n",
       "<table border=\"1\" class=\"dataframe\">\n",
       "  <thead>\n",
       "    <tr style=\"text-align: right;\">\n",
       "      <th></th>\n",
       "      <th>0</th>\n",
       "      <th>1</th>\n",
       "      <th>2</th>\n",
       "      <th>3</th>\n",
       "    </tr>\n",
       "  </thead>\n",
       "  <tbody>\n",
       "    <tr>\n",
       "      <th>0</th>\n",
       "      <td>0.550036</td>\n",
       "      <td>-0.185919</td>\n",
       "      <td>1.469499</td>\n",
       "      <td>0.625923</td>\n",
       "    </tr>\n",
       "    <tr>\n",
       "      <th>1</th>\n",
       "      <td>0.045460</td>\n",
       "      <td>-0.384821</td>\n",
       "      <td>-0.899715</td>\n",
       "      <td>1.239764</td>\n",
       "    </tr>\n",
       "    <tr>\n",
       "      <th>2</th>\n",
       "      <td>0.642308</td>\n",
       "      <td>1.915614</td>\n",
       "      <td>-0.426009</td>\n",
       "      <td>0.718684</td>\n",
       "    </tr>\n",
       "    <tr>\n",
       "      <th>5</th>\n",
       "      <td>-1.823275</td>\n",
       "      <td>-0.079933</td>\n",
       "      <td>-0.846983</td>\n",
       "      <td>-0.134358</td>\n",
       "    </tr>\n",
       "    <tr>\n",
       "      <th>6</th>\n",
       "      <td>0.686944</td>\n",
       "      <td>-0.064990</td>\n",
       "      <td>1.014363</td>\n",
       "      <td>-0.092315</td>\n",
       "    </tr>\n",
       "    <tr>\n",
       "      <th>8</th>\n",
       "      <td>0.081227</td>\n",
       "      <td>-1.650229</td>\n",
       "      <td>0.642771</td>\n",
       "      <td>-0.052878</td>\n",
       "    </tr>\n",
       "    <tr>\n",
       "      <th>9</th>\n",
       "      <td>-0.152797</td>\n",
       "      <td>-1.105561</td>\n",
       "      <td>-1.816486</td>\n",
       "      <td>-0.921722</td>\n",
       "    </tr>\n",
       "  </tbody>\n",
       "</table>\n",
       "</div>"
      ],
      "text/plain": [
       "          0         1         2         3\n",
       "0  0.550036 -0.185919  1.469499  0.625923\n",
       "1  0.045460 -0.384821 -0.899715  1.239764\n",
       "2  0.642308  1.915614 -0.426009  0.718684\n",
       "5 -1.823275 -0.079933 -0.846983 -0.134358\n",
       "6  0.686944 -0.064990  1.014363 -0.092315\n",
       "8  0.081227 -1.650229  0.642771 -0.052878\n",
       "9 -0.152797 -1.105561 -1.816486 -0.921722"
      ]
     },
     "execution_count": 96,
     "metadata": {},
     "output_type": "execute_result"
    }
   ],
   "source": [
    "pd.concat(pieces)"
   ]
  },
  {
   "cell_type": "markdown",
   "metadata": {},
   "source": [
    "### Join\n",
    "\n",
    "SQL style merges. See the [Database style joining](http://pandas.pydata.org/pandas-docs/stable/merging.html#merging-join)"
   ]
  },
  {
   "cell_type": "code",
   "execution_count": 97,
   "metadata": {
    "collapsed": true
   },
   "outputs": [],
   "source": [
    "left = pd.DataFrame({'key': ['foo', 'foo', 'xdd'], 'lval': [1, 2, 3]})"
   ]
  },
  {
   "cell_type": "code",
   "execution_count": 98,
   "metadata": {
    "collapsed": true
   },
   "outputs": [],
   "source": [
    "right = pd.DataFrame({'key': ['foo', 'foo'], 'rval': [4, 5]})"
   ]
  },
  {
   "cell_type": "code",
   "execution_count": 99,
   "metadata": {},
   "outputs": [
    {
     "data": {
      "text/html": [
       "<div>\n",
       "<table border=\"1\" class=\"dataframe\">\n",
       "  <thead>\n",
       "    <tr style=\"text-align: right;\">\n",
       "      <th></th>\n",
       "      <th>key</th>\n",
       "      <th>lval</th>\n",
       "    </tr>\n",
       "  </thead>\n",
       "  <tbody>\n",
       "    <tr>\n",
       "      <th>0</th>\n",
       "      <td>foo</td>\n",
       "      <td>1</td>\n",
       "    </tr>\n",
       "    <tr>\n",
       "      <th>1</th>\n",
       "      <td>foo</td>\n",
       "      <td>2</td>\n",
       "    </tr>\n",
       "    <tr>\n",
       "      <th>2</th>\n",
       "      <td>xdd</td>\n",
       "      <td>3</td>\n",
       "    </tr>\n",
       "  </tbody>\n",
       "</table>\n",
       "</div>"
      ],
      "text/plain": [
       "   key  lval\n",
       "0  foo     1\n",
       "1  foo     2\n",
       "2  xdd     3"
      ]
     },
     "execution_count": 99,
     "metadata": {},
     "output_type": "execute_result"
    }
   ],
   "source": [
    "left"
   ]
  },
  {
   "cell_type": "code",
   "execution_count": 100,
   "metadata": {},
   "outputs": [
    {
     "data": {
      "text/html": [
       "<div>\n",
       "<table border=\"1\" class=\"dataframe\">\n",
       "  <thead>\n",
       "    <tr style=\"text-align: right;\">\n",
       "      <th></th>\n",
       "      <th>key</th>\n",
       "      <th>rval</th>\n",
       "    </tr>\n",
       "  </thead>\n",
       "  <tbody>\n",
       "    <tr>\n",
       "      <th>0</th>\n",
       "      <td>foo</td>\n",
       "      <td>4</td>\n",
       "    </tr>\n",
       "    <tr>\n",
       "      <th>1</th>\n",
       "      <td>foo</td>\n",
       "      <td>5</td>\n",
       "    </tr>\n",
       "  </tbody>\n",
       "</table>\n",
       "</div>"
      ],
      "text/plain": [
       "   key  rval\n",
       "0  foo     4\n",
       "1  foo     5"
      ]
     },
     "execution_count": 100,
     "metadata": {},
     "output_type": "execute_result"
    }
   ],
   "source": [
    "right"
   ]
  },
  {
   "cell_type": "code",
   "execution_count": 101,
   "metadata": {},
   "outputs": [
    {
     "data": {
      "text/html": [
       "<div>\n",
       "<table border=\"1\" class=\"dataframe\">\n",
       "  <thead>\n",
       "    <tr style=\"text-align: right;\">\n",
       "      <th></th>\n",
       "      <th>key</th>\n",
       "      <th>lval</th>\n",
       "      <th>rval</th>\n",
       "    </tr>\n",
       "  </thead>\n",
       "  <tbody>\n",
       "    <tr>\n",
       "      <th>0</th>\n",
       "      <td>foo</td>\n",
       "      <td>1</td>\n",
       "      <td>4</td>\n",
       "    </tr>\n",
       "    <tr>\n",
       "      <th>1</th>\n",
       "      <td>foo</td>\n",
       "      <td>1</td>\n",
       "      <td>5</td>\n",
       "    </tr>\n",
       "    <tr>\n",
       "      <th>2</th>\n",
       "      <td>foo</td>\n",
       "      <td>2</td>\n",
       "      <td>4</td>\n",
       "    </tr>\n",
       "    <tr>\n",
       "      <th>3</th>\n",
       "      <td>foo</td>\n",
       "      <td>2</td>\n",
       "      <td>5</td>\n",
       "    </tr>\n",
       "  </tbody>\n",
       "</table>\n",
       "</div>"
      ],
      "text/plain": [
       "   key  lval  rval\n",
       "0  foo     1     4\n",
       "1  foo     1     5\n",
       "2  foo     2     4\n",
       "3  foo     2     5"
      ]
     },
     "execution_count": 101,
     "metadata": {},
     "output_type": "execute_result"
    }
   ],
   "source": [
    "pd.merge(left, right, on='key')"
   ]
  },
  {
   "cell_type": "markdown",
   "metadata": {},
   "source": [
    "### Append\n",
    "\n",
    "Append rows to a dataframe. See the [Appending](http://pandas.pydata.org/pandas-docs/stable/merging.html#merging-concatenation)"
   ]
  },
  {
   "cell_type": "code",
   "execution_count": 102,
   "metadata": {
    "collapsed": true
   },
   "outputs": [],
   "source": [
    "df = pd.DataFrame(np.random.randn(8, 4), columns=['A','B','C','D'])"
   ]
  },
  {
   "cell_type": "code",
   "execution_count": 103,
   "metadata": {},
   "outputs": [
    {
     "data": {
      "text/html": [
       "<div>\n",
       "<table border=\"1\" class=\"dataframe\">\n",
       "  <thead>\n",
       "    <tr style=\"text-align: right;\">\n",
       "      <th></th>\n",
       "      <th>A</th>\n",
       "      <th>B</th>\n",
       "      <th>C</th>\n",
       "      <th>D</th>\n",
       "    </tr>\n",
       "  </thead>\n",
       "  <tbody>\n",
       "    <tr>\n",
       "      <th>0</th>\n",
       "      <td>1.011871</td>\n",
       "      <td>-0.052026</td>\n",
       "      <td>0.392560</td>\n",
       "      <td>-0.159979</td>\n",
       "    </tr>\n",
       "    <tr>\n",
       "      <th>1</th>\n",
       "      <td>-1.259381</td>\n",
       "      <td>-0.142408</td>\n",
       "      <td>0.455732</td>\n",
       "      <td>-0.473892</td>\n",
       "    </tr>\n",
       "    <tr>\n",
       "      <th>2</th>\n",
       "      <td>-1.359671</td>\n",
       "      <td>0.233836</td>\n",
       "      <td>-0.805248</td>\n",
       "      <td>-0.504191</td>\n",
       "    </tr>\n",
       "    <tr>\n",
       "      <th>3</th>\n",
       "      <td>-0.225526</td>\n",
       "      <td>-0.228384</td>\n",
       "      <td>0.145700</td>\n",
       "      <td>0.689273</td>\n",
       "    </tr>\n",
       "    <tr>\n",
       "      <th>4</th>\n",
       "      <td>0.632779</td>\n",
       "      <td>1.530930</td>\n",
       "      <td>-1.151555</td>\n",
       "      <td>0.224704</td>\n",
       "    </tr>\n",
       "    <tr>\n",
       "      <th>5</th>\n",
       "      <td>-0.188674</td>\n",
       "      <td>-0.320003</td>\n",
       "      <td>0.342527</td>\n",
       "      <td>-0.717718</td>\n",
       "    </tr>\n",
       "    <tr>\n",
       "      <th>6</th>\n",
       "      <td>-1.785604</td>\n",
       "      <td>-0.275191</td>\n",
       "      <td>-1.094706</td>\n",
       "      <td>-1.960194</td>\n",
       "    </tr>\n",
       "    <tr>\n",
       "      <th>7</th>\n",
       "      <td>-1.127343</td>\n",
       "      <td>-0.385273</td>\n",
       "      <td>1.867170</td>\n",
       "      <td>0.432432</td>\n",
       "    </tr>\n",
       "  </tbody>\n",
       "</table>\n",
       "</div>"
      ],
      "text/plain": [
       "          A         B         C         D\n",
       "0  1.011871 -0.052026  0.392560 -0.159979\n",
       "1 -1.259381 -0.142408  0.455732 -0.473892\n",
       "2 -1.359671  0.233836 -0.805248 -0.504191\n",
       "3 -0.225526 -0.228384  0.145700  0.689273\n",
       "4  0.632779  1.530930 -1.151555  0.224704\n",
       "5 -0.188674 -0.320003  0.342527 -0.717718\n",
       "6 -1.785604 -0.275191 -1.094706 -1.960194\n",
       "7 -1.127343 -0.385273  1.867170  0.432432"
      ]
     },
     "execution_count": 103,
     "metadata": {},
     "output_type": "execute_result"
    }
   ],
   "source": [
    "df"
   ]
  },
  {
   "cell_type": "code",
   "execution_count": 104,
   "metadata": {
    "collapsed": true
   },
   "outputs": [],
   "source": [
    "s = df.iloc[3]"
   ]
  },
  {
   "cell_type": "code",
   "execution_count": 105,
   "metadata": {},
   "outputs": [
    {
     "data": {
      "text/html": [
       "<div>\n",
       "<table border=\"1\" class=\"dataframe\">\n",
       "  <thead>\n",
       "    <tr style=\"text-align: right;\">\n",
       "      <th></th>\n",
       "      <th>A</th>\n",
       "      <th>B</th>\n",
       "      <th>C</th>\n",
       "      <th>D</th>\n",
       "    </tr>\n",
       "  </thead>\n",
       "  <tbody>\n",
       "    <tr>\n",
       "      <th>0</th>\n",
       "      <td>1.011871</td>\n",
       "      <td>-0.052026</td>\n",
       "      <td>0.392560</td>\n",
       "      <td>-0.159979</td>\n",
       "    </tr>\n",
       "    <tr>\n",
       "      <th>1</th>\n",
       "      <td>-1.259381</td>\n",
       "      <td>-0.142408</td>\n",
       "      <td>0.455732</td>\n",
       "      <td>-0.473892</td>\n",
       "    </tr>\n",
       "    <tr>\n",
       "      <th>2</th>\n",
       "      <td>-1.359671</td>\n",
       "      <td>0.233836</td>\n",
       "      <td>-0.805248</td>\n",
       "      <td>-0.504191</td>\n",
       "    </tr>\n",
       "    <tr>\n",
       "      <th>3</th>\n",
       "      <td>-0.225526</td>\n",
       "      <td>-0.228384</td>\n",
       "      <td>0.145700</td>\n",
       "      <td>0.689273</td>\n",
       "    </tr>\n",
       "    <tr>\n",
       "      <th>4</th>\n",
       "      <td>0.632779</td>\n",
       "      <td>1.530930</td>\n",
       "      <td>-1.151555</td>\n",
       "      <td>0.224704</td>\n",
       "    </tr>\n",
       "    <tr>\n",
       "      <th>5</th>\n",
       "      <td>-0.188674</td>\n",
       "      <td>-0.320003</td>\n",
       "      <td>0.342527</td>\n",
       "      <td>-0.717718</td>\n",
       "    </tr>\n",
       "    <tr>\n",
       "      <th>6</th>\n",
       "      <td>-1.785604</td>\n",
       "      <td>-0.275191</td>\n",
       "      <td>-1.094706</td>\n",
       "      <td>-1.960194</td>\n",
       "    </tr>\n",
       "    <tr>\n",
       "      <th>7</th>\n",
       "      <td>-1.127343</td>\n",
       "      <td>-0.385273</td>\n",
       "      <td>1.867170</td>\n",
       "      <td>0.432432</td>\n",
       "    </tr>\n",
       "    <tr>\n",
       "      <th>8</th>\n",
       "      <td>-0.225526</td>\n",
       "      <td>-0.228384</td>\n",
       "      <td>0.145700</td>\n",
       "      <td>0.689273</td>\n",
       "    </tr>\n",
       "  </tbody>\n",
       "</table>\n",
       "</div>"
      ],
      "text/plain": [
       "          A         B         C         D\n",
       "0  1.011871 -0.052026  0.392560 -0.159979\n",
       "1 -1.259381 -0.142408  0.455732 -0.473892\n",
       "2 -1.359671  0.233836 -0.805248 -0.504191\n",
       "3 -0.225526 -0.228384  0.145700  0.689273\n",
       "4  0.632779  1.530930 -1.151555  0.224704\n",
       "5 -0.188674 -0.320003  0.342527 -0.717718\n",
       "6 -1.785604 -0.275191 -1.094706 -1.960194\n",
       "7 -1.127343 -0.385273  1.867170  0.432432\n",
       "8 -0.225526 -0.228384  0.145700  0.689273"
      ]
     },
     "execution_count": 105,
     "metadata": {},
     "output_type": "execute_result"
    }
   ],
   "source": [
    "df.append(s, ignore_index=True)"
   ]
  },
  {
   "cell_type": "markdown",
   "metadata": {},
   "source": [
    "## Grouping\n",
    "\n",
    "By “group by” we are referring to a process involving one or more of the following steps\n",
    "\n",
    "* **Splitting** the data into groups based on some criteria\n",
    "* **Applying** a function to each group independently\n",
    "* **Combining** the results into a data structure\n",
    "\n",
    "See the [Grouping section](http://pandas.pydata.org/pandas-docs/stable/groupby.html#groupby)"
   ]
  },
  {
   "cell_type": "code",
   "execution_count": 106,
   "metadata": {
    "collapsed": true
   },
   "outputs": [],
   "source": [
    "df = pd.DataFrame({'A' : ['foo', 'bar', 'foo', 'bar', 'foo', 'bar', 'foo', 'foo'],\n",
    "                                    'B' : ['one', 'one', 'two', 'three','two', 'two', 'one', 'three'],\n",
    "                                    'C' : np.random.randn(8),\n",
    "                                     'D' : np.random.randn(8)})"
   ]
  },
  {
   "cell_type": "code",
   "execution_count": 107,
   "metadata": {},
   "outputs": [
    {
     "data": {
      "text/html": [
       "<div>\n",
       "<table border=\"1\" class=\"dataframe\">\n",
       "  <thead>\n",
       "    <tr style=\"text-align: right;\">\n",
       "      <th></th>\n",
       "      <th>A</th>\n",
       "      <th>B</th>\n",
       "      <th>C</th>\n",
       "      <th>D</th>\n",
       "    </tr>\n",
       "  </thead>\n",
       "  <tbody>\n",
       "    <tr>\n",
       "      <th>0</th>\n",
       "      <td>foo</td>\n",
       "      <td>one</td>\n",
       "      <td>-0.002033</td>\n",
       "      <td>-0.824878</td>\n",
       "    </tr>\n",
       "    <tr>\n",
       "      <th>1</th>\n",
       "      <td>bar</td>\n",
       "      <td>one</td>\n",
       "      <td>1.746879</td>\n",
       "      <td>0.076219</td>\n",
       "    </tr>\n",
       "    <tr>\n",
       "      <th>2</th>\n",
       "      <td>foo</td>\n",
       "      <td>two</td>\n",
       "      <td>1.050509</td>\n",
       "      <td>-0.250460</td>\n",
       "    </tr>\n",
       "    <tr>\n",
       "      <th>3</th>\n",
       "      <td>bar</td>\n",
       "      <td>three</td>\n",
       "      <td>-0.844535</td>\n",
       "      <td>0.811052</td>\n",
       "    </tr>\n",
       "    <tr>\n",
       "      <th>4</th>\n",
       "      <td>foo</td>\n",
       "      <td>two</td>\n",
       "      <td>-1.250490</td>\n",
       "      <td>1.299565</td>\n",
       "    </tr>\n",
       "    <tr>\n",
       "      <th>5</th>\n",
       "      <td>bar</td>\n",
       "      <td>two</td>\n",
       "      <td>0.458673</td>\n",
       "      <td>1.730786</td>\n",
       "    </tr>\n",
       "    <tr>\n",
       "      <th>6</th>\n",
       "      <td>foo</td>\n",
       "      <td>one</td>\n",
       "      <td>0.478245</td>\n",
       "      <td>-0.912892</td>\n",
       "    </tr>\n",
       "    <tr>\n",
       "      <th>7</th>\n",
       "      <td>foo</td>\n",
       "      <td>three</td>\n",
       "      <td>0.071047</td>\n",
       "      <td>1.726777</td>\n",
       "    </tr>\n",
       "  </tbody>\n",
       "</table>\n",
       "</div>"
      ],
      "text/plain": [
       "     A      B         C         D\n",
       "0  foo    one -0.002033 -0.824878\n",
       "1  bar    one  1.746879  0.076219\n",
       "2  foo    two  1.050509 -0.250460\n",
       "3  bar  three -0.844535  0.811052\n",
       "4  foo    two -1.250490  1.299565\n",
       "5  bar    two  0.458673  1.730786\n",
       "6  foo    one  0.478245 -0.912892\n",
       "7  foo  three  0.071047  1.726777"
      ]
     },
     "execution_count": 107,
     "metadata": {},
     "output_type": "execute_result"
    }
   ],
   "source": [
    "df"
   ]
  },
  {
   "cell_type": "markdown",
   "metadata": {},
   "source": [
    "Grouping and then applying a function sum to the resulting groups."
   ]
  },
  {
   "cell_type": "code",
   "execution_count": 108,
   "metadata": {},
   "outputs": [
    {
     "data": {
      "text/html": [
       "<div>\n",
       "<table border=\"1\" class=\"dataframe\">\n",
       "  <thead>\n",
       "    <tr style=\"text-align: right;\">\n",
       "      <th></th>\n",
       "      <th>C</th>\n",
       "      <th>D</th>\n",
       "    </tr>\n",
       "    <tr>\n",
       "      <th>A</th>\n",
       "      <th></th>\n",
       "      <th></th>\n",
       "    </tr>\n",
       "  </thead>\n",
       "  <tbody>\n",
       "    <tr>\n",
       "      <th>bar</th>\n",
       "      <td>1.361017</td>\n",
       "      <td>2.618057</td>\n",
       "    </tr>\n",
       "    <tr>\n",
       "      <th>foo</th>\n",
       "      <td>0.347277</td>\n",
       "      <td>1.038113</td>\n",
       "    </tr>\n",
       "  </tbody>\n",
       "</table>\n",
       "</div>"
      ],
      "text/plain": [
       "            C         D\n",
       "A                      \n",
       "bar  1.361017  2.618057\n",
       "foo  0.347277  1.038113"
      ]
     },
     "execution_count": 108,
     "metadata": {},
     "output_type": "execute_result"
    }
   ],
   "source": [
    "df.groupby('A').sum()"
   ]
  },
  {
   "cell_type": "code",
   "execution_count": 109,
   "metadata": {},
   "outputs": [
    {
     "data": {
      "text/html": [
       "<div>\n",
       "<table border=\"1\" class=\"dataframe\">\n",
       "  <thead>\n",
       "    <tr style=\"text-align: right;\">\n",
       "      <th></th>\n",
       "      <th></th>\n",
       "      <th>C</th>\n",
       "      <th>D</th>\n",
       "    </tr>\n",
       "    <tr>\n",
       "      <th>A</th>\n",
       "      <th>B</th>\n",
       "      <th></th>\n",
       "      <th></th>\n",
       "    </tr>\n",
       "  </thead>\n",
       "  <tbody>\n",
       "    <tr>\n",
       "      <th rowspan=\"3\" valign=\"top\">bar</th>\n",
       "      <th>one</th>\n",
       "      <td>1.746879</td>\n",
       "      <td>0.076219</td>\n",
       "    </tr>\n",
       "    <tr>\n",
       "      <th>three</th>\n",
       "      <td>-0.844535</td>\n",
       "      <td>0.811052</td>\n",
       "    </tr>\n",
       "    <tr>\n",
       "      <th>two</th>\n",
       "      <td>0.458673</td>\n",
       "      <td>1.730786</td>\n",
       "    </tr>\n",
       "    <tr>\n",
       "      <th rowspan=\"3\" valign=\"top\">foo</th>\n",
       "      <th>one</th>\n",
       "      <td>0.476212</td>\n",
       "      <td>-1.737770</td>\n",
       "    </tr>\n",
       "    <tr>\n",
       "      <th>three</th>\n",
       "      <td>0.071047</td>\n",
       "      <td>1.726777</td>\n",
       "    </tr>\n",
       "    <tr>\n",
       "      <th>two</th>\n",
       "      <td>-0.199981</td>\n",
       "      <td>1.049106</td>\n",
       "    </tr>\n",
       "  </tbody>\n",
       "</table>\n",
       "</div>"
      ],
      "text/plain": [
       "                  C         D\n",
       "A   B                        \n",
       "bar one    1.746879  0.076219\n",
       "    three -0.844535  0.811052\n",
       "    two    0.458673  1.730786\n",
       "foo one    0.476212 -1.737770\n",
       "    three  0.071047  1.726777\n",
       "    two   -0.199981  1.049106"
      ]
     },
     "execution_count": 109,
     "metadata": {},
     "output_type": "execute_result"
    }
   ],
   "source": [
    "df.groupby(['A','B']).sum()"
   ]
  },
  {
   "cell_type": "markdown",
   "metadata": {},
   "source": [
    "## Categoricals"
   ]
  },
  {
   "cell_type": "markdown",
   "metadata": {},
   "source": [
    "Since version 0.15, pandas can include categorical data in a DataFrame. For full docs, see the [categorical introduction](http://pandas.pydata.org/pandas-docs/stable/categorical.html#categorical) and the [API documentation](http://pandas.pydata.org/pandas-docs/stable/api.html#api-categorical)."
   ]
  },
  {
   "cell_type": "code",
   "execution_count": 110,
   "metadata": {},
   "outputs": [
    {
     "data": {
      "text/html": [
       "<div>\n",
       "<table border=\"1\" class=\"dataframe\">\n",
       "  <thead>\n",
       "    <tr style=\"text-align: right;\">\n",
       "      <th></th>\n",
       "      <th>id</th>\n",
       "      <th>raw_grade</th>\n",
       "    </tr>\n",
       "  </thead>\n",
       "  <tbody>\n",
       "    <tr>\n",
       "      <th>0</th>\n",
       "      <td>1</td>\n",
       "      <td>a</td>\n",
       "    </tr>\n",
       "    <tr>\n",
       "      <th>1</th>\n",
       "      <td>2</td>\n",
       "      <td>b</td>\n",
       "    </tr>\n",
       "    <tr>\n",
       "      <th>2</th>\n",
       "      <td>3</td>\n",
       "      <td>b</td>\n",
       "    </tr>\n",
       "    <tr>\n",
       "      <th>3</th>\n",
       "      <td>4</td>\n",
       "      <td>a</td>\n",
       "    </tr>\n",
       "    <tr>\n",
       "      <th>4</th>\n",
       "      <td>5</td>\n",
       "      <td>a</td>\n",
       "    </tr>\n",
       "    <tr>\n",
       "      <th>5</th>\n",
       "      <td>6</td>\n",
       "      <td>e</td>\n",
       "    </tr>\n",
       "  </tbody>\n",
       "</table>\n",
       "</div>"
      ],
      "text/plain": [
       "   id raw_grade\n",
       "0   1         a\n",
       "1   2         b\n",
       "2   3         b\n",
       "3   4         a\n",
       "4   5         a\n",
       "5   6         e"
      ]
     },
     "execution_count": 110,
     "metadata": {},
     "output_type": "execute_result"
    }
   ],
   "source": [
    "df = pd.DataFrame({\"id\":[1,2,3,4,5,6], \"raw_grade\":['a', 'b', 'b', 'a', 'a', 'e']})\n",
    "df"
   ]
  },
  {
   "cell_type": "markdown",
   "metadata": {},
   "source": [
    "Convert the raw grades to a categorical data type."
   ]
  },
  {
   "cell_type": "code",
   "execution_count": 111,
   "metadata": {
    "collapsed": true
   },
   "outputs": [],
   "source": [
    "df[\"grade\"] = df[\"raw_grade\"].astype(\"category\")"
   ]
  },
  {
   "cell_type": "code",
   "execution_count": 112,
   "metadata": {},
   "outputs": [
    {
     "data": {
      "text/plain": [
       "0    a\n",
       "1    b\n",
       "2    b\n",
       "3    a\n",
       "4    a\n",
       "5    e\n",
       "Name: grade, dtype: category\n",
       "Categories (3, object): [a, b, e]"
      ]
     },
     "execution_count": 112,
     "metadata": {},
     "output_type": "execute_result"
    }
   ],
   "source": [
    "df[\"grade\"]"
   ]
  },
  {
   "cell_type": "markdown",
   "metadata": {},
   "source": [
    "Rename the categories to more meaningful names (assigning to Series.cat.categories is inplace!)"
   ]
  },
  {
   "cell_type": "code",
   "execution_count": 113,
   "metadata": {},
   "outputs": [
    {
     "data": {
      "text/html": [
       "<div>\n",
       "<table border=\"1\" class=\"dataframe\">\n",
       "  <thead>\n",
       "    <tr style=\"text-align: right;\">\n",
       "      <th></th>\n",
       "      <th>id</th>\n",
       "      <th>raw_grade</th>\n",
       "      <th>grade</th>\n",
       "    </tr>\n",
       "  </thead>\n",
       "  <tbody>\n",
       "    <tr>\n",
       "      <th>0</th>\n",
       "      <td>1</td>\n",
       "      <td>a</td>\n",
       "      <td>very good</td>\n",
       "    </tr>\n",
       "    <tr>\n",
       "      <th>1</th>\n",
       "      <td>2</td>\n",
       "      <td>b</td>\n",
       "      <td>good</td>\n",
       "    </tr>\n",
       "    <tr>\n",
       "      <th>2</th>\n",
       "      <td>3</td>\n",
       "      <td>b</td>\n",
       "      <td>good</td>\n",
       "    </tr>\n",
       "    <tr>\n",
       "      <th>3</th>\n",
       "      <td>4</td>\n",
       "      <td>a</td>\n",
       "      <td>very good</td>\n",
       "    </tr>\n",
       "    <tr>\n",
       "      <th>4</th>\n",
       "      <td>5</td>\n",
       "      <td>a</td>\n",
       "      <td>very good</td>\n",
       "    </tr>\n",
       "    <tr>\n",
       "      <th>5</th>\n",
       "      <td>6</td>\n",
       "      <td>e</td>\n",
       "      <td>very bad</td>\n",
       "    </tr>\n",
       "  </tbody>\n",
       "</table>\n",
       "</div>"
      ],
      "text/plain": [
       "   id raw_grade      grade\n",
       "0   1         a  very good\n",
       "1   2         b       good\n",
       "2   3         b       good\n",
       "3   4         a  very good\n",
       "4   5         a  very good\n",
       "5   6         e   very bad"
      ]
     },
     "execution_count": 113,
     "metadata": {},
     "output_type": "execute_result"
    }
   ],
   "source": [
    "df[\"grade\"].cat.categories = [\"very good\", \"good\", \"very bad\"]\n",
    "df"
   ]
  },
  {
   "cell_type": "markdown",
   "metadata": {},
   "source": [
    "Reorder the categories and simultaneously add the missing categories (methods under Series .cat return a new Series per default)."
   ]
  },
  {
   "cell_type": "code",
   "execution_count": 114,
   "metadata": {
    "collapsed": true
   },
   "outputs": [],
   "source": [
    "df[\"grade\"] = df[\"grade\"].cat.set_categories([\"very bad\", \"bad\", \"medium\", \"good\", \"very good\"])"
   ]
  },
  {
   "cell_type": "code",
   "execution_count": 115,
   "metadata": {},
   "outputs": [
    {
     "data": {
      "text/plain": [
       "0    very good\n",
       "1         good\n",
       "2         good\n",
       "3    very good\n",
       "4    very good\n",
       "5     very bad\n",
       "Name: grade, dtype: category\n",
       "Categories (5, object): [very bad, bad, medium, good, very good]"
      ]
     },
     "execution_count": 115,
     "metadata": {},
     "output_type": "execute_result"
    }
   ],
   "source": [
    "df[\"grade\"]"
   ]
  },
  {
   "cell_type": "markdown",
   "metadata": {},
   "source": [
    "Sorting is per order in the categories, not lexical order."
   ]
  },
  {
   "cell_type": "code",
   "execution_count": 116,
   "metadata": {},
   "outputs": [
    {
     "data": {
      "text/html": [
       "<div>\n",
       "<table border=\"1\" class=\"dataframe\">\n",
       "  <thead>\n",
       "    <tr style=\"text-align: right;\">\n",
       "      <th></th>\n",
       "      <th>id</th>\n",
       "      <th>raw_grade</th>\n",
       "      <th>grade</th>\n",
       "    </tr>\n",
       "  </thead>\n",
       "  <tbody>\n",
       "    <tr>\n",
       "      <th>5</th>\n",
       "      <td>6</td>\n",
       "      <td>e</td>\n",
       "      <td>very bad</td>\n",
       "    </tr>\n",
       "    <tr>\n",
       "      <th>1</th>\n",
       "      <td>2</td>\n",
       "      <td>b</td>\n",
       "      <td>good</td>\n",
       "    </tr>\n",
       "    <tr>\n",
       "      <th>2</th>\n",
       "      <td>3</td>\n",
       "      <td>b</td>\n",
       "      <td>good</td>\n",
       "    </tr>\n",
       "    <tr>\n",
       "      <th>0</th>\n",
       "      <td>1</td>\n",
       "      <td>a</td>\n",
       "      <td>very good</td>\n",
       "    </tr>\n",
       "    <tr>\n",
       "      <th>3</th>\n",
       "      <td>4</td>\n",
       "      <td>a</td>\n",
       "      <td>very good</td>\n",
       "    </tr>\n",
       "    <tr>\n",
       "      <th>4</th>\n",
       "      <td>5</td>\n",
       "      <td>a</td>\n",
       "      <td>very good</td>\n",
       "    </tr>\n",
       "  </tbody>\n",
       "</table>\n",
       "</div>"
      ],
      "text/plain": [
       "   id raw_grade      grade\n",
       "5   6         e   very bad\n",
       "1   2         b       good\n",
       "2   3         b       good\n",
       "0   1         a  very good\n",
       "3   4         a  very good\n",
       "4   5         a  very good"
      ]
     },
     "execution_count": 116,
     "metadata": {},
     "output_type": "execute_result"
    }
   ],
   "source": [
    "df.sort_values(by=\"grade\")"
   ]
  },
  {
   "cell_type": "code",
   "execution_count": 117,
   "metadata": {},
   "outputs": [
    {
     "data": {
      "text/plain": [
       "'a'"
      ]
     },
     "execution_count": 117,
     "metadata": {},
     "output_type": "execute_result"
    }
   ],
   "source": [
    "df.groupby(\"raw_grade\").count().grade.idxmax()"
   ]
  },
  {
   "cell_type": "markdown",
   "metadata": {},
   "source": [
    "Grouping by a categorical column shows also empty categories."
   ]
  },
  {
   "cell_type": "code",
   "execution_count": 118,
   "metadata": {},
   "outputs": [
    {
     "data": {
      "text/plain": [
       "grade\n",
       "very bad     1\n",
       "bad          0\n",
       "medium       0\n",
       "good         2\n",
       "very good    3\n",
       "dtype: int64"
      ]
     },
     "execution_count": 118,
     "metadata": {},
     "output_type": "execute_result"
    }
   ],
   "source": [
    "df.groupby(\"grade\").size()"
   ]
  },
  {
   "cell_type": "markdown",
   "metadata": {},
   "source": [
    "## Plotting\n",
    "[Plotting](http://pandas.pydata.org/pandas-docs/stable/visualization.html#visualization) docs."
   ]
  },
  {
   "cell_type": "code",
   "execution_count": 119,
   "metadata": {
    "collapsed": true
   },
   "outputs": [],
   "source": [
    "import matplotlib.pyplot as plt"
   ]
  },
  {
   "cell_type": "code",
   "execution_count": 120,
   "metadata": {
    "collapsed": true
   },
   "outputs": [],
   "source": [
    "ts = pd.Series(np.random.randn(1000), index=pd.date_range('1/1/2000', periods=1000))"
   ]
  },
  {
   "cell_type": "code",
   "execution_count": 121,
   "metadata": {
    "collapsed": true
   },
   "outputs": [],
   "source": [
    "ts = ts.cumsum()"
   ]
  },
  {
   "cell_type": "code",
   "execution_count": 122,
   "metadata": {},
   "outputs": [
    {
     "data": {
      "text/plain": [
       "<matplotlib.axes._subplots.AxesSubplot at 0x9e93990>"
      ]
     },
     "execution_count": 122,
     "metadata": {},
     "output_type": "execute_result"
    },
    {
     "data": {
      "image/png": "[encoded data removed]",
      "text/plain": [
       "<matplotlib.figure.Figure at 0x9ee7690>"
      ]
     },
     "metadata": {},
     "output_type": "display_data"
    }
   ],
   "source": [
    "ts.plot()"
   ]
  },
  {
   "cell_type": "markdown",
   "metadata": {},
   "source": [
    "On DataFrame, plot() is a convenience to plot all of the columns with labels:"
   ]
  },
  {
   "cell_type": "code",
   "execution_count": 123,
   "metadata": {},
   "outputs": [
    {
     "data": {
      "text/html": [
       "<div>\n",
       "<table border=\"1\" class=\"dataframe\">\n",
       "  <thead>\n",
       "    <tr style=\"text-align: right;\">\n",
       "      <th></th>\n",
       "      <th>A</th>\n",
       "      <th>B</th>\n",
       "      <th>C</th>\n",
       "      <th>D</th>\n",
       "    </tr>\n",
       "  </thead>\n",
       "  <tbody>\n",
       "    <tr>\n",
       "      <th>2000-01-01</th>\n",
       "      <td>-0.713007</td>\n",
       "      <td>-0.084338</td>\n",
       "      <td>0.647622</td>\n",
       "      <td>1.452451</td>\n",
       "    </tr>\n",
       "    <tr>\n",
       "      <th>2000-01-02</th>\n",
       "      <td>-0.530830</td>\n",
       "      <td>-0.942171</td>\n",
       "      <td>0.368401</td>\n",
       "      <td>-0.920158</td>\n",
       "    </tr>\n",
       "    <tr>\n",
       "      <th>2000-01-03</th>\n",
       "      <td>0.300528</td>\n",
       "      <td>-0.161216</td>\n",
       "      <td>0.100045</td>\n",
       "      <td>0.100546</td>\n",
       "    </tr>\n",
       "    <tr>\n",
       "      <th>2000-01-04</th>\n",
       "      <td>0.312465</td>\n",
       "      <td>-0.200005</td>\n",
       "      <td>1.435730</td>\n",
       "      <td>-0.012741</td>\n",
       "    </tr>\n",
       "    <tr>\n",
       "      <th>2000-01-05</th>\n",
       "      <td>-1.185016</td>\n",
       "      <td>0.193386</td>\n",
       "      <td>-2.178312</td>\n",
       "      <td>-1.227718</td>\n",
       "    </tr>\n",
       "    <tr>\n",
       "      <th>2000-01-06</th>\n",
       "      <td>-0.916504</td>\n",
       "      <td>-2.672189</td>\n",
       "      <td>0.116299</td>\n",
       "      <td>-1.204395</td>\n",
       "    </tr>\n",
       "    <tr>\n",
       "      <th>2000-01-07</th>\n",
       "      <td>1.435079</td>\n",
       "      <td>-1.278281</td>\n",
       "      <td>-1.816569</td>\n",
       "      <td>0.926726</td>\n",
       "    </tr>\n",
       "    <tr>\n",
       "      <th>2000-01-08</th>\n",
       "      <td>-1.016803</td>\n",
       "      <td>1.504090</td>\n",
       "      <td>0.767515</td>\n",
       "      <td>0.550354</td>\n",
       "    </tr>\n",
       "    <tr>\n",
       "      <th>2000-01-09</th>\n",
       "      <td>-0.495603</td>\n",
       "      <td>-0.844544</td>\n",
       "      <td>-0.025084</td>\n",
       "      <td>0.879550</td>\n",
       "    </tr>\n",
       "    <tr>\n",
       "      <th>2000-01-10</th>\n",
       "      <td>-0.185857</td>\n",
       "      <td>-3.236483</td>\n",
       "      <td>-0.899114</td>\n",
       "      <td>0.001409</td>\n",
       "    </tr>\n",
       "    <tr>\n",
       "      <th>2000-01-11</th>\n",
       "      <td>0.573264</td>\n",
       "      <td>1.087695</td>\n",
       "      <td>-0.737979</td>\n",
       "      <td>0.954228</td>\n",
       "    </tr>\n",
       "    <tr>\n",
       "      <th>2000-01-12</th>\n",
       "      <td>0.201519</td>\n",
       "      <td>0.658311</td>\n",
       "      <td>-1.067140</td>\n",
       "      <td>-0.576482</td>\n",
       "    </tr>\n",
       "    <tr>\n",
       "      <th>2000-01-13</th>\n",
       "      <td>0.696021</td>\n",
       "      <td>-0.699829</td>\n",
       "      <td>0.667928</td>\n",
       "      <td>-0.572285</td>\n",
       "    </tr>\n",
       "    <tr>\n",
       "      <th>2000-01-14</th>\n",
       "      <td>0.373803</td>\n",
       "      <td>2.205911</td>\n",
       "      <td>1.147291</td>\n",
       "      <td>-0.628833</td>\n",
       "    </tr>\n",
       "    <tr>\n",
       "      <th>2000-01-15</th>\n",
       "      <td>-1.281175</td>\n",
       "      <td>0.177582</td>\n",
       "      <td>-0.569416</td>\n",
       "      <td>-0.188007</td>\n",
       "    </tr>\n",
       "    <tr>\n",
       "      <th>2000-01-16</th>\n",
       "      <td>-1.299511</td>\n",
       "      <td>0.752506</td>\n",
       "      <td>0.627450</td>\n",
       "      <td>1.252150</td>\n",
       "    </tr>\n",
       "    <tr>\n",
       "      <th>2000-01-17</th>\n",
       "      <td>-0.311600</td>\n",
       "      <td>-0.545049</td>\n",
       "      <td>0.107699</td>\n",
       "      <td>-0.943865</td>\n",
       "    </tr>\n",
       "    <tr>\n",
       "      <th>2000-01-18</th>\n",
       "      <td>-2.006523</td>\n",
       "      <td>0.417089</td>\n",
       "      <td>0.919039</td>\n",
       "      <td>-1.009525</td>\n",
       "    </tr>\n",
       "    <tr>\n",
       "      <th>2000-01-19</th>\n",
       "      <td>0.002225</td>\n",
       "      <td>1.299547</td>\n",
       "      <td>-0.252883</td>\n",
       "      <td>1.453823</td>\n",
       "    </tr>\n",
       "    <tr>\n",
       "      <th>2000-01-20</th>\n",
       "      <td>-1.289609</td>\n",
       "      <td>0.204931</td>\n",
       "      <td>-1.100988</td>\n",
       "      <td>0.873169</td>\n",
       "    </tr>\n",
       "    <tr>\n",
       "      <th>2000-01-21</th>\n",
       "      <td>0.198377</td>\n",
       "      <td>-0.727216</td>\n",
       "      <td>-0.832230</td>\n",
       "      <td>-0.460516</td>\n",
       "    </tr>\n",
       "    <tr>\n",
       "      <th>2000-01-22</th>\n",
       "      <td>-0.348421</td>\n",
       "      <td>-1.691586</td>\n",
       "      <td>0.687159</td>\n",
       "      <td>-1.490878</td>\n",
       "    </tr>\n",
       "    <tr>\n",
       "      <th>2000-01-23</th>\n",
       "      <td>0.950959</td>\n",
       "      <td>-0.191574</td>\n",
       "      <td>0.800887</td>\n",
       "      <td>-1.510815</td>\n",
       "    </tr>\n",
       "    <tr>\n",
       "      <th>2000-01-24</th>\n",
       "      <td>-1.093097</td>\n",
       "      <td>-0.129876</td>\n",
       "      <td>-0.987668</td>\n",
       "      <td>-0.778762</td>\n",
       "    </tr>\n",
       "    <tr>\n",
       "      <th>2000-01-25</th>\n",
       "      <td>-1.449591</td>\n",
       "      <td>-0.639711</td>\n",
       "      <td>0.618434</td>\n",
       "      <td>-0.495385</td>\n",
       "    </tr>\n",
       "    <tr>\n",
       "      <th>2000-01-26</th>\n",
       "      <td>1.232134</td>\n",
       "      <td>0.909356</td>\n",
       "      <td>-0.609675</td>\n",
       "      <td>-0.456790</td>\n",
       "    </tr>\n",
       "    <tr>\n",
       "      <th>2000-01-27</th>\n",
       "      <td>-0.311482</td>\n",
       "      <td>0.458827</td>\n",
       "      <td>0.525813</td>\n",
       "      <td>1.050386</td>\n",
       "    </tr>\n",
       "    <tr>\n",
       "      <th>2000-01-28</th>\n",
       "      <td>-1.657357</td>\n",
       "      <td>-0.253890</td>\n",
       "      <td>-1.693465</td>\n",
       "      <td>0.624803</td>\n",
       "    </tr>\n",
       "    <tr>\n",
       "      <th>2000-01-29</th>\n",
       "      <td>0.669630</td>\n",
       "      <td>0.742548</td>\n",
       "      <td>0.009961</td>\n",
       "      <td>1.434004</td>\n",
       "    </tr>\n",
       "    <tr>\n",
       "      <th>2000-01-30</th>\n",
       "      <td>-0.726932</td>\n",
       "      <td>-0.336678</td>\n",
       "      <td>-0.258580</td>\n",
       "      <td>-2.247032</td>\n",
       "    </tr>\n",
       "    <tr>\n",
       "      <th>...</th>\n",
       "      <td>...</td>\n",
       "      <td>...</td>\n",
       "      <td>...</td>\n",
       "      <td>...</td>\n",
       "    </tr>\n",
       "    <tr>\n",
       "      <th>2002-08-28</th>\n",
       "      <td>1.561090</td>\n",
       "      <td>-0.373543</td>\n",
       "      <td>-1.087330</td>\n",
       "      <td>-0.336260</td>\n",
       "    </tr>\n",
       "    <tr>\n",
       "      <th>2002-08-29</th>\n",
       "      <td>0.089334</td>\n",
       "      <td>0.074980</td>\n",
       "      <td>-0.838678</td>\n",
       "      <td>-0.532732</td>\n",
       "    </tr>\n",
       "    <tr>\n",
       "      <th>2002-08-30</th>\n",
       "      <td>-0.771779</td>\n",
       "      <td>0.244803</td>\n",
       "      <td>0.182180</td>\n",
       "      <td>-2.113807</td>\n",
       "    </tr>\n",
       "    <tr>\n",
       "      <th>2002-08-31</th>\n",
       "      <td>-0.675372</td>\n",
       "      <td>-0.812647</td>\n",
       "      <td>-0.229654</td>\n",
       "      <td>0.968793</td>\n",
       "    </tr>\n",
       "    <tr>\n",
       "      <th>2002-09-01</th>\n",
       "      <td>0.730150</td>\n",
       "      <td>1.085435</td>\n",
       "      <td>-0.837830</td>\n",
       "      <td>-0.446080</td>\n",
       "    </tr>\n",
       "    <tr>\n",
       "      <th>2002-09-02</th>\n",
       "      <td>0.015125</td>\n",
       "      <td>0.064139</td>\n",
       "      <td>-0.737155</td>\n",
       "      <td>0.174528</td>\n",
       "    </tr>\n",
       "    <tr>\n",
       "      <th>2002-09-03</th>\n",
       "      <td>0.157733</td>\n",
       "      <td>1.110022</td>\n",
       "      <td>1.306779</td>\n",
       "      <td>-0.896068</td>\n",
       "    </tr>\n",
       "    <tr>\n",
       "      <th>2002-09-04</th>\n",
       "      <td>1.447855</td>\n",
       "      <td>-0.451521</td>\n",
       "      <td>-2.133767</td>\n",
       "      <td>1.827230</td>\n",
       "    </tr>\n",
       "    <tr>\n",
       "      <th>2002-09-05</th>\n",
       "      <td>0.342784</td>\n",
       "      <td>0.918926</td>\n",
       "      <td>1.871029</td>\n",
       "      <td>-0.071590</td>\n",
       "    </tr>\n",
       "    <tr>\n",
       "      <th>2002-09-06</th>\n",
       "      <td>-1.173730</td>\n",
       "      <td>-1.252945</td>\n",
       "      <td>-0.176197</td>\n",
       "      <td>0.489557</td>\n",
       "    </tr>\n",
       "    <tr>\n",
       "      <th>2002-09-07</th>\n",
       "      <td>-2.226304</td>\n",
       "      <td>0.240481</td>\n",
       "      <td>0.351279</td>\n",
       "      <td>-1.166335</td>\n",
       "    </tr>\n",
       "    <tr>\n",
       "      <th>2002-09-08</th>\n",
       "      <td>-0.825062</td>\n",
       "      <td>0.075457</td>\n",
       "      <td>2.126769</td>\n",
       "      <td>-0.367614</td>\n",
       "    </tr>\n",
       "    <tr>\n",
       "      <th>2002-09-09</th>\n",
       "      <td>0.182107</td>\n",
       "      <td>-0.741830</td>\n",
       "      <td>-1.007374</td>\n",
       "      <td>-0.342473</td>\n",
       "    </tr>\n",
       "    <tr>\n",
       "      <th>2002-09-10</th>\n",
       "      <td>-0.421562</td>\n",
       "      <td>-0.599532</td>\n",
       "      <td>-1.768726</td>\n",
       "      <td>0.308713</td>\n",
       "    </tr>\n",
       "    <tr>\n",
       "      <th>2002-09-11</th>\n",
       "      <td>-0.349629</td>\n",
       "      <td>-0.712406</td>\n",
       "      <td>0.729185</td>\n",
       "      <td>1.390201</td>\n",
       "    </tr>\n",
       "    <tr>\n",
       "      <th>2002-09-12</th>\n",
       "      <td>1.004823</td>\n",
       "      <td>1.113822</td>\n",
       "      <td>-0.673259</td>\n",
       "      <td>-1.385052</td>\n",
       "    </tr>\n",
       "    <tr>\n",
       "      <th>2002-09-13</th>\n",
       "      <td>-1.457380</td>\n",
       "      <td>1.013543</td>\n",
       "      <td>-0.018150</td>\n",
       "      <td>0.476672</td>\n",
       "    </tr>\n",
       "    <tr>\n",
       "      <th>2002-09-14</th>\n",
       "      <td>-1.193417</td>\n",
       "      <td>-1.208938</td>\n",
       "      <td>0.132752</td>\n",
       "      <td>0.590523</td>\n",
       "    </tr>\n",
       "    <tr>\n",
       "      <th>2002-09-15</th>\n",
       "      <td>1.022479</td>\n",
       "      <td>-0.271013</td>\n",
       "      <td>1.811367</td>\n",
       "      <td>0.096016</td>\n",
       "    </tr>\n",
       "    <tr>\n",
       "      <th>2002-09-16</th>\n",
       "      <td>-1.143662</td>\n",
       "      <td>0.304358</td>\n",
       "      <td>0.668346</td>\n",
       "      <td>-0.493364</td>\n",
       "    </tr>\n",
       "    <tr>\n",
       "      <th>2002-09-17</th>\n",
       "      <td>0.830880</td>\n",
       "      <td>0.443414</td>\n",
       "      <td>-0.458385</td>\n",
       "      <td>-0.128349</td>\n",
       "    </tr>\n",
       "    <tr>\n",
       "      <th>2002-09-18</th>\n",
       "      <td>0.214894</td>\n",
       "      <td>-0.223447</td>\n",
       "      <td>-0.034413</td>\n",
       "      <td>-0.202947</td>\n",
       "    </tr>\n",
       "    <tr>\n",
       "      <th>2002-09-19</th>\n",
       "      <td>-0.855925</td>\n",
       "      <td>0.460497</td>\n",
       "      <td>0.464526</td>\n",
       "      <td>1.815439</td>\n",
       "    </tr>\n",
       "    <tr>\n",
       "      <th>2002-09-20</th>\n",
       "      <td>-1.492395</td>\n",
       "      <td>0.200850</td>\n",
       "      <td>-0.245184</td>\n",
       "      <td>-0.920483</td>\n",
       "    </tr>\n",
       "    <tr>\n",
       "      <th>2002-09-21</th>\n",
       "      <td>-1.766928</td>\n",
       "      <td>-1.128652</td>\n",
       "      <td>-1.101242</td>\n",
       "      <td>-0.195595</td>\n",
       "    </tr>\n",
       "    <tr>\n",
       "      <th>2002-09-22</th>\n",
       "      <td>-0.784123</td>\n",
       "      <td>-0.502722</td>\n",
       "      <td>0.473614</td>\n",
       "      <td>-1.569788</td>\n",
       "    </tr>\n",
       "    <tr>\n",
       "      <th>2002-09-23</th>\n",
       "      <td>-0.752533</td>\n",
       "      <td>-0.362813</td>\n",
       "      <td>0.013332</td>\n",
       "      <td>0.023677</td>\n",
       "    </tr>\n",
       "    <tr>\n",
       "      <th>2002-09-24</th>\n",
       "      <td>-1.361141</td>\n",
       "      <td>-0.270865</td>\n",
       "      <td>0.673466</td>\n",
       "      <td>-0.757924</td>\n",
       "    </tr>\n",
       "    <tr>\n",
       "      <th>2002-09-25</th>\n",
       "      <td>-0.550214</td>\n",
       "      <td>-2.299370</td>\n",
       "      <td>0.815264</td>\n",
       "      <td>0.118195</td>\n",
       "    </tr>\n",
       "    <tr>\n",
       "      <th>2002-09-26</th>\n",
       "      <td>-0.325388</td>\n",
       "      <td>0.080085</td>\n",
       "      <td>-0.775908</td>\n",
       "      <td>-0.059068</td>\n",
       "    </tr>\n",
       "  </tbody>\n",
       "</table>\n",
       "<p>1000 rows × 4 columns</p>\n",
       "</div>"
      ],
      "text/plain": [
       "                   A         B         C         D\n",
       "2000-01-01 -0.713007 -0.084338  0.647622  1.452451\n",
       "2000-01-02 -0.530830 -0.942171  0.368401 -0.920158\n",
       "2000-01-03  0.300528 -0.161216  0.100045  0.100546\n",
       "2000-01-04  0.312465 -0.200005  1.435730 -0.012741\n",
       "2000-01-05 -1.185016  0.193386 -2.178312 -1.227718\n",
       "2000-01-06 -0.916504 -2.672189  0.116299 -1.204395\n",
       "2000-01-07  1.435079 -1.278281 -1.816569  0.926726\n",
       "2000-01-08 -1.016803  1.504090  0.767515  0.550354\n",
       "2000-01-09 -0.495603 -0.844544 -0.025084  0.879550\n",
       "2000-01-10 -0.185857 -3.236483 -0.899114  0.001409\n",
       "2000-01-11  0.573264  1.087695 -0.737979  0.954228\n",
       "2000-01-12  0.201519  0.658311 -1.067140 -0.576482\n",
       "2000-01-13  0.696021 -0.699829  0.667928 -0.572285\n",
       "2000-01-14  0.373803  2.205911  1.147291 -0.628833\n",
       "2000-01-15 -1.281175  0.177582 -0.569416 -0.188007\n",
       "2000-01-16 -1.299511  0.752506  0.627450  1.252150\n",
       "2000-01-17 -0.311600 -0.545049  0.107699 -0.943865\n",
       "2000-01-18 -2.006523  0.417089  0.919039 -1.009525\n",
       "2000-01-19  0.002225  1.299547 -0.252883  1.453823\n",
       "2000-01-20 -1.289609  0.204931 -1.100988  0.873169\n",
       "2000-01-21  0.198377 -0.727216 -0.832230 -0.460516\n",
       "2000-01-22 -0.348421 -1.691586  0.687159 -1.490878\n",
       "2000-01-23  0.950959 -0.191574  0.800887 -1.510815\n",
       "2000-01-24 -1.093097 -0.129876 -0.987668 -0.778762\n",
       "2000-01-25 -1.449591 -0.639711  0.618434 -0.495385\n",
       "2000-01-26  1.232134  0.909356 -0.609675 -0.456790\n",
       "2000-01-27 -0.311482  0.458827  0.525813  1.050386\n",
       "2000-01-28 -1.657357 -0.253890 -1.693465  0.624803\n",
       "2000-01-29  0.669630  0.742548  0.009961  1.434004\n",
       "2000-01-30 -0.726932 -0.336678 -0.258580 -2.247032\n",
       "...              ...       ...       ...       ...\n",
       "2002-08-28  1.561090 -0.373543 -1.087330 -0.336260\n",
       "2002-08-29  0.089334  0.074980 -0.838678 -0.532732\n",
       "2002-08-30 -0.771779  0.244803  0.182180 -2.113807\n",
       "2002-08-31 -0.675372 -0.812647 -0.229654  0.968793\n",
       "2002-09-01  0.730150  1.085435 -0.837830 -0.446080\n",
       "2002-09-02  0.015125  0.064139 -0.737155  0.174528\n",
       "2002-09-03  0.157733  1.110022  1.306779 -0.896068\n",
       "2002-09-04  1.447855 -0.451521 -2.133767  1.827230\n",
       "2002-09-05  0.342784  0.918926  1.871029 -0.071590\n",
       "2002-09-06 -1.173730 -1.252945 -0.176197  0.489557\n",
       "2002-09-07 -2.226304  0.240481  0.351279 -1.166335\n",
       "2002-09-08 -0.825062  0.075457  2.126769 -0.367614\n",
       "2002-09-09  0.182107 -0.741830 -1.007374 -0.342473\n",
       "2002-09-10 -0.421562 -0.599532 -1.768726  0.308713\n",
       "2002-09-11 -0.349629 -0.712406  0.729185  1.390201\n",
       "2002-09-12  1.004823  1.113822 -0.673259 -1.385052\n",
       "2002-09-13 -1.457380  1.013543 -0.018150  0.476672\n",
       "2002-09-14 -1.193417 -1.208938  0.132752  0.590523\n",
       "2002-09-15  1.022479 -0.271013  1.811367  0.096016\n",
       "2002-09-16 -1.143662  0.304358  0.668346 -0.493364\n",
       "2002-09-17  0.830880  0.443414 -0.458385 -0.128349\n",
       "2002-09-18  0.214894 -0.223447 -0.034413 -0.202947\n",
       "2002-09-19 -0.855925  0.460497  0.464526  1.815439\n",
       "2002-09-20 -1.492395  0.200850 -0.245184 -0.920483\n",
       "2002-09-21 -1.766928 -1.128652 -1.101242 -0.195595\n",
       "2002-09-22 -0.784123 -0.502722  0.473614 -1.569788\n",
       "2002-09-23 -0.752533 -0.362813  0.013332  0.023677\n",
       "2002-09-24 -1.361141 -0.270865  0.673466 -0.757924\n",
       "2002-09-25 -0.550214 -2.299370  0.815264  0.118195\n",
       "2002-09-26 -0.325388  0.080085 -0.775908 -0.059068\n",
       "\n",
       "[1000 rows x 4 columns]"
      ]
     },
     "execution_count": 123,
     "metadata": {},
     "output_type": "execute_result"
    }
   ],
   "source": [
    "df = pd.DataFrame(np.random.randn(1000, 4), index=ts.index,\n",
    "                  columns=['A', 'B', 'C', 'D'])\n",
    "df"
   ]
  },
  {
   "cell_type": "code",
   "execution_count": 124,
   "metadata": {
    "collapsed": true
   },
   "outputs": [],
   "source": [
    "df = df.cumsum()"
   ]
  },
  {
   "cell_type": "code",
   "execution_count": 125,
   "metadata": {},
   "outputs": [
    {
     "data": {
      "text/plain": [
       "<matplotlib.legend.Legend at 0xb392730>"
      ]
     },
     "execution_count": 125,
     "metadata": {},
     "output_type": "execute_result"
    },
    {
     "data": {
      "text/plain": [
       "<matplotlib.figure.Figure at 0x9ee76b0>"
      ]
     },
     "metadata": {},
     "output_type": "display_data"
    },
    {
     "data": {
      "image/png": "[encoded data removed]",
      "text/plain": [
       "<matplotlib.figure.Figure at 0xb392890>"
      ]
     },
     "metadata": {},
     "output_type": "display_data"
    }
   ],
   "source": [
    "plt.figure()\n",
    "df.plot()\n",
    "plt.legend(loc='best')"
   ]
  },
  {
   "cell_type": "markdown",
   "metadata": {},
   "source": [
    "Changing the plot `kind`\n",
    "\n",
    "The keyword argument `kind` of the plot function allows to change the plot type.\n",
    "\n",
    "Available types are:\n",
    "\n",
    "* `bar` or  `barh` for bar plots\n",
    "* `kde` or `density` for density plots\n",
    "* `area` for area plots\n",
    "* `scatter` for scater plots\n",
    "* `hexbin` for hexagonal bin plots\n",
    "* `pie` for pie pots\n",
    "\n",
    "In addition to these `kind`'s, there are the `DataFrame.hist()`, and `DataFrame.boxplot()` methods, which use a separate interface.\n",
    "\n",
    "Finally, there are several plotting functions in `pandas.tools.plotting`:\n",
    "* Scatter Matrix\n",
    "* Andrews Curves\n",
    "* Parallel Coordinates\n",
    "* Lag Plot\n",
    "* Autocorrelation Plot\n",
    "* Bootstrap Plot\n",
    "* RadViz\n"
   ]
  },
  {
   "cell_type": "markdown",
   "metadata": {},
   "source": [
    "#### Bar Plots"
   ]
  },
  {
   "cell_type": "code",
   "execution_count": 126,
   "metadata": {},
   "outputs": [
    {
     "data": {
      "text/plain": [
       "<matplotlib.lines.Line2D at 0xa01c410>"
      ]
     },
     "execution_count": 126,
     "metadata": {},
     "output_type": "execute_result"
    },
    {
     "data": {
      "image/png": "[encoded data removed]",
      "text/plain": [
       "<matplotlib.figure.Figure at 0xa00ac90>"
      ]
     },
     "metadata": {},
     "output_type": "display_data"
    }
   ],
   "source": [
    "df.iloc[5].plot(kind='bar')\n",
    "plt.axhline(0, color='k') "
   ]
  },
  {
   "cell_type": "code",
   "execution_count": 127,
   "metadata": {},
   "outputs": [
    {
     "data": {
      "image/png": "[encoded data removed]",
      "text/plain": [
       "<matplotlib.figure.Figure at 0x9f8a6d0>"
      ]
     },
     "metadata": {},
     "output_type": "display_data"
    }
   ],
   "source": [
    "df2 = pd.DataFrame(np.random.rand(10, 4), columns=['a', 'b', 'c', 'd'])\n",
    "df2.plot(kind='bar');"
   ]
  },
  {
   "cell_type": "code",
   "execution_count": 128,
   "metadata": {},
   "outputs": [
    {
     "data": {
      "text/plain": [
       "<matplotlib.axes._subplots.AxesSubplot at 0x9f8ec30>"
      ]
     },
     "execution_count": 128,
     "metadata": {},
     "output_type": "execute_result"
    },
    {
     "data": {
      "image/png": "[encoded data removed]",
      "text/plain": [
       "<matplotlib.figure.Figure at 0x9f46a70>"
      ]
     },
     "metadata": {},
     "output_type": "display_data"
    }
   ],
   "source": [
    "#stacked\n",
    "df2.plot(kind='bar',stacked=True)"
   ]
  },
  {
   "cell_type": "code",
   "execution_count": 129,
   "metadata": {},
   "outputs": [
    {
     "data": {
      "text/plain": [
       "<matplotlib.axes._subplots.AxesSubplot at 0xb404e70>"
      ]
     },
     "execution_count": 129,
     "metadata": {},
     "output_type": "execute_result"
    },
    {
     "data": {
      "image/png": "[encoded data removed]",
      "text/plain": [
       "<matplotlib.figure.Figure at 0x9f8ac90>"
      ]
     },
     "metadata": {},
     "output_type": "display_data"
    }
   ],
   "source": [
    "#stacked horizontal\n",
    "df2.plot(kind='barh',stacked=True)"
   ]
  },
  {
   "cell_type": "markdown",
   "metadata": {},
   "source": [
    "#### Histograms"
   ]
  },
  {
   "cell_type": "code",
   "execution_count": 130,
   "metadata": {},
   "outputs": [
    {
     "name": "stdout",
     "output_type": "stream",
     "text": [
      "2000-01-01         NaN\n",
      "2000-01-02   -0.530830\n",
      "2000-01-03    0.300528\n",
      "2000-01-04    0.312465\n",
      "2000-01-05   -1.185016\n",
      "2000-01-06   -0.916504\n",
      "2000-01-07    1.435079\n",
      "2000-01-08   -1.016803\n",
      "2000-01-09   -0.495603\n",
      "2000-01-10   -0.185857\n",
      "2000-01-11    0.573264\n",
      "2000-01-12    0.201519\n",
      "2000-01-13    0.696021\n",
      "2000-01-14    0.373803\n",
      "2000-01-15   -1.281175\n",
      "2000-01-16   -1.299511\n",
      "2000-01-17   -0.311600\n",
      "2000-01-18   -2.006523\n",
      "2000-01-19    0.002225\n",
      "2000-01-20   -1.289609\n",
      "2000-01-21    0.198377\n",
      "2000-01-22   -0.348421\n",
      "2000-01-23    0.950959\n",
      "2000-01-24   -1.093097\n",
      "2000-01-25   -1.449591\n",
      "2000-01-26    1.232134\n",
      "2000-01-27   -0.311482\n",
      "2000-01-28   -1.657357\n",
      "2000-01-29    0.669630\n",
      "2000-01-30   -0.726932\n",
      "                ...   \n",
      "2002-08-28    1.561090\n",
      "2002-08-29    0.089334\n",
      "2002-08-30   -0.771779\n",
      "2002-08-31   -0.675372\n",
      "2002-09-01    0.730150\n",
      "2002-09-02    0.015125\n",
      "2002-09-03    0.157733\n",
      "2002-09-04    1.447855\n",
      "2002-09-05    0.342784\n",
      "2002-09-06   -1.173730\n",
      "2002-09-07   -2.226304\n",
      "2002-09-08   -0.825062\n",
      "2002-09-09    0.182107\n",
      "2002-09-10   -0.421562\n",
      "2002-09-11   -0.349629\n",
      "2002-09-12    1.004823\n",
      "2002-09-13   -1.457380\n",
      "2002-09-14   -1.193417\n",
      "2002-09-15    1.022479\n",
      "2002-09-16   -1.143662\n",
      "2002-09-17    0.830880\n",
      "2002-09-18    0.214894\n",
      "2002-09-19   -0.855925\n",
      "2002-09-20   -1.492395\n",
      "2002-09-21   -1.766928\n",
      "2002-09-22   -0.784123\n",
      "2002-09-23   -0.752533\n",
      "2002-09-24   -1.361141\n",
      "2002-09-25   -0.550214\n",
      "2002-09-26   -0.325388\n",
      "Freq: D, Name: A, dtype: float64\n"
     ]
    },
    {
     "data": {
      "text/plain": [
       "<matplotlib.axes._subplots.AxesSubplot at 0xb58aef0>"
      ]
     },
     "execution_count": 130,
     "metadata": {},
     "output_type": "execute_result"
    },
    {
     "data": {
      "image/png": "[encoded data removed]",
      "text/plain": [
       "<matplotlib.figure.Figure at 0xb56ef30>"
      ]
     },
     "metadata": {},
     "output_type": "display_data"
    }
   ],
   "source": [
    "#histogram of a series. Note we apply diff to undo the cumsum before\n",
    "print (df['A'].diff())\n",
    "df['A'].diff().hist()"
   ]
  },
  {
   "cell_type": "code",
   "execution_count": 131,
   "metadata": {},
   "outputs": [
    {
     "data": {
      "text/plain": [
       "array([[<matplotlib.axes._subplots.AxesSubplot object at 0x0B5DD1F0>,\n",
       "        <matplotlib.axes._subplots.AxesSubplot object at 0x0B6E82B0>],\n",
       "       [<matplotlib.axes._subplots.AxesSubplot object at 0x0B632750>,\n",
       "        <matplotlib.axes._subplots.AxesSubplot object at 0x0B653D50>]], dtype=object)"
      ]
     },
     "execution_count": 131,
     "metadata": {},
     "output_type": "execute_result"
    },
    {
     "data": {
      "image/png": "[encoded data removed]",
      "text/plain": [
       "<matplotlib.figure.Figure at 0xb5e0db0>"
      ]
     },
     "metadata": {},
     "output_type": "display_data"
    }
   ],
   "source": [
    "#histogram of a Data Frame. Note we apply diff to undo the cumsum before\n",
    "df.diff().hist(color='k', alpha=0.5, bins=50)"
   ]
  },
  {
   "cell_type": "markdown",
   "metadata": {},
   "source": [
    "#### Box Plots"
   ]
  },
  {
   "cell_type": "code",
   "execution_count": 132,
   "metadata": {},
   "outputs": [
    {
     "name": "stdout",
     "output_type": "stream",
     "text": [
      "          0         1         2         3         4\n",
      "0  0.157266  0.812122  0.492847  0.540707  0.802327\n",
      "1  0.431055  0.733032  0.239623  0.260684  0.676799\n",
      "2  0.153412  0.447077  0.974267  0.617894  0.590712\n",
      "3  0.949735  0.965880  0.409263  0.321004  0.311246\n",
      "4  0.377789  0.634191  0.620947  0.631190  0.061040\n",
      "5  0.133291  0.928808  0.944253  0.272478  0.507854\n",
      "6  0.942655  0.805875  0.465344  0.704922  0.914053\n",
      "7  0.682684  0.349187  0.797972  0.483768  0.760848\n",
      "8  0.207994  0.096113  0.256410  0.278356  0.845151\n",
      "9  0.929571  0.979476  0.424977  0.726169  0.278708\n"
     ]
    },
    {
     "name": "stderr",
     "output_type": "stream",
     "text": [
      "C:\\Anaconda3\\lib\\site-packages\\ipykernel\\__main__.py:3: FutureWarning: \n",
      "The default value for 'return_type' will change to 'axes' in a future release.\n",
      " To use the future behavior now, set return_type='axes'.\n",
      " To keep the previous behavior and silence this warning, set return_type='dict'.\n",
      "  app.launch_new_instance()\n"
     ]
    },
    {
     "data": {
      "image/png": "[encoded data removed]",
      "text/plain": [
       "<matplotlib.figure.Figure at 0xb392710>"
      ]
     },
     "metadata": {},
     "output_type": "display_data"
    }
   ],
   "source": [
    "df = pd.DataFrame(np.random.rand(10,5))\n",
    "print (df)\n",
    "bp = df.boxplot()"
   ]
  },
  {
   "cell_type": "code",
   "execution_count": 133,
   "metadata": {},
   "outputs": [
    {
     "data": {
      "image/png": "[encoded data removed]",
      "text/plain": [
       "<matplotlib.figure.Figure at 0xb8993f0>"
      ]
     },
     "metadata": {},
     "output_type": "display_data"
    }
   ],
   "source": [
    "df = pd.DataFrame(np.random.rand(10,2), columns=['Col1', 'Col2'] )\n",
    "df['X'] = pd.Series(['A','A','A','A','A','B','B','B','B','B'])\n",
    "#group boxplot by a series\n",
    "bp = df.boxplot(by='X')"
   ]
  },
  {
   "cell_type": "markdown",
   "metadata": {},
   "source": [
    "#### Area Plot"
   ]
  },
  {
   "cell_type": "code",
   "execution_count": 134,
   "metadata": {},
   "outputs": [
    {
     "name": "stdout",
     "output_type": "stream",
     "text": [
      "0.18.1\n"
     ]
    },
    {
     "data": {
      "text/plain": [
       "<matplotlib.axes._subplots.AxesSubplot at 0xb92e910>"
      ]
     },
     "execution_count": 134,
     "metadata": {},
     "output_type": "execute_result"
    },
    {
     "data": {
      "image/png": "[encoded data removed]",
      "text/plain": [
       "<matplotlib.figure.Figure at 0xb8d5370>"
      ]
     },
     "metadata": {},
     "output_type": "display_data"
    }
   ],
   "source": [
    "#note only available in pandas 0.14\n",
    "print (pd.__version__)\n",
    "df = pd.DataFrame(np.random.rand(10, 4), columns=['a', 'b', 'c', 'd'])\n",
    "df.plot(kind='area')"
   ]
  },
  {
   "cell_type": "markdown",
   "metadata": {},
   "source": [
    "#### Scatter  Plot"
   ]
  },
  {
   "cell_type": "code",
   "execution_count": 135,
   "metadata": {},
   "outputs": [
    {
     "data": {
      "image/png": "[encoded data removed]",
      "text/plain": [
       "<matplotlib.figure.Figure at 0xb984110>"
      ]
     },
     "metadata": {},
     "output_type": "display_data"
    }
   ],
   "source": [
    "df = pd.DataFrame(np.random.rand(50, 4), columns=['a', 'b', 'c', 'd'])\n",
    "df.plot.scatter(x='a', y='b');"
   ]
  },
  {
   "cell_type": "code",
   "execution_count": 136,
   "metadata": {},
   "outputs": [
    {
     "data": {
      "image/png": "[encoded data removed]",
      "text/plain": [
       "<matplotlib.figure.Figure at 0xb9a09f0>"
      ]
     },
     "metadata": {},
     "output_type": "display_data"
    }
   ],
   "source": [
    "first = df.plot.scatter(x='a', y='b', color='DarkBlue', label='Group 1')\n",
    "df.plot.scatter(x='c', y='d', color='DarkGreen', label='Group 2', ax=first);"
   ]
  },
  {
   "cell_type": "markdown",
   "metadata": {},
   "source": [
    "#### Scatter Plot Matrix"
   ]
  },
  {
   "cell_type": "code",
   "execution_count": 138,
   "metadata": {},
   "outputs": [
    {
     "data": {
      "text/plain": [
       "array([[<matplotlib.axes._subplots.AxesSubplot object at 0x0BAB6DD0>,\n",
       "        <matplotlib.axes._subplots.AxesSubplot object at 0x0BAE5E70>,\n",
       "        <matplotlib.axes._subplots.AxesSubplot object at 0x0BBD5190>,\n",
       "        <matplotlib.axes._subplots.AxesSubplot object at 0x0B9B6490>],\n",
       "       [<matplotlib.axes._subplots.AxesSubplot object at 0x0B767450>,\n",
       "        <matplotlib.axes._subplots.AxesSubplot object at 0x0B8298F0>,\n",
       "        <matplotlib.axes._subplots.AxesSubplot object at 0x0BCB5BF0>,\n",
       "        <matplotlib.axes._subplots.AxesSubplot object at 0x0B862A90>],\n",
       "       [<matplotlib.axes._subplots.AxesSubplot object at 0x0BBF7750>,\n",
       "        <matplotlib.axes._subplots.AxesSubplot object at 0x02AA1910>,\n",
       "        <matplotlib.axes._subplots.AxesSubplot object at 0x02BA8070>,\n",
       "        <matplotlib.axes._subplots.AxesSubplot object at 0x02BD2590>],\n",
       "       [<matplotlib.axes._subplots.AxesSubplot object at 0x02C04CF0>,\n",
       "        <matplotlib.axes._subplots.AxesSubplot object at 0x02D832D0>,\n",
       "        <matplotlib.axes._subplots.AxesSubplot object at 0x02DA46B0>,\n",
       "        <matplotlib.axes._subplots.AxesSubplot object at 0x02DCD550>]], dtype=object)"
      ]
     },
     "execution_count": 138,
     "metadata": {},
     "output_type": "execute_result"
    },
    {
     "data": {
      "image/png": "[encoded data removed]",
      "text/plain": [
       "<matplotlib.figure.Figure at 0xbab6770>"
      ]
     },
     "metadata": {},
     "output_type": "display_data"
    }
   ],
   "source": [
    "from pandas.tools.plotting import scatter_matrix\n",
    "df = pd.DataFrame(np.random.randn(1000, 4), columns=['a', 'b', 'c', 'd'])\n",
    "scatter_matrix(df, alpha=0.2, figsize=(6, 6), diagonal='kde')"
   ]
  },
  {
   "cell_type": "markdown",
   "metadata": {},
   "source": [
    "## Getting Data In/Out"
   ]
  },
  {
   "cell_type": "markdown",
   "metadata": {},
   "source": [
    "### CSV\n",
    "[Writing to a csv file](http://pandas.pydata.org/pandas-docs/stable/io.html#io-store-in-csv)"
   ]
  },
  {
   "cell_type": "code",
   "execution_count": null,
   "metadata": {
    "collapsed": true
   },
   "outputs": [],
   "source": [
    "df.to_csv('foo.csv')"
   ]
  },
  {
   "cell_type": "markdown",
   "metadata": {},
   "source": [
    "[Reading from a csv file](http://pandas.pydata.org/pandas-docs/stable/io.html#io-read-csv-table)"
   ]
  },
  {
   "cell_type": "code",
   "execution_count": 139,
   "metadata": {},
   "outputs": [
    {
     "name": "stdout",
     "output_type": "stream",
     "text": [
      "(150, 6)\n",
      "150\n"
     ]
    }
   ],
   "source": [
    "df = pd.read_csv('iris.csv')\n",
    "print(df.shape)\n",
    "print(len(df))"
   ]
  },
  {
   "cell_type": "markdown",
   "metadata": {},
   "source": [
    "# References\n",
    "\n",
    "* [10 minutes Pandas](http://pandas.pydata.org/pandas-docs/stable/10min.html)\n",
    "* [Pandas Documentation](http://pandas.pydata.org/pandas-docs/stable/)\n",
    "* [Tutorials and Cookbooks] (http://pandas.pydata.org/pandas-docs/stable/tutorials.html)"
   ]
  }
 ],
 "metadata": {
  "kernelspec": {
   "display_name": "Python 3",
   "language": "python",
   "name": "python3"
  },
  "language_info": {
   "codemirror_mode": {
    "name": "ipython",
    "version": 3
   },
   "file_extension": ".py",
   "mimetype": "text/x-python",
   "name": "python",
   "nbconvert_exporter": "python",
   "pygments_lexer": "ipython3",
   "version": "3.6.4"
  }
 },
 "nbformat": 4,
 "nbformat_minor": 1
}
