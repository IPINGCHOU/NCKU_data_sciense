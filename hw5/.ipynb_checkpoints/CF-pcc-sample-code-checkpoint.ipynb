{
 "cells": [
  {
   "cell_type": "markdown",
   "metadata": {},
   "source": [
    "# Sample Code for HW5\n",
    "# User-based and Item-based CF (Pearson Correlation Coefficient)\n",
    "## Convert the rating file into a user-item matrix"
   ]
  },
  {
   "cell_type": "code",
   "execution_count": 1,
   "metadata": {},
   "outputs": [
    {
     "name": "stdout",
     "output_type": "stream",
     "text": [
      "Number of users = 943 | Number of movies = 1682\n"
     ]
    }
   ],
   "source": [
    "import numpy as np\n",
    "import pandas as pd\n",
    "\n",
    "ratingfile = 'ratings.data'\n",
    "header = ['user_id', 'item_id', 'rating', 'timestamp']\n",
    "df = pd.read_csv(ratingfile, sep='\\t', names=header)\n",
    "\n",
    "n_users = df.user_id.unique().shape[0]\n",
    "n_items = df.item_id.unique().shape[0]\n",
    "print('Number of users = ' + str(n_users) + ' | Number of movies = ' + str(n_items))\n",
    "\n",
    "from sklearn.metrics import mean_squared_error\n",
    "from sklearn.model_selection import train_test_split\n",
    "\n",
    "# split the data set into training set and testing set\n",
    "train_data, test_data = train_test_split(df, test_size=0.25)\n",
    "train = pd.DataFrame(train_data)\n",
    "\n",
    "user_item_matrix = np.zeros((n_users, n_items))\n",
    "for line in train.itertuples():\n",
    "    user_item_matrix[line[1] - 1, line[2] - 1] = line[3]"
   ]
  },
  {
   "cell_type": "markdown",
   "metadata": {},
   "source": [
    "## Pre-compute the user-user similarity matrix using pearson correlation\n",
    "The user-user similarity matrix represents the similiarty between each user-user pair. **It is important to note that this computation may take around 10 minutes or more to complete.**"
   ]
  },
  {
   "cell_type": "code",
   "execution_count": 2,
   "metadata": {},
   "outputs": [],
   "source": [
    "import scipy.stats\n",
    "import scipy.spatial\n",
    "import math\n",
    "from math import sqrt\n",
    "\n",
    "user_similarity_pearson = np.zeros((n_users, n_users))\n",
    "\n",
    "# compute the similarities in the upper triangle part\n",
    "for user1 in range(n_users):\n",
    "    for user2 in range(n_users):\n",
    "        if(user1 <= user2):\n",
    "            break\n",
    "        elif np.count_nonzero(user_item_matrix[user1]) and np.count_nonzero(user_item_matrix[user2]):\n",
    "            try:\n",
    "                if not math.isnan(scipy.stats.pearsonr(user_item_matrix[user1], user_item_matrix[user2])[0]):\n",
    "                    user_similarity_pearson[user1][user2] = scipy.stats.pearsonr(user_item_matrix[user1], user_item_matrix[user2])[0]\n",
    "                else:\n",
    "                    user_similarity_pearson[user1][user2] = 0\n",
    "            except:\n",
    "                user_similarity_pearson[user1][user2] = 0\n",
    "                \n",
    "# complete all entries by  add the transposed similarity matrix to our\n",
    "# previously computed values                \n",
    "user_similarity_pearson = user_similarity_pearson + user_similarity_pearson.T"
   ]
  },
  {
   "cell_type": "markdown",
   "metadata": {},
   "source": [
    "## Pre-compute the item-item similarity matrix using pearson correlation\n",
    "The item-item similarity matrix represents the similiarty between each item-item pair. **It is important to note that this computation may take around 10 minutes or more to complete.**"
   ]
  },
  {
   "cell_type": "code",
   "execution_count": 3,
   "metadata": {},
   "outputs": [],
   "source": [
    "item_similarity_pearson = np.zeros((n_items, n_items))\n",
    "data = user_item_matrix.T.copy()\n",
    "# compute the similarities in the upper triangle part\n",
    "for item1 in range(n_items):\n",
    "    for item2 in range(n_items):\n",
    "        if item1 <= item2:\n",
    "            break\n",
    "        elif np.count_nonzero(data[item1]) and np.count_nonzero(data[item2]):\n",
    "            try:\n",
    "                if not math.isnan(scipy.stats.pearsonr(data[item1], data[item2])[0]):\n",
    "                    item_similarity_pearson[item1][item2] = scipy.stats.pearsonr(data[item1], data[item2])[0]\n",
    "                else:\n",
    "                    item_similarity_pearson[item1][item2] = 0\n",
    "            except:\n",
    "                item_similarity_pearson[item1][item2] = 0\n",
    "                \n",
    "# complete all entries by  add the transposed similarity matrix to our\n",
    "# previously computed values                \n",
    "item_similarity_pearson = item_similarity_pearson + item_similarity_pearson.T"
   ]
  },
  {
   "cell_type": "markdown",
   "metadata": {},
   "source": [
    "## Rating predict function based on the the user-user similarity"
   ]
  },
  {
   "cell_type": "code",
   "execution_count": 4,
   "metadata": {},
   "outputs": [],
   "source": [
    "def userbased_predict_rmse(train, test, user_similarity, n_users, n_items, k):\n",
    "    \n",
    "    print(\"Compute User-based CF RMSE .......\", \"K =\", k)\n",
    "    # transfer the train set of ratings to user-item matrix\n",
    "    \n",
    "    train = pd.DataFrame(train)\n",
    "    test = pd.DataFrame(test)\n",
    "\n",
    "    train_matrix = np.zeros((n_users, n_items))\n",
    "    for line in train.itertuples():\n",
    "        train_matrix[int(line[1]) - 1, int(line[2]) - 1] = line[3]\n",
    "\n",
    "    true_rate = []\n",
    "    pred_rate = []\n",
    "\n",
    "    for line in test.itertuples():\n",
    "        user = int(line[1])\n",
    "        item = int(line[2])\n",
    "        true_rate.append(line[3])\n",
    "\n",
    "        item_pred = 3.0\n",
    "\n",
    "        if np.count_nonzero(train_matrix[user-1]):\n",
    "            sim_pearson = user_similarity[user - 1]\n",
    "            # sort the similarities in descending order, find the k similar items which has the largest similarities\n",
    "            sortedindex = np.argsort(-sim_pearson)\n",
    "            normal_pearson = 0\n",
    "            dot = 0\n",
    "            i = 0\n",
    "            while i < k:\n",
    "                ind = sortedindex[i]\n",
    "                # normalize the similarity for the rated items\n",
    "                normal_pearson += np.absolute(sim_pearson[ind])\n",
    "                # similarity multiply the ratings\n",
    "                dot += sim_pearson[ind] * train_matrix[ind][item-1]\n",
    "                i = i + 1\n",
    "\n",
    "            if normal_pearson > 0:\n",
    "                item_pred = dot / normal_pearson\n",
    "\n",
    "        if item_pred < 0:\n",
    "            item_pred = 0\n",
    "\n",
    "        if item_pred > 5:\n",
    "            item_pred = 5\n",
    "\n",
    "        pred_rate.append(item_pred)\n",
    "\n",
    "    rmse= sqrt(mean_squared_error(true_rate, pred_rate))\n",
    "\n",
    "    return rmse,pred_rate"
   ]
  },
  {
   "cell_type": "markdown",
   "metadata": {},
   "source": [
    "## Rating predict function based on the the item-item similarity"
   ]
  },
  {
   "cell_type": "code",
   "execution_count": 5,
   "metadata": {},
   "outputs": [],
   "source": [
    "def itembased_predict_rmse(train, test, item_similarity, n_users, n_items, k):\n",
    "    print(\"Compute Item-based CF RMSE .......\", \"K =\", k)\n",
    "    # transfer the train set of ratings to user-item matrix\n",
    "    train = pd.DataFrame(train)\n",
    "    test = pd.DataFrame(test)\n",
    "    \n",
    "    train_matrix = np.zeros((n_users, n_items))\n",
    "    for line in train.itertuples():\n",
    "        train_matrix[line[1] - 1, line[2] - 1] = line[3]\n",
    "\n",
    "    true_rate = []\n",
    "    pred_rate = []\n",
    "\n",
    "    for line in test.itertuples():\n",
    "        user = line[1]\n",
    "        item = line[2]\n",
    "        true_rate.append(line[3])\n",
    "\n",
    "        item_pred = 3.0\n",
    "\n",
    "        if np.count_nonzero(train_matrix[:, item - 1]):\n",
    "            sim_pearson = item_similarity[item - 1]\n",
    "            # sort the similarities, find the k similar items which has the laest the similarities\n",
    "            sortedindex = np.argsort(-sim_pearson)\n",
    "            normal_pearson = 0\n",
    "            dot = 0\n",
    "            i = 0\n",
    "            while i < k:\n",
    "                ind = sortedindex[i]\n",
    "                # normalize the similarity for the rated items\n",
    "                normal_pearson += np.absolute(sim_pearson[ind])\n",
    "                # similarity multiply the ratings\n",
    "                dot += sim_pearson[ind] * train_matrix[user - 1][ind]\n",
    "                i = i + 1\n",
    "\n",
    "            if normal_pearson > 0:\n",
    "                item_pred = dot / normal_pearson\n",
    "\n",
    "        if item_pred < 0:\n",
    "            item_pred = 0\n",
    "\n",
    "        if item_pred > 5:\n",
    "            item_pred = 5\n",
    "\n",
    "        pred_rate.append(item_pred)\n",
    "\n",
    "    rmse= sqrt(mean_squared_error(true_rate, pred_rate))\n",
    "\n",
    "    return rmse,pred_rate"
   ]
  },
  {
   "cell_type": "markdown",
   "metadata": {},
   "source": [
    "## Predict the ratings for testing set, and compute the RMSE"
   ]
  },
  {
   "cell_type": "code",
   "execution_count": 6,
   "metadata": {},
   "outputs": [
    {
     "name": "stdout",
     "output_type": "stream",
     "text": [
      "Compute User-based CF RMSE ....... K = 3\n",
      "Compute Item-based CF RMSE ....... K = 3\n",
      "Compute User-based CF RMSE ....... K = 4\n",
      "Compute Item-based CF RMSE ....... K = 4\n",
      "Compute User-based CF RMSE ....... K = 5\n",
      "Compute Item-based CF RMSE ....... K = 5\n",
      "Compute User-based CF RMSE ....... K = 6\n",
      "Compute Item-based CF RMSE ....... K = 6\n",
      "Compute User-based CF RMSE ....... K = 7\n",
      "Compute Item-based CF RMSE ....... K = 7\n",
      "Compute User-based CF RMSE ....... K = 8\n",
      "Compute Item-based CF RMSE ....... K = 8\n",
      "Compute User-based CF RMSE ....... K = 9\n",
      "Compute Item-based CF RMSE ....... K = 9\n"
     ]
    }
   ],
   "source": [
    "rmse_user = []\n",
    "rmse_item = []\n",
    "\n",
    "for i in range(3,10):\n",
    "    k =  i\n",
    "    # user-based CF\n",
    "    rmse_u, pred_rate_u = userbased_predict_rmse(train_data, test_data, user_similarity_pearson, n_users, n_items, k)\n",
    "    rmse_user.append(rmse_u)\n",
    "    # item-based CF\n",
    "    rmse_i,pred_rate_i = itembased_predict_rmse(train_data, test_data, item_similarity_pearson, n_users, n_items, k)\n",
    "    rmse_item.append(rmse_i) "
   ]
  },
  {
   "cell_type": "code",
   "execution_count": 7,
   "metadata": {},
   "outputs": [
    {
     "name": "stdout",
     "output_type": "stream",
     "text": [
      "Compute User-based CF RMSE ....... K = 10\n",
      "Compute Item-based CF RMSE ....... K = 10\n",
      "Compute User-based CF RMSE ....... K = 20\n",
      "Compute Item-based CF RMSE ....... K = 20\n",
      "Compute User-based CF RMSE ....... K = 30\n",
      "Compute Item-based CF RMSE ....... K = 30\n",
      "Compute User-based CF RMSE ....... K = 40\n",
      "Compute Item-based CF RMSE ....... K = 40\n",
      "Compute User-based CF RMSE ....... K = 50\n",
      "Compute Item-based CF RMSE ....... K = 50\n",
      "Compute User-based CF RMSE ....... K = 60\n",
      "Compute Item-based CF RMSE ....... K = 60\n",
      "Compute User-based CF RMSE ....... K = 70\n",
      "Compute Item-based CF RMSE ....... K = 70\n",
      "Compute User-based CF RMSE ....... K = 80\n",
      "Compute Item-based CF RMSE ....... K = 80\n",
      "Compute User-based CF RMSE ....... K = 90\n",
      "Compute Item-based CF RMSE ....... K = 90\n",
      "Compute User-based CF RMSE ....... K = 100\n",
      "Compute Item-based CF RMSE ....... K = 100\n"
     ]
    }
   ],
   "source": [
    "for i in range(1,11):\n",
    "    k = 10 * i\n",
    "    # user-based CF\n",
    "    rmse_u,pred_rate_u = userbased_predict_rmse(train_data, test_data,user_similarity_pearson, n_users, n_items, k)\n",
    "    rmse_user.append(rmse_u)\n",
    "    # item-based CF\n",
    "    rmse_i,pred_rate_i = itembased_predict_rmse(train_data, test_data,item_similarity_pearson, n_users, n_items, k)\n",
    "    rmse_item.append(rmse_i)    "
   ]
  },
  {
   "cell_type": "code",
   "execution_count": 8,
   "metadata": {},
   "outputs": [
    {
     "name": "stdout",
     "output_type": "stream",
     "text": [
      "User-based RMSE:  [2.7655975716050114, 2.7283744194567103, 2.703229026360095, 2.6848797277624064, 2.67557659519731, 2.6685199526585435, 2.66441467227749, 2.662883845168601, 2.656768350009751, 2.664954459949554, 2.6733850392970404, 2.6833254375676545, 2.693779125896856, 2.704225439759459, 2.713162757335681, 2.722350524330203, 2.7308559767325704]\n",
      "Item-based RMSE:  [2.76318131287779, 2.7266598743482495, 2.713497062833411, 2.702113160233698, 2.6951028435522573, 2.6943854754554755, 2.6926930911166544, 2.692575358076495, 2.7109422712969886, 2.7353279220418063, 2.755069180932421, 2.7719495429610546, 2.7884023822424298, 2.803980303705557, 2.8164250287435078, 2.828755917062472, 2.840647230376363]\n",
      "[[2.76559757 2.76318131]\n",
      " [2.72837442 2.72665987]\n",
      " [2.70322903 2.71349706]\n",
      " [2.68487973 2.70211316]\n",
      " [2.6755766  2.69510284]\n",
      " [2.66851995 2.69438548]\n",
      " [2.66441467 2.69269309]\n",
      " [2.66288385 2.69257536]\n",
      " [2.65676835 2.71094227]\n",
      " [2.66495446 2.73532792]\n",
      " [2.67338504 2.75506918]\n",
      " [2.68332544 2.77194954]\n",
      " [2.69377913 2.78840238]\n",
      " [2.70422544 2.8039803 ]\n",
      " [2.71316276 2.81642503]\n",
      " [2.72235052 2.82875592]\n",
      " [2.73085598 2.84064723]]\n"
     ]
    }
   ],
   "source": [
    "print(\"User-based RMSE: \", rmse_user)\n",
    "print(\"Item-based RMSE: \", rmse_item)\n",
    "m = np.zeros((17, 2))\n",
    "j = 0\n",
    "for i in range(17):\n",
    "    m[i][j] = rmse_user[i]\n",
    "j = 1\n",
    "for i in range(17):\n",
    "    m[i][j] = rmse_item[i]\n",
    "print(m)"
   ]
  },
  {
   "cell_type": "code",
   "execution_count": 9,
   "metadata": {},
   "outputs": [
    {
     "data": {
      "image/png": "[encoded data removed]",
      "text/plain": [
       "<Figure size 432x288 with 1 Axes>"
      ]
     },
     "metadata": {},
     "output_type": "display_data"
    }
   ],
   "source": [
    "import matplotlib.pyplot as plt\n",
    "%matplotlib inline\n",
    "\n",
    "idx = [3,4,5,6,7,8,9,10,20,30,40,50,60,70,80,90,100]\n",
    "plt.plot(idx, rmse_user, marker='v', label='U-CF-pcc')\n",
    "plt.plot(idx, rmse_item, marker='o', label='I-CF-pcc')\n",
    "\n",
    "plt.title('CF Rating Prediction')\n",
    "plt.xlabel('Number of Neighbors (K)')\n",
    "plt.ylabel('RMSE')\n",
    "plt.legend(loc='upper left')\n",
    "plt.grid()\n",
    "plt.show()"
   ]
  },
  {
   "cell_type": "code",
   "execution_count": null,
   "metadata": {
    "collapsed": true
   },
   "outputs": [],
   "source": []
  }
 ],
 "metadata": {
  "anaconda-cloud": {},
  "kernelspec": {
   "display_name": "Python 3",
   "language": "python",
   "name": "python3"
  },
  "language_info": {
   "codemirror_mode": {
    "name": "ipython",
    "version": 3
   },
   "file_extension": ".py",
   "mimetype": "text/x-python",
   "name": "python",
   "nbconvert_exporter": "python",
   "pygments_lexer": "ipython3",
   "version": "3.6.5"
  }
 },
 "nbformat": 4,
 "nbformat_minor": 1
}
