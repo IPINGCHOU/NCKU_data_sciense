{
 "cells": [
  {
   "cell_type": "code",
   "execution_count": 15,
   "metadata": {},
   "outputs": [],
   "source": [
    "# for CF\n",
    "import pandas as pd\n",
    "import numpy as np\n",
    "import time\n",
    "from sklearn import cross_validation as cv\n",
    "from sklearn import preprocessing\n",
    "from operator import itemgetter\n",
    "from collections import OrderedDict\n",
    "from sklearn.preprocessing import StandardScaler\n",
    "from numpy import *"
   ]
  },
  {
   "cell_type": "code",
   "execution_count": 8,
   "metadata": {},
   "outputs": [],
   "source": [
    "# read data\n",
    "file_name = 'ratings.data'\n",
    "with open(file_name,'r') as f:\n",
    "    data = [x.strip().split('\\t') for x in f]\n",
    "user_id = [item[0] for item in data]\n",
    "item_id = [item[1] for item in data]\n",
    "rating = [item[2] for item in data]\n",
    "time_stamp = [item[3] for item in data]\n",
    "\n",
    "uir_df = pd.DataFrame(\n",
    "    {'user_id': user_id,\n",
    "     'item_id': item_id,\n",
    "     'rating': rating\n",
    "    })"
   ]
  },
  {
   "cell_type": "code",
   "execution_count": 7,
   "metadata": {},
   "outputs": [],
   "source": [
    "# user_item matrix generation\n",
    "# row: user\n",
    "# col: item\n",
    "def u_i_mat_generate(df, all_user_id, all_item_id):\n",
    "    find = lambda searchList, elem: [[i for i, x in enumerate(searchList) if x == e] for e in elem]\n",
    "    user_item_mat = []\n",
    "    \n",
    "    for i in range(len(all_user_id)):\n",
    "        temp_rating_list = np.array([0] * len(all_item_id))\n",
    "        pos = find(all_item_id, df.loc[df['user_id'] == all_user_id[i]]['item_id'].values.tolist())\n",
    "        pos = [y for x in pos for y in x]\n",
    "        temp_rating_list[pos] = df.loc[df['user_id'] == all_user_id[i]]['rating'].values.tolist()\n",
    "        user_item_mat.append(temp_rating_list)\n",
    "    user_item_mat = np.matrix(user_item_mat)\n",
    "    \n",
    "    return user_item_mat"
   ]
  },
  {
   "cell_type": "code",
   "execution_count": null,
   "metadata": {},
   "outputs": [],
   "source": [
    "def pred_out()"
   ]
  },
  {
   "cell_type": "code",
   "execution_count": 17,
   "metadata": {},
   "outputs": [],
   "source": [
    "# CF predict function\n",
    "def CF_pred(k, user_item, cos_pcc, training_data, testing_data):\n",
    "    if user_item != 'user' and user_item != 'item':\n",
    "        return print('Check your user_item!')\n",
    "    if cos_pcc != 'cos' and cos_pcc != 'pcc':\n",
    "        return print('Check your cos_pcc')\n",
    "# ------\n",
    "# ------\n",
    "    all_user_id = pd.unique(training_data['user_id']).tolist()\n",
    "    all_item_id = pd.unique(training_data['item_id']).tolist()\n",
    "    test_user_id = testing_data['user_id'].tolist()\n",
    "    test_item_id = testing_data['item_id'].tolist()\n",
    "    \n",
    "    start_time = time.time()\n",
    "    user_item_mat = u_i_mat_generate(training_data, all_user_id, all_item_id)\n",
    "    print(\"--- %s mat generate seconds ---\" % (time.time() - start_time))\n",
    "    start_time = time.time()\n",
    "    \n",
    "    if user_item == 'user':\n",
    "        if cos_pcc == 'cos':\n",
    "            mat_normalized = preprocessing.normalize(user_item_mat, norm='l2', axis = 1)\n",
    "            mat_normalized = mat_normalized.dot(mat_normalized.T)\n",
    "        elif cos_pcc == 'pcc':\n",
    "            print('here 3')\n",
    "            mat_normalized = user_item_mat - mean(user_item_mat, axis = 1)\n",
    "            mat_normalized = preprocessing.normalize(mat_normalized, norm='l2', axis = 1)\n",
    "            mat_normalized = mat_normalized.dot(mat_normalized.T)\n",
    "            print(\"--- %s pcc mat seconds ---\" % (time.time() - start_time))\n",
    "\n",
    "    elif user_item == 'item':\n",
    "        if cos_pcc == 'cos':\n",
    "            mat_normalized = preprocessing.normalize(user_item_mat , norm='l2', axis = 0)\n",
    "            mat_normalized = mat_normalized.T.dot(mat_normalized)\n",
    "        elif cos_pcc == 'pcc':\n",
    "            mat_normalized = mat_normalized - mean(mat_normalized, axis = 0)\n",
    "            mat_normalized = preprocessing.normalize(mat_normalized, norm='l2', axis = 0)\n",
    "            mat_normalized = mat_normalized.T.dot(mat_normalized)\n",
    "            \n",
    "    return mat_normalized\n",
    "    "
   ]
  },
  {
   "cell_type": "code",
   "execution_count": null,
   "metadata": {},
   "outputs": [],
   "source": []
  },
  {
   "cell_type": "code",
   "execution_count": 9,
   "metadata": {},
   "outputs": [],
   "source": [
    "train_data, test_data = cv.train_test_split(uir_df, test_size=0.25)"
   ]
  },
  {
   "cell_type": "code",
   "execution_count": null,
   "metadata": {},
   "outputs": [],
   "source": []
  },
  {
   "cell_type": "code",
   "execution_count": 18,
   "metadata": {},
   "outputs": [
    {
     "name": "stdout",
     "output_type": "stream",
     "text": [
      "--- 41.87316274642944 mat generate seconds ---\n",
      "here 3\n",
      "--- 0.06247115135192871 pcc mat seconds ---\n"
     ]
    }
   ],
   "source": [
    "a = CF_pred(100, 'user', 'pcc', train_data, test_data)"
   ]
  },
  {
   "cell_type": "code",
   "execution_count": 43,
   "metadata": {},
   "outputs": [
    {
     "data": {
      "text/plain": [
       "array([[ 1.00000000e+00,  2.24582424e-01,  1.98855922e-01, ...,\n",
       "         6.30611962e-02,  1.72471711e-03, -1.11555619e-02],\n",
       "       [ 2.24582424e-01,  1.00000000e+00,  8.74771267e-02, ...,\n",
       "         9.77582969e-02,  1.82040174e-01,  4.25857456e-02],\n",
       "       [ 1.98855922e-01,  8.74771267e-02,  1.00000000e+00, ...,\n",
       "         9.34840241e-04,  1.16800814e-02, -1.73678172e-02],\n",
       "       ...,\n",
       "       [ 6.30611962e-02,  9.77582969e-02,  9.34840241e-04, ...,\n",
       "         1.00000000e+00,  4.05557593e-02, -7.61220559e-03],\n",
       "       [ 1.72471711e-03,  1.82040174e-01,  1.16800814e-02, ...,\n",
       "         4.05557593e-02,  1.00000000e+00,  1.08308874e-01],\n",
       "       [-1.11555619e-02,  4.25857456e-02, -1.73678172e-02, ...,\n",
       "        -7.61220559e-03,  1.08308874e-01,  1.00000000e+00]])"
      ]
     },
     "execution_count": 43,
     "metadata": {},
     "output_type": "execute_result"
    }
   ],
   "source": [
    "b = np.mat()"
   ]
  }
 ],
 "metadata": {
  "kernelspec": {
   "display_name": "Python 3",
   "language": "python",
   "name": "python3"
  },
  "language_info": {
   "codemirror_mode": {
    "name": "ipython",
    "version": 3
   },
   "file_extension": ".py",
   "mimetype": "text/x-python",
   "name": "python",
   "nbconvert_exporter": "python",
   "pygments_lexer": "ipython3",
   "version": "3.5.5"
  }
 },
 "nbformat": 4,
 "nbformat_minor": 2
}
