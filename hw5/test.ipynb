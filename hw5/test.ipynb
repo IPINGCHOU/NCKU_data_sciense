{
 "cells": [
  {
   "cell_type": "code",
   "execution_count": 7,
   "metadata": {},
   "outputs": [
    {
     "name": "stderr",
     "output_type": "stream",
     "text": [
      "C:\\Users\\kami\\Anaconda3\\envs\\data_sciense\\lib\\site-packages\\sklearn\\cross_validation.py:41: DeprecationWarning: This module was deprecated in version 0.18 in favor of the model_selection module into which all the refactored classes and functions are moved. Also note that the interface of the new CV iterators are different from that of this module. This module will be removed in 0.20.\n",
      "  \"This module will be removed in 0.20.\", DeprecationWarning)\n"
     ]
    }
   ],
   "source": [
    "# for CF\n",
    "import pandas as pd\n",
    "import numpy as np\n",
    "import time\n",
    "from sklearn import cross_validation as cv\n",
    "from sklearn import preprocessing\n",
    "from operator import itemgetter\n",
    "from collections import OrderedDict\n",
    "from sklearn.preprocessing import StandardScaler\n",
    "from numpy import *"
   ]
  },
  {
   "cell_type": "code",
   "execution_count": 13,
   "metadata": {},
   "outputs": [],
   "source": [
    "# read data\n",
    "file_name = 'ratings.data'\n",
    "with open(file_name,'r') as f:\n",
    "    data = [x.strip().split('\\t') for x in f]\n",
    "user_id = [item[0] for item in data]\n",
    "item_id = [item[1] for item in data]\n",
    "rating = [item[2] for item in data]\n",
    "time_stamp = [item[3] for item in data]\n",
    "\n",
    "df = pd.DataFrame(\n",
    "    {'user_id': user_id,\n",
    "     'item_id': item_id,\n",
    "     'rating': rating\n",
    "    })"
   ]
  },
  {
   "cell_type": "code",
   "execution_count": 14,
   "metadata": {},
   "outputs": [],
   "source": [
    "all_user_id = pd.unique(df['user_id']).tolist()\n",
    "all_item_id = pd.unique(df['item_id']).tolist()"
   ]
  },
  {
   "cell_type": "code",
   "execution_count": 22,
   "metadata": {},
   "outputs": [],
   "source": [
    "user_1_df = df.loc[df['user_id'] == all_user_id[0]]\n",
    "user_2_df = df.loc[df['user_id'] == all_user_id[1]]"
   ]
  },
  {
   "cell_type": "code",
   "execution_count": 120,
   "metadata": {},
   "outputs": [],
   "source": [
    "user_1_df\n",
    "ru = []\n",
    "rv = []\n",
    "\n",
    "for i in range(len(all_item_id)):\n",
    "    if all_item_id[i] in list(user_1_df['item_id']):\n",
    "        match = user_1_df.loc[user_1_df['item_id'] == all_item_id[i]]['rating'].values[0]\n",
    "        ru.append(match)\n",
    "    else:\n",
    "        ru.append('0')\n",
    "        \n",
    "    if all_item_id[i] in list(user_2_df['item_id']):\n",
    "        match = user_2_df.loc[user_2_df['item_id'] == all_item_id[i]]['rating'].values[0]\n",
    "        rv.append(match)\n",
    "    else:\n",
    "        rv.append('0')"
   ]
  },
  {
   "cell_type": "code",
   "execution_count": 61,
   "metadata": {},
   "outputs": [
    {
     "data": {
      "text/plain": [
       "array([2, 3, 4])"
      ]
     },
     "execution_count": 61,
     "metadata": {},
     "output_type": "execute_result"
    }
   ],
   "source": [
    "user_1_df = df.loc[df['user_id'] == all_user_id[0]]\n",
    "user_2_df = df.loc[df['user_id'] == all_user_id[1]]\n",
    "match_list = list(set(user_1_df['item_id']).intersection(user_2_df['item_id']))\n",
    "match_list\n",
    "ru = user_1_df.loc[user_1_df['item_id'].isin(match_list)].sort_values('item_id')['rating']\n",
    "rv = user_2_df.loc[user_2_df['item_id'].isin(match_list)].sort_values('item_id')['rating']\n",
    "ru = np.asarray(list(map(int, ru)))"
   ]
  },
  {
   "cell_type": "code",
   "execution_count": null,
   "metadata": {},
   "outputs": [],
   "source": []
  },
  {
   "cell_type": "code",
   "execution_count": 225,
   "metadata": {},
   "outputs": [],
   "source": [
    "# create function for cauculating sim by U-CF-pcc and U-CF-cos\n",
    "def user_sim(df, cos_pcc, user_1, user_2):\n",
    "    all_user_id = pd.unique(df['user_id']).tolist()\n",
    "    all_item_id = pd.unique(df['item_id']).tolist()\n",
    "    \n",
    "    user_1_df = df.loc[df['user_id'] == user_1]\n",
    "    user_2_df = df.loc[df['user_id'] == user_2]\n",
    "    \n",
    "    ru = [0] * len(all_item_id)\n",
    "    rv = [0] * len(all_item_id)\n",
    "    \n",
    "    pos_1 = [all_item_id.index(i) for i in user_1_df['item_id']]\n",
    "    pos_2 = [all_item_id.index(i) for i in user_2_df['item_id']]\n",
    "    for i in range(len(pos_1)):\n",
    "        ru[pos_1[i]] = user_1_df['rating'].values[i]\n",
    "    for i in range(len(pos_2)):\n",
    "        rv[pos_2[i]] = user_2_df['rating'].values[i]\n",
    "    \n",
    "    ru = np.asarray(list(map(int, ru)))\n",
    "    rv = np.asarray(list(map(int, rv)))\n",
    "    \n",
    "    if cos_pcc == 'cos':\n",
    "        vector_len = np.sqrt(ru.dot(ru)) * np.sqrt(rv.dot(rv))\n",
    "        return np.dot(ru, rv) / vector_len\n",
    "    elif cos_pcc == 'pcc':\n",
    "        match_pos = []\n",
    "        for i in range(len(ru)):\n",
    "            if ru[i] != 0 and rv[i] != 0:\n",
    "                match_pos.append(i)\n",
    "                \n",
    "        match_ru = ru[match_pos]\n",
    "        match_rv = rv[match_pos]\n",
    "        print(match_ru)\n",
    "        print(match_rv)\n",
    "        numerator = np.dot(match_ru - np.average(match_ru), match_rv - np.average(match_rv))\n",
    "        denominator = np.sqrt(np.sum(np.power(match_ru - np.average(match_ru), 2))) * np.sqrt(np.sum(np.power(match_rv - np.average(match_rv), 2)))\n",
    "        \n",
    "        if denominator == 0:\n",
    "            return 0\n",
    "        else:\n",
    "            return numerator / denominator"
   ]
  },
  {
   "cell_type": "code",
   "execution_count": 226,
   "metadata": {},
   "outputs": [
    {
     "name": "stdout",
     "output_type": "stream",
     "text": [
      "[5 4 3 3]\n",
      "[4 4 4 4]\n",
      "<class 'numpy.float64'>\n"
     ]
    },
    {
     "data": {
      "text/plain": [
       "0"
      ]
     },
     "execution_count": 226,
     "metadata": {},
     "output_type": "execute_result"
    }
   ],
   "source": [
    "user_sim(df, 'pcc', all_user_id[0], all_user_id[40])"
   ]
  },
  {
   "cell_type": "code",
   "execution_count": 228,
   "metadata": {},
   "outputs": [
    {
     "name": "stdout",
     "output_type": "stream",
     "text": [
      "abc 0.75\n"
     ]
    }
   ],
   "source": [
    "print(\"abc \" + str(3/4))"
   ]
  },
  {
   "cell_type": "code",
   "execution_count": 4,
   "metadata": {},
   "outputs": [
    {
     "name": "stdout",
     "output_type": "stream",
     "text": [
      "   a  b\n",
      "0  1  5\n",
      "1  2  6\n",
      "2  3  7\n",
      "3  4  8\n"
     ]
    }
   ],
   "source": [
    "a = [1,2,3,4]\n",
    "b = [5,6,7,8]\n",
    "c = pd.DataFrame({\n",
    "    'a' : a,\n",
    "    'b' : b\n",
    "})\n",
    "print(c)"
   ]
  },
  {
   "cell_type": "code",
   "execution_count": null,
   "metadata": {},
   "outputs": [],
   "source": [
    "a=[1,2,3,4]#列表a\n",
    "b=[5,6,7,8]#列表b\n",
    "c={\"a\" : a,\n",
    "   \"b\" : b}#将列表a，b转换成字典\n",
    "data=DataFrame(c)#将字典转换成为数据框\n",
    "print(data)"
   ]
  },
  {
   "cell_type": "code",
   "execution_count": 179,
   "metadata": {},
   "outputs": [
    {
     "name": "stdout",
     "output_type": "stream",
     "text": [
      "[[-1.  0.  1.]\n",
      " [ 0.  1.  2.]]\n",
      "[[-0.5 -0.5 -0.5]\n",
      " [ 0.5  0.5  0.5]]\n",
      "[[-0.70710678 -0.70710678 -0.70710678]\n",
      " [ 0.70710678  0.70710678  0.70710678]]\n"
     ]
    }
   ],
   "source": [
    "import numpy as np\n",
    "from sklearn import preprocessing\n",
    " \n",
    "# Two samples, with 3 dimensions.\n",
    "# The 2 rows indicate 2 samples, \n",
    "# and the 3 columns indicate 3 features for each sample.\n",
    "X = np.asarray([[-1,0,1],\n",
    "                [0,1,2]], dtype=np.float) # Float is needed.\n",
    " \n",
    "X = np.matrix(X)\n",
    "print(X)\n",
    "X_normalized = preprocessing.normalize(X, norm='l2', axis = 1)\n",
    "\n",
    "from numpy import *\n",
    "X = X - mean(X, axis=0)\n",
    "print(X)\n",
    "print(preprocessing.normalize(X, norm='l2', axis = 0))"
   ]
  },
  {
   "cell_type": "code",
   "execution_count": 173,
   "metadata": {},
   "outputs": [
    {
     "data": {
      "text/plain": [
       "1.9364916731037085"
      ]
     },
     "execution_count": 173,
     "metadata": {},
     "output_type": "execute_result"
    }
   ],
   "source": [
    "np.sqrt((1+4+9+16)/8)"
   ]
  },
  {
   "cell_type": "code",
   "execution_count": 125,
   "metadata": {},
   "outputs": [],
   "source": [
    "\n",
    "find = lambda searchList, elem: [[i for i, x in enumerate(searchList) if x == e] for e in elem]\n",
    "for i in range(len(all_user_id)):\n",
    "    temp_rating_list = np.array([0] * len(all_item_id))\n",
    "    pos = find(all_item_id, df.loc[df['user_id'] == all_user_id[i]]['item_id'].values.tolist())\n",
    "    pos = [y for x in pos for y in x]\n",
    "    temp_rating_list[pos] = df.loc[df['user_id'] == all_user_id[i]]['rating'].values.tolist()\n",
    "\n",
    "    user_item_mat.append(temp_rating_list)\n",
    "user_item_mat = np.matrix(user_item_mat)"
   ]
  },
  {
   "cell_type": "code",
   "execution_count": 129,
   "metadata": {},
   "outputs": [
    {
     "data": {
      "text/plain": [
       "matrix([[1979, 1053,    2, ...,   12,   12,   12],\n",
       "        [1053, 5360,   34, ...,   12,   12,   12],\n",
       "        [   2,   34,   74, ...,    0,    0,    0],\n",
       "        ...,\n",
       "        [  12,   12,    0, ...,    9,    9,    9],\n",
       "        [  12,   12,    0, ...,    9,    9,    9],\n",
       "        [  12,   12,    0, ...,    9,    9,    9]])"
      ]
     },
     "execution_count": 129,
     "metadata": {},
     "output_type": "execute_result"
    }
   ],
   "source": [
    "user_item_mat.T.dot(user_item_mat)"
   ]
  },
  {
   "cell_type": "code",
   "execution_count": 120,
   "metadata": {},
   "outputs": [
    {
     "data": {
      "text/plain": [
       "(943, 1682)"
      ]
     },
     "execution_count": 120,
     "metadata": {},
     "output_type": "execute_result"
    }
   ],
   "source": [
    "np.asarray(user_item_mat).shape"
   ]
  },
  {
   "cell_type": "code",
   "execution_count": 88,
   "metadata": {},
   "outputs": [
    {
     "data": {
      "text/plain": [
       "array([[1, 2, 3, 4],\n",
       "       [5, 6, 7, 8]])"
      ]
     },
     "execution_count": 88,
     "metadata": {},
     "output_type": "execute_result"
    }
   ],
   "source": [
    "a = [1,2,3,4]\n",
    "b = [5,6,7,8]\n",
    "c = []\n",
    "c.append(a)\n",
    "c.append(b)\n",
    "np.asarray(c)"
   ]
  },
  {
   "cell_type": "code",
   "execution_count": 97,
   "metadata": {},
   "outputs": [
    {
     "data": {
      "text/plain": [
       "[1, 2, 3, 4]"
      ]
     },
     "execution_count": 97,
     "metadata": {},
     "output_type": "execute_result"
    }
   ],
   "source": [
    "a = [1,2,3,4]\n",
    "b = [0,1,9,7,8,4,5,6,3,10,2]\n",
    "\n",
    "matches = [item for item in a if item in b]\n",
    "matches"
   ]
  },
  {
   "cell_type": "code",
   "execution_count": 11,
   "metadata": {},
   "outputs": [
    {
     "name": "stdout",
     "output_type": "stream",
     "text": [
      "[[1 2]\n",
      " [3 4]]\n",
      "[[0.4472136  0.89442719]\n",
      " [0.6        0.8       ]]\n"
     ]
    },
    {
     "data": {
      "text/plain": [
       "0.31622776601683794"
      ]
     },
     "execution_count": 11,
     "metadata": {},
     "output_type": "execute_result"
    }
   ],
   "source": [
    "b=np.mat('1 2; 3 4')\n",
    "print(b)\n",
    "b=preprocessing.normalize(b , norm='l2', axis = 1)\n",
    "print(b)\n",
    "1/sqrt(10)"
   ]
  },
  {
   "cell_type": "code",
   "execution_count": 14,
   "metadata": {},
   "outputs": [
    {
     "data": {
      "text/plain": [
       "12"
      ]
     },
     "execution_count": 14,
     "metadata": {},
     "output_type": "execute_result"
    }
   ],
   "source": [
    "import numpy as np\n",
    "a = 3\n",
    "b = 4\n",
    "np.multiply(a,b)"
   ]
  },
  {
   "cell_type": "code",
   "execution_count": 17,
   "metadata": {},
   "outputs": [
    {
     "data": {
      "text/plain": [
       "4"
      ]
     },
     "execution_count": 17,
     "metadata": {},
     "output_type": "execute_result"
    }
   ],
   "source": [
    "a = 1\n",
    "a += 3\n",
    "a"
   ]
  }
 ],
 "metadata": {
  "kernelspec": {
   "display_name": "Python 3",
   "language": "python",
   "name": "python3"
  },
  "language_info": {
   "codemirror_mode": {
    "name": "ipython",
    "version": 3
   },
   "file_extension": ".py",
   "mimetype": "text/x-python",
   "name": "python",
   "nbconvert_exporter": "python",
   "pygments_lexer": "ipython3",
   "version": "3.6.5"
  }
 },
 "nbformat": 4,
 "nbformat_minor": 2
}
