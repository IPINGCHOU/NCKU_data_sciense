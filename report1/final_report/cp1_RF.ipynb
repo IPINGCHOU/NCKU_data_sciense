{
 "cells": [
  {
   "cell_type": "code",
   "execution_count": 41,
   "metadata": {},
   "outputs": [],
   "source": [
    "#import  package\n",
    "from sklearn import preprocessing\n",
    "from sklearn.model_selection import GridSearchCV\n",
    "from sklearn.ensemble import RandomForestClassifier\n",
    "from sklearn.ensemble import RandomForestRegressor\n",
    "from sklearn.preprocessing import LabelEncoder\n",
    "\n",
    "import pandas as pd\n",
    "import numpy as np\n",
    "import datetime as dt\n",
    "\n",
    "#import  data\n",
    "train = pd.read_csv(\"E:/WORKOUT/Statistic/data_sciense_intro/report1/train.csv\")\n",
    "test = pd.read_csv(\"E:/WORKOUT/Statistic/data_sciense_intro/report1/test.csv\")\n",
    "\n",
    "#資料前處理\n",
    "# 將次數過少的action_type先去除\n",
    "X_action_type = train['action_type'].value_counts()\n",
    "start = X_action_type.index.get_loc('Running Jump Shot')\n",
    "all_action_name = list(X_action_type.index)[start:57]\n",
    "train = train[~train.action_type.isin(all_action_name)]\n",
    "\n",
    "#將為類別變數型態資料轉換為 str 型態\n",
    "#對loc_x loc_y取絕對值\n",
    "X_train = train.drop(columns=['action_type','shot_id'])\n",
    "X_test = test.drop(columns=['shot_id'])\n",
    "Y_train= np.array(train[\"action_type\"])\n",
    "X_train['game_date']=pd.to_datetime(X_train['game_date'])\n",
    "epoch = dt.datetime(1970, 1, 1)\n",
    "step = 0\n",
    "temp =[]\n",
    "for t in [(d - epoch).total_seconds() for d in X_train['game_date']]:\n",
    "    temp.append('%.0f' % t)  \n",
    "X_train.drop('game_date', axis = 1, inplace = True)\n",
    "X_train['game_date'] = temp\n",
    "X_train['game_date'] = X_train['game_date'].astype('float32')\n",
    "mean_game_date= X_train['game_date'].mean()\n",
    "std_game_date= X_train['game_date'].std()\n",
    "X_train['game_date'] = (X_train['game_date'] - mean_game_date) / (std_game_date)\n",
    "\n",
    "X_test['game_date']=pd.to_datetime(X_test['game_date'])\n",
    "epoch = dt.datetime(1970, 1, 1)\n",
    "step = 0\n",
    "temp =[]\n",
    "for t in [(d - epoch).total_seconds() for d in X_test['game_date']]:\n",
    "    temp.append('%.0f' % t)  \n",
    "X_test.drop('game_date', axis = 1, inplace = True)\n",
    "X_test['game_date'] = temp\n",
    "X_test['game_date'] = X_test['game_date'].astype('float32')\n",
    "X_test['game_date'] = (X_test['game_date'] - mean_game_date) / (std_game_date)\n",
    "\n",
    "data=X_train.append(X_test)\n",
    "data[\"playoffs\"]=data[\"playoffs\"].astype(\"category\").cat.codes\n",
    "data[\"period\"]=data[\"period\"].astype(\"category\").cat.codes\n",
    "data[\"season\"]=data[\"season\"].astype(\"category\").cat.codes\n",
    "data[\"shot_made_flag\"]=data[\"shot_made_flag\"].astype(\"category\").cat.codes\n",
    "data[\"shot_zone_area\"]=data[\"shot_zone_area\"].astype(\"category\").cat.codes\n",
    "data[\"opponent\"]=data[\"opponent\"].astype(\"category\").cat.codes\n",
    "\n",
    "X_train=data[0:X_train.shape[0]]\n",
    "X_test=data[X_train.shape[0]:data.shape[0]]"
   ]
  },
  {
   "cell_type": "code",
   "execution_count": 42,
   "metadata": {},
   "outputs": [
    {
     "name": "stdout",
     "output_type": "stream",
     "text": [
      "0.853930933137399\n",
      "0.8681361743815822\n"
     ]
    }
   ],
   "source": [
    "#Random Forest model\n",
    "rf = RandomForestClassifier(n_estimators=500,oob_score=True,min_samples_split=50)\n",
    "rf.fit(X_train, Y_train)\n",
    "\n",
    "from sklearn.metrics import accuracy_score\n",
    "predicted = rf.predict(X_train)\n",
    "accuracy = accuracy_score(Y_train, predicted)\n",
    "print(rf.oob_score_)\n",
    "print(accuracy)"
   ]
  },
  {
   "cell_type": "code",
   "execution_count": 44,
   "metadata": {},
   "outputs": [],
   "source": [
    "#model predict\n",
    "final_pred=rf.predict(X_test)\n",
    "#create output\n",
    "output=pd.DataFrame()\n",
    "output[0]=list(test['shot_id'])\n",
    "output[1]=final_pred\n",
    "output.to_csv('E:/WORKOUT/Statistic/data_sciense_intro/report1/rf_out.csv', index = False, header = False)"
   ]
  },
  {
   "cell_type": "code",
   "execution_count": null,
   "metadata": {},
   "outputs": [],
   "source": []
  }
 ],
 "metadata": {
  "kernelspec": {
   "display_name": "Python 3",
   "language": "python",
   "name": "python3"
  },
  "language_info": {
   "codemirror_mode": {
    "name": "ipython",
    "version": 3
   },
   "file_extension": ".py",
   "mimetype": "text/x-python",
   "name": "python",
   "nbconvert_exporter": "python",
   "pygments_lexer": "ipython3",
   "version": "3.6.5"
  }
 },
 "nbformat": 4,
 "nbformat_minor": 2
}
