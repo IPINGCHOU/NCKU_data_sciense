{
 "cells": [
  {
   "cell_type": "code",
   "execution_count": 1,
   "metadata": {},
   "outputs": [
    {
     "ename": "NameError",
     "evalue": "name 'train' is not defined",
     "output_type": "error",
     "traceback": [
      "\u001b[1;31m---------------------------------------------------------------------------\u001b[0m",
      "\u001b[1;31mNameError\u001b[0m                                 Traceback (most recent call last)",
      "\u001b[1;32m<ipython-input-1-1a0b07a9900e>\u001b[0m in \u001b[0;36m<module>\u001b[1;34m()\u001b[0m\n\u001b[0;32m     23\u001b[0m \u001b[1;31m#將為類別變數型態資料轉換為 str 型態\u001b[0m\u001b[1;33m\u001b[0m\u001b[1;33m\u001b[0m\u001b[0m\n\u001b[0;32m     24\u001b[0m \u001b[1;31m#對loc_x loc_y取絕對值\u001b[0m\u001b[1;33m\u001b[0m\u001b[1;33m\u001b[0m\u001b[0m\n\u001b[1;32m---> 25\u001b[1;33m \u001b[0mX_train\u001b[0m \u001b[1;33m=\u001b[0m \u001b[0mtrain\u001b[0m\u001b[1;33m.\u001b[0m\u001b[0mdrop\u001b[0m\u001b[1;33m(\u001b[0m\u001b[0mcolumns\u001b[0m\u001b[1;33m=\u001b[0m\u001b[1;33m[\u001b[0m\u001b[1;34m'action_type'\u001b[0m\u001b[1;33m,\u001b[0m\u001b[1;34m'shot_id'\u001b[0m\u001b[1;33m]\u001b[0m\u001b[1;33m)\u001b[0m\u001b[1;33m\u001b[0m\u001b[0m\n\u001b[0m\u001b[0;32m     26\u001b[0m \u001b[0mX_test\u001b[0m \u001b[1;33m=\u001b[0m \u001b[0mtest\u001b[0m\u001b[1;33m.\u001b[0m\u001b[0mdrop\u001b[0m\u001b[1;33m(\u001b[0m\u001b[0mcolumns\u001b[0m\u001b[1;33m=\u001b[0m\u001b[1;33m[\u001b[0m\u001b[1;34m'shot_id'\u001b[0m\u001b[1;33m]\u001b[0m\u001b[1;33m)\u001b[0m\u001b[1;33m\u001b[0m\u001b[0m\n\u001b[0;32m     27\u001b[0m \u001b[0mY_train\u001b[0m\u001b[1;33m=\u001b[0m \u001b[0mnp\u001b[0m\u001b[1;33m.\u001b[0m\u001b[0marray\u001b[0m\u001b[1;33m(\u001b[0m\u001b[0mtrain\u001b[0m\u001b[1;33m[\u001b[0m\u001b[1;34m\"action_type\"\u001b[0m\u001b[1;33m]\u001b[0m\u001b[1;33m)\u001b[0m\u001b[1;33m\u001b[0m\u001b[0m\n",
      "\u001b[1;31mNameError\u001b[0m: name 'train' is not defined"
     ]
    }
   ],
   "source": [
    "#import  package\n",
    "from sklearn import preprocessing\n",
    "from sklearn.model_selection import GridSearchCV\n",
    "from sklearn.ensemble import RandomForestClassifier\n",
    "from sklearn.ensemble import RandomForestRegressor\n",
    "from sklearn.preprocessing import LabelEncoder\n",
    "\n",
    "import pandas as pd\n",
    "import numpy as np\n",
    "import datetime as dt\n",
    "\n",
    "#import  data\n",
    "train = pd.read_csv(\"E:/WORKOUT/Statistic/data_sciense_intro/report1/train.csv\")\n",
    "\n",
    "\n",
    "#資料前處理\n",
    "#將為類別變數型態資料轉換為 str 型態\n",
    "#對loc_x loc_y取絕對值\n",
    "test=pd.read_csv(\"test.csv\")\n",
    "X_train = train.drop(columns=['action_type','shot_id'])\n",
    "X_test = test.drop(columns=['shot_id'])\n",
    "Y_train= np.array(train[\"action_type\"])\n",
    "X_train['game_date']=pd.to_datetime(X_train['game_date'])\n",
    "epoch = dt.datetime(1970, 1, 1)\n",
    "step = 0\n",
    "temp =[]\n",
    "for t in [(d - epoch).total_seconds() for d in X_train['game_date']]:\n",
    "    temp.append('%.0f' % t)  \n",
    "X_train.drop('game_date', axis = 1, inplace = True)\n",
    "X_train['game_date'] = temp\n",
    "X_train['game_date'] = X_train['game_date'].astype('float32')\n",
    "mean_game_date= X_train['game_date'].mean()\n",
    "std_game_date= X_train['game_date'].std()\n",
    "X_train['game_date'] = (X_train['game_date'] - mean_game_date) / (std_game_date)\n",
    "\n",
    "\n",
    "X_test['game_date']=pd.to_datetime(X_test['game_date'])\n",
    "epoch = dt.datetime(1970, 1, 1)\n",
    "step = 0\n",
    "temp =[]\n",
    "for t in [(d - epoch).total_seconds() for d in X_test['game_date']]:\n",
    "    temp.append('%.0f' % t)  \n",
    "X_test.drop('game_date', axis = 1, inplace = True)\n",
    "X_test['game_date'] = temp\n",
    "X_test['game_date'] = X_test['game_date'].astype('float32')\n",
    "X_test['game_date'] = (X_test['game_date'] - mean_game_date) / (std_game_date)\n",
    "\n",
    "data=X_train.append(X_test)\n",
    "data[\"playoffs\"]=data[\"playoffs\"].astype(\"category\").cat.codes\n",
    "data[\"period\"]=data[\"period\"].astype(\"category\").cat.codes\n",
    "data[\"season\"]=data[\"season\"].astype(\"category\").cat.codes\n",
    "data[\"shot_made_flag\"]=data[\"shot_made_flag\"].astype(\"category\").cat.codes\n",
    "data[\"shot_zone_area\"]=data[\"shot_zone_area\"].astype(\"category\").cat.codes\n",
    "data[\"opponent\"]=data[\"opponent\"].astype(\"category\").cat.codes\n",
    "\n",
    "X_train=data[0:24557]\n",
    "X_test=data[24557:30698]"
   ]
  },
  {
   "cell_type": "code",
   "execution_count": 68,
   "metadata": {},
   "outputs": [
    {
     "name": "stdout",
     "output_type": "stream",
     "text": [
      "0.710550963065521\n",
      "Out-of-bag score estimate: 0.711\n",
      "0.7290385633424278\n",
      "Mean accuracy score: 0.729\n"
     ]
    }
   ],
   "source": [
    "#Random Forest model\n",
    "rf = RandomForestClassifier(n_estimators=500,oob_score=True,min_samples_split=50)\n",
    "rf.fit(X_train, Y_train)\n",
    "\n",
    "from sklearn.metrics import accuracy_score\n",
    "predicted = rf.predict(X_train)\n",
    "accuracy = accuracy_score(Y_train, predicted)\n",
    "print(rf.oob_score_)\n",
    "print(f'Out-of-bag score estimate: {rf.oob_score_:.3}')\n",
    "print(accuracy)\n",
    "print(f'Mean accuracy score: {accuracy:.3}')"
   ]
  },
  {
   "cell_type": "code",
   "execution_count": 69,
   "metadata": {},
   "outputs": [],
   "source": [
    "#model predict\n",
    "final_pred=rf.predict(X_test)\n",
    "#create output\n",
    "output=pd.DataFrame()\n",
    "output[0]=list(test['shot_id'])\n",
    "output[1]=final_pred\n",
    "output.to_csv('E:/WORKOUT/Statistic/data_sciense_intro/report1/out.csv', index = False, header = False)"
   ]
  },
  {
   "cell_type": "code",
   "execution_count": null,
   "metadata": {},
   "outputs": [],
   "source": []
  }
 ],
 "metadata": {
  "kernelspec": {
   "display_name": "Python 3",
   "language": "python",
   "name": "python3"
  },
  "language_info": {
   "codemirror_mode": {
    "name": "ipython",
    "version": 3
   },
   "file_extension": ".py",
   "mimetype": "text/x-python",
   "name": "python",
   "nbconvert_exporter": "python",
   "pygments_lexer": "ipython3",
   "version": "3.5.5"
  }
 },
 "nbformat": 4,
 "nbformat_minor": 2
}
