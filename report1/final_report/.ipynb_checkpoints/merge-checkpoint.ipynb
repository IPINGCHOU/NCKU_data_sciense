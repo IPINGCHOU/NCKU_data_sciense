{
 "cells": [
  {
   "cell_type": "code",
   "execution_count": 2,
   "metadata": {},
   "outputs": [],
   "source": [
    "#import  package\n",
    "import numpy as np\n",
    "import pandas as pd\n",
    "import datetime as dt\n",
    "\n",
    "#import  prediction\n",
    "test_data=pd.read_csv(\"test.csv\")\n",
    "out2=pd.read_csv(\"out 0.7204 rf.csv\")\n",
    "out1=pd.read_csv(\"out 0.7217 glm.csv\")\n",
    "out3=pd.read_csv(\"out 0.7199 DNN.csv\")\n",
    "#create merged prediction\n",
    "out=pd.DataFrame()\n",
    "out[0]=list(test_data['shot_id'])\n",
    "out_type=[]\n",
    "for i in range(0,6139,1):\n",
    "    if(out2[\"type\"][i]==out3[\"type\"][i]):\n",
    "        out_type.append(out2[\"type\"][i])\n",
    "    else:\n",
    "        out_type.append(out1[\"type\"][i])\n",
    "out[1]=pd.DataFrame(out_type)\n",
    "out.to_csv('out.csv')"
   ]
  },
  {
   "cell_type": "code",
   "execution_count": null,
   "metadata": {},
   "outputs": [],
   "source": []
  }
 ],
 "metadata": {
  "kernelspec": {
   "display_name": "Python 3",
   "language": "python",
   "name": "python3"
  },
  "language_info": {
   "codemirror_mode": {
    "name": "ipython",
    "version": 3
   },
   "file_extension": ".py",
   "mimetype": "text/x-python",
   "name": "python",
   "nbconvert_exporter": "python",
   "pygments_lexer": "ipython3",
   "version": "3.6.4"
  }
 },
 "nbformat": 4,
 "nbformat_minor": 2
}
