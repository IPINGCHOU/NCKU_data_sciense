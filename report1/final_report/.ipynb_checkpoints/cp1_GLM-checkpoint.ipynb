{
 "cells": [
  {
   "cell_type": "code",
   "execution_count": 1,
   "metadata": {},
   "outputs": [],
   "source": [
    "#import  package\n",
    "from sklearn import preprocessing\n",
    "from sklearn.model_selection import GridSearchCV\n",
    "from sklearn.preprocessing import LabelEncoder\n",
    "from sklearn import preprocessing, linear_model\n",
    "from sklearn.linear_model  import LogisticRegression\n",
    "import pandas as pd\n",
    "import numpy as np\n",
    "import datetime as dt\n",
    "\n",
    "#import  data\n",
    "#資料前處理\n",
    "#將為類別變數型態資料轉換為 str 型態\n",
    "#對loc_x loc_y取絕對值\n",
    "data=pd.read_csv(\"train.csv\")\n",
    "Y_train= np.array(data[\"action_type\"])\n",
    "test_data=pd.read_csv(\"test.csv\")\n",
    "X_train = data.drop(columns=['action_type','shot_id','seconds_remaining','minutes_remaining','shot_zone_area','period','playoffs','game_date'])\n",
    "X_train[\"season\"]=X_train[\"season\"].astype(\"str\")\n",
    "X_train[\"loc_x\"]=abs(X_train[\"loc_x\"])\n",
    "X_train[\"loc_y\"]=abs(X_train[\"loc_y\"])\n",
    "X_train['shot_made_flag']=X_train['shot_made_flag'].astype(\"str\")\n",
    "\n",
    "X_train = pd.get_dummies(X_train, prefix=['season', 'shot_made_flag','opponent'])\n",
    "\n",
    "X_train =np.array(X_train)\n",
    "\n",
    "X_test = test_data.drop(columns=['shot_id','seconds_remaining','shot_zone_area','period','minutes_remaining','playoffs','game_date'])\n",
    "X_test[\"season\"]=X_test[\"season\"].astype(\"str\")\n",
    "X_test[\"loc_x\"]=abs(X_test[\"loc_x\"])\n",
    "X_test[\"loc_y\"]=abs(X_test[\"loc_y\"])\n",
    "X_test['shot_made_flag']=X_test['shot_made_flag'].astype(\"str\")\n",
    "\n",
    "X_test = pd.get_dummies(X_test, prefix=['season', 'shot_made_flag', 'opponent'])\n",
    "X_test =np.array(X_test)\n"
   ]
  },
  {
   "cell_type": "code",
   "execution_count": 2,
   "metadata": {},
   "outputs": [
    {
     "data": {
      "text/plain": [
       "LogisticRegression(C=1.0, class_weight=None, dual=False, fit_intercept=True,\n",
       "          intercept_scaling=1, max_iter=100, multi_class='ovr', n_jobs=1,\n",
       "          penalty='l2', random_state=None, solver='liblinear', tol=0.0001,\n",
       "          verbose=0, warm_start=False)"
      ]
     },
     "execution_count": 2,
     "metadata": {},
     "output_type": "execute_result"
    }
   ],
   "source": [
    "#logistic regression model\n",
    "lr=LogisticRegression()\n",
    "lr.fit(X_train, Y_train)"
   ]
  },
  {
   "cell_type": "code",
   "execution_count": 3,
   "metadata": {},
   "outputs": [],
   "source": [
    "#model predict\n",
    "final_pred=lr.predict(X_test)\n",
    "#create output\n",
    "output=pd.DataFrame()\n",
    "output[0]=list(test_data['shot_id'])\n",
    "output[1]=final_pred\n",
    "output.to_csv('out.csv')"
   ]
  },
  {
   "cell_type": "code",
   "execution_count": null,
   "metadata": {},
   "outputs": [],
   "source": []
  }
 ],
 "metadata": {
  "kernelspec": {
   "display_name": "Python 3",
   "language": "python",
   "name": "python3"
  },
  "language_info": {
   "codemirror_mode": {
    "name": "ipython",
    "version": 3
   },
   "file_extension": ".py",
   "mimetype": "text/x-python",
   "name": "python",
   "nbconvert_exporter": "python",
   "pygments_lexer": "ipython3",
   "version": "3.5.5"
  }
 },
 "nbformat": 4,
 "nbformat_minor": 2
}
