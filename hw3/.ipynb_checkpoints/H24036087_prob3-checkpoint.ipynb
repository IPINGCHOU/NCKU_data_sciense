{
 "cells": [
  {
   "cell_type": "code",
   "execution_count": 126,
   "metadata": {},
   "outputs": [
    {
     "name": "stdout",
     "output_type": "stream",
     "text": [
      "Name: \n",
      "Type: Graph\n",
      "Number of nodes: 73\n",
      "Number of edges: 109\n",
      "Average degree:   2.9863\n",
      "Edgelist txt data successfully loaded into a networkx Graph!\n"
     ]
    },
    {
     "data": {
      "text/plain": [
       "<networkx.classes.graph.Graph at 0x1cd9eb7b198>"
      ]
     },
     "execution_count": 126,
     "metadata": {},
     "output_type": "execute_result"
    }
   ],
   "source": [
    "# prob. 3-a\n",
    "import networkx as nx\n",
    "\n",
    "class LoadFromFile(object):\n",
    "    def __init__(self):\n",
    "        \"\"\"\n",
    "        Initiate variables for the class.\n",
    "        \"\"\"\n",
    "        self.g = nx.Graph()\n",
    "\n",
    "        pass\n",
    "        \n",
    "    def from_in_class_network(self, path):  # This is Prob. 3-a.\n",
    "        '''\n",
    "        Prob. 4-a.\n",
    "        1. read the txt file by line, and split it by tab\n",
    "        2. ID stored in the first index of the line, append them in 'nodelist'\n",
    "        3. IDs-of-acquaintances stored in the second index of the line,\n",
    "        combine them with the correspond ID and store them in 'edgelist'.\n",
    "        4. Remind that there may be more than one acquaintance in the data,\n",
    "        split it by ',' and store them in 'temp_edge'\n",
    "        5. parse the 'nodelist' and 'edgelist' data into nx.Graph()\n",
    "        6. return the graph\n",
    "        '''\n",
    "        edgelist = []\n",
    "        nodelist = []\n",
    "        counter = 0\n",
    "        with open(path, 'r') as f:\n",
    "            for line in f:\n",
    "                node_pair = line.replace('\\n', '').split('\\t')\n",
    "                if counter != 0:\n",
    "                    nodelist += [node_pair[0]]\n",
    "                    temp_edge = node_pair[1].split(',')\n",
    "                    for i in range(len(temp_edge)):\n",
    "                        if (node_pair[1][i].isspace() == False) :\n",
    "                            current_edge = [node_pair[0], temp_edge[i]]\n",
    "                            edgelist += [current_edge]\n",
    "                counter = counter + 1\n",
    "        self.g.add_edges_from(edgelist)\n",
    "        print(nx.info(self.g))\n",
    "        print('Edgelist txt data successfully loaded into a networkx Graph!')\n",
    "        return self.g\n",
    "    \n",
    "in_class = LoadFromFile()\n",
    "in_class.from_in_class_network('E:/WORKOUT/Statistic/data_sciense_intro/hw3/In-class_network.txt')\n",
    "        "
   ]
  },
  {
   "cell_type": "code",
   "execution_count": 121,
   "metadata": {},
   "outputs": [
    {
     "name": "stdout",
     "output_type": "stream",
     "text": [
      "answer of (i) (ii) and (iii)\n",
      "Name: \n",
      "Type: Graph\n",
      "Number of nodes: 73\n",
      "Number of edges: 109\n",
      "Average degree:   2.9863\n",
      "----------\n",
      "answer of (iv)\n",
      "4.721212121212122\n",
      "1.8333333333333333\n",
      "1.380952380952381\n",
      "1.0\n",
      "1.3\n",
      "1.0\n",
      "1.3333333333333333\n",
      "----------\n",
      "answer of (v)\n",
      "9\n"
     ]
    }
   ],
   "source": [
    "# prob. 3-b\n",
    "print('answer of (i) (ii) and (iii)')\n",
    "print(nx.info(in_class.g))\n",
    "print('----------')\n",
    "print('answer of (iv)')\n",
    "for C in nx.connected_component_subgraphs(in_class.g):\n",
    "    print(nx.average_shortest_path_length(C))\n",
    "print('----------')\n",
    "print('answer of (v)')\n",
    "all_nodes = in_class.g.nodes()\n",
    "list_of_degree = list(in_class.g.degree(all_nodes))\n",
    "        \n",
    "all_degree = []\n",
    "for i in range(len(list_of_degree)):\n",
    "    all_degree.append(list_of_degree[i][1])\n",
    "print(max(all_degree))"
   ]
  },
  {
   "cell_type": "code",
   "execution_count": 101,
   "metadata": {},
   "outputs": [
    {
     "name": "stdout",
     "output_type": "stream",
     "text": [
      "1. n(n-1)/2 \n"
     ]
    }
   ],
   "source": [
    "# prob. 3-c\n",
    "print('1. n(n-1)/2 ')"
   ]
  }
 ],
 "metadata": {
  "kernelspec": {
   "display_name": "Python 3",
   "language": "python",
   "name": "python3"
  },
  "language_info": {
   "codemirror_mode": {
    "name": "ipython",
    "version": 3
   },
   "file_extension": ".py",
   "mimetype": "text/x-python",
   "name": "python",
   "nbconvert_exporter": "python",
   "pygments_lexer": "ipython3",
   "version": "3.6.5"
  }
 },
 "nbformat": 4,
 "nbformat_minor": 2
}
