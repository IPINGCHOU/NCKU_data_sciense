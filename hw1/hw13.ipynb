{
 "cells": [
  {
   "cell_type": "code",
   "execution_count": 2,
   "metadata": {},
   "outputs": [
    {
     "data": {
      "text/plain": [
       "'Texas'"
      ]
     },
     "execution_count": 2,
     "metadata": {},
     "output_type": "execute_result"
    }
   ],
   "source": [
    "def answer31():\n",
    "#data import\n",
    "    import csv\n",
    "    file_name = \"E:/WORKOUT/Statistic/data_sciense_intro/hw1/census.csv\"\n",
    "    census = open(file_name, 'r')\n",
    "    csvCursor = csv.reader(census)\n",
    "    data = []\n",
    "    for row in csvCursor:\n",
    "        data.append(row)\n",
    "    census.close()\n",
    "\n",
    "    all_stn = []\n",
    "    counts = []\n",
    "    max_count_pos = []\n",
    "    ans = []\n",
    "\n",
    "#store all STNAME in list all_stn\n",
    "    for i in range(1, len(data), 1):\n",
    "        all_stn.append(data[i][5])\n",
    "#count duplicate times of each state\n",
    "#return the most duplicate times state\n",
    "    my_dict = {i:all_stn.count(i) for i in all_stn}\n",
    "    counts = list(my_dict.values())\n",
    "    max_count_pos = counts.index(max(counts))\n",
    "    ans = list(my_dict.keys())\n",
    "    return(ans[max_count_pos])\n",
    "\n",
    "answer31()"
   ]
  },
  {
   "cell_type": "code",
   "execution_count": 8,
   "metadata": {},
   "outputs": [
    {
     "data": {
      "text/plain": [
       "['California', 'Texas', 'New York']"
      ]
     },
     "execution_count": 8,
     "metadata": {},
     "output_type": "execute_result"
    }
   ],
   "source": [
    "def answer32():\n",
    "#import data\n",
    "    import csv\n",
    "    file_name = \"E:/WORKOUT/Statistic/data_sciense_intro/hw1/census.csv\"\n",
    "    census = open(file_name, 'r')\n",
    "    csvCursor = csv.reader(census)\n",
    "    data = []\n",
    "    for row in csvCursor:\n",
    "        data.append(row)\n",
    "    census.close()\n",
    "    \n",
    "    all_names = []\n",
    "    all_stn = []\n",
    "    ans = []\n",
    "#store all STNAME in all_stn\n",
    "    for i in range(1, len(data), 1):\n",
    "        all_stn.append(data[i][5])\n",
    "\n",
    "#count duplicate times of each state\n",
    "    my_dict = {i:all_stn.count(i) for i in all_stn}\n",
    "    all_names = list(my_dict.keys())\n",
    "    all_dup = list(my_dict.values())\n",
    "    all_pop = [0]*len(all_names)\n",
    "    steps = 1\n",
    "    ans = []\n",
    "\n",
    "#only caculate the most populous counties for each state\n",
    "    for i in range(0, len(all_names), 1):\n",
    "        temp_pop_list = []\n",
    "#store all population data of each state in temp_pop_list\n",
    "        for j in range(all_dup[i]):\n",
    "            temp_pop_list.append(data[steps][7])\n",
    "            steps = steps + 1\n",
    "#pick the 3 most populous counties and add them\n",
    "#store the result in list all_pop\n",
    "        for k in range(0,3,1):\n",
    "            temp_pop_list = list(map(int,temp_pop_list))\n",
    "            if(temp_pop_list != []):\n",
    "                temp_pop = []\n",
    "                temp_pop = temp_pop_list.index(max(temp_pop_list))\n",
    "                all_pop[i] = all_pop[i] + int(temp_pop_list.pop(temp_pop))\n",
    "#pick the 3 most populous state for list all_pop\n",
    "#store them in list ans\n",
    "#return ans\n",
    "    for m in range(0,3,1):\n",
    "        temp_ans_pop = []\n",
    "        temp_ans_pop = all_pop.index(max(all_pop))\n",
    "        ans.append(all_names.pop(temp_ans_pop))\n",
    "        all_pop.pop(temp_ans_pop)\n",
    "        \n",
    "    return(ans)\n",
    "    \n",
    "answer32()\n",
    "    "
   ]
  },
  {
   "cell_type": "code",
   "execution_count": 23,
   "metadata": {},
   "outputs": [
    {
     "data": {
      "text/plain": [
       "'Texas'"
      ]
     },
     "execution_count": 23,
     "metadata": {},
     "output_type": "execute_result"
    }
   ],
   "source": [
    "def answer33():\n",
    "#import data\n",
    "    import csv\n",
    "    file_name = \"E:/WORKOUT/Statistic/data_sciense_intro/hw1/census.csv\"\n",
    "    census = open(file_name, 'r')\n",
    "    csvCursor = csv.reader(census)\n",
    "    data = []\n",
    "    for row in csvCursor:\n",
    "        data.append(row)\n",
    "    census.close()\n",
    "\n",
    "#store POPESTIMATE2010 ~ POPESTIMATE2015 by each county in list temp_six\n",
    "    counts = [0]*len(data)\n",
    "    for i in range(1, len(data), 1):\n",
    "        temp_six = [0]*6\n",
    "        for j in range(0,6,1):\n",
    "            temp_six[j] = data[i][9+j]\n",
    "#find the max and min in temp_six and subtract them\n",
    "#store the result in list counts\n",
    "        counts[i] = abs(int(max(temp_six)) - int(min(temp_six)))\n",
    "#find the max one in list counts\n",
    "#return ans\n",
    "    ans = data[counts.index(max(counts))][6]\n",
    "    return(ans)\n",
    "\n",
    "answer33()"
   ]
  }
 ],
 "metadata": {
  "kernelspec": {
   "display_name": "Python 3",
   "language": "python",
   "name": "python3"
  },
  "language_info": {
   "codemirror_mode": {
    "name": "ipython",
    "version": 3
   },
   "file_extension": ".py",
   "mimetype": "text/x-python",
   "name": "python",
   "nbconvert_exporter": "python",
   "pygments_lexer": "ipython3",
   "version": "3.6.5"
  }
 },
 "nbformat": 4,
 "nbformat_minor": 2
}
