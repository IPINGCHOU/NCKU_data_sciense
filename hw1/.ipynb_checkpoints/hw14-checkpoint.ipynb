{
 "cells": [
  {
   "cell_type": "code",
   "execution_count": 77,
   "metadata": {},
   "outputs": [],
   "source": [
    "#read the data into python\n",
    "import csv\n",
    "file_name = \"E:/WORKOUT/Statistic/data_sciense_intro/hw1/pressure.csv\"\n",
    "pressure = open(file_name, 'r')\n",
    "csvCursor = csv.reader(pressure)\n",
    "data = []\n",
    "for row in csvCursor:\n",
    "    data.append(row)\n",
    "pressure.close()"
   ]
  },
  {
   "cell_type": "code",
   "execution_count": 79,
   "metadata": {},
   "outputs": [
    {
     "data": {
      "text/plain": [
       "<BarContainer object of 11 artists>"
      ]
     },
     "execution_count": 79,
     "metadata": {},
     "output_type": "execute_result"
    },
    {
     "data": {
      "image/png": "[encoded data removed]",
      "text/plain": [
       "<Figure size 432x288 with 1 Axes>"
      ]
     },
     "metadata": {},
     "output_type": "display_data"
    }
   ],
   "source": [
    "#barplot\n",
    "import matplotlib.pyplot as plt\n",
    "import pandas as pd\n",
    "\n",
    "year = []\n",
    "pressure = []\n",
    "counts = []\n",
    "\n",
    "#store all pressure data and year data in each list\n",
    "for i in range(1, len(data),1):\n",
    "    year.append(data[i][0])\n",
    "    pressure.append(data[i][1])\n",
    "\n",
    "#count duplicate times of each pressure\n",
    "my_dict = {i:pressure.count(i) for i in pressure}\n",
    "pos = list(my_dict.keys())\n",
    "pos = list(map(int, pos))\n",
    "\n",
    "#plot it\n",
    "nums = range(0,11,1)\n",
    "for i in nums:\n",
    "    temp_pos = pos.index(i)\n",
    "    counts.append(list(my_dict.values())[temp_pos])\n",
    "    \n",
    "plt.bar(nums, counts)\n"
   ]
  },
  {
   "cell_type": "code",
   "execution_count": 80,
   "metadata": {},
   "outputs": [
    {
     "data": {
      "text/plain": [
       "<matplotlib.legend.Legend at 0x84a3f90>"
      ]
     },
     "execution_count": 80,
     "metadata": {},
     "output_type": "execute_result"
    },
    {
     "data": {
      "image/png": "[encoded data removed]",
      "text/plain": [
       "<Figure size 432x288 with 1 Axes>"
      ]
     },
     "metadata": {},
     "output_type": "display_data"
    }
   ],
   "source": [
    "#pie plot\n",
    "level_counts = [0]*3\n",
    "pressure = list(map(int, pressure))\n",
    "\n",
    "#classify each pressure numbers in 3 different levels\n",
    "for i in range(0, len(pressure),1):\n",
    "    if pressure[i] >= 0 and pressure[i] <= 3:\n",
    "        level_counts[0] = level_counts[0] + 1\n",
    "    elif pressure[i] >= 4 and pressure[i] <= 6:\n",
    "        level_counts[1] = level_counts[1] + 1\n",
    "    elif pressure[i] >= 7 and pressure[i] <= 10:\n",
    "        level_counts[2] = level_counts[2] + 1\n",
    "\n",
    "#plot it\n",
    "names = ['Low','Middle','High']\n",
    "plt.pie(level_counts, labels = names, autopct = \"%.2f%%\")\n",
    "plt.axis(\"equal\")\n",
    "plt.legend()\n"
   ]
  },
  {
   "cell_type": "code",
   "execution_count": 82,
   "metadata": {},
   "outputs": [
    {
     "data": {
      "text/plain": [
       "<matplotlib.axes._subplots.AxesSubplot at 0x84b8a10>"
      ]
     },
     "execution_count": 82,
     "metadata": {},
     "output_type": "execute_result"
    },
    {
     "data": {
      "image/png": "[encoded data removed]",
      "text/plain": [
       "<Figure size 432x288 with 1 Axes>"
      ]
     },
     "metadata": {},
     "output_type": "display_data"
    }
   ],
   "source": [
    "year = list(map(int, year))\n",
    "year_low = [0]*5\n",
    "year_med = [0]*5\n",
    "year_high = [0]*5\n",
    "\n",
    "#classify each pressure numbers in 3 different levels\n",
    "#and 5 different department year\n",
    "for i in range(0,len(year),1):\n",
    "    if pressure[i] >= 0 and pressure[i] <= 3:\n",
    "        if year[i] == 106:\n",
    "            year_low[0] = year_low[0] + 1\n",
    "        if year[i] == 107:\n",
    "            year_low[1] = year_low[1] + 1\n",
    "        if year[i] == 108:\n",
    "            year_low[2] = year_low[2] + 1\n",
    "        if year[i] == 109:\n",
    "            year_low[3] = year_low[3] + 1\n",
    "        if year[i] == 110:\n",
    "            year_low[4] = year_low[4] + 1\n",
    "    elif pressure[i] >= 4 and pressure[i] <= 6:\n",
    "        if year[i] == 106:\n",
    "            year_med[0] = year_med[0] + 1\n",
    "        if year[i] == 107:\n",
    "            year_med[1] = year_med[1] + 1\n",
    "        if year[i] == 108:\n",
    "            year_med[2] = year_med[2] + 1\n",
    "        if year[i] == 109:\n",
    "            year_med[3] = year_med[3] + 1\n",
    "        if year[i] == 110:\n",
    "            year_med[4] = year_med[4] + 1\n",
    "    elif pressure[i] >= 7 and pressure[i] <= 10:\n",
    "        if year[i] == 106:\n",
    "            year_high[0] = year_high[0] + 1\n",
    "        if year[i] == 107:\n",
    "            year_high[1] = year_high[1] + 1\n",
    "        if year[i] == 108:\n",
    "            year_high[2] = year_high[2] + 1\n",
    "        if year[i] == 109:\n",
    "            year_high[3] = year_high[3] + 1\n",
    "        if year[i] == 110:\n",
    "            year_high[4] = year_high[4] + 1\n",
    "\n",
    "#plot it\n",
    "df = pd.DataFrame(data = {'col1':year_low , 'col2':year_med, 'col3':year_high}, index = [106,107,108,109,110])\n",
    "df.columns=[\"Low\",\"Middle\",\"High\"]\n",
    "df.plot.bar()\n"
   ]
  }
 ],
 "metadata": {
  "kernelspec": {
   "display_name": "Python 3",
   "language": "python",
   "name": "python3"
  },
  "language_info": {
   "codemirror_mode": {
    "name": "ipython",
    "version": 3
   },
   "file_extension": ".py",
   "mimetype": "text/x-python",
   "name": "python",
   "nbconvert_exporter": "python",
   "pygments_lexer": "ipython3",
   "version": "3.6.4"
  }
 },
 "nbformat": 4,
 "nbformat_minor": 2
}
