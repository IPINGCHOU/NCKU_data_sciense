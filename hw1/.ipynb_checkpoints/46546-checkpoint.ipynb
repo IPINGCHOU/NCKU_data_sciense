{
 "cells": [
  {
   "cell_type": "code",
   "execution_count": 16,
   "metadata": {},
   "outputs": [],
   "source": [
    "def answer31():\n",
    "    from collections import Counter\n",
    "    import csv\n",
    "    f=open('census.csv', 'r')\n",
    "    csvCursor = csv.reader(f)\n",
    "    list1=[]\n",
    "    for row in csvCursor:\n",
    "        list1.append(row)\n",
    "    f.close()\n",
    "    x=[]\n",
    "    for i in range(1,len(list1),1):\n",
    "        x.append(list1[i][5])\n",
    "    my_dict = {i:x.count(i) for i in x}\n",
    "    k=[]\n",
    "    v=[]\n",
    "    for i in my_dict:\n",
    "        k.append(i)\n",
    "        v.append(my_dict[i])\n",
    "    print(k[v.index(max(v))])"
   ]
  },
  {
   "cell_type": "code",
   "execution_count": 17,
   "metadata": {
    "scrolled": false
   },
   "outputs": [
    {
     "name": "stdout",
     "output_type": "stream",
     "text": [
      "Texas\n"
     ]
    }
   ],
   "source": [
    "answer31()"
   ]
  },
  {
   "cell_type": "code",
   "execution_count": 2,
   "metadata": {},
   "outputs": [],
   "source": [
    "def answer32():\n",
    "    from collections import Counter\n",
    "    import csv\n",
    "    f=open('census.csv', 'r')\n",
    "    csvCursor = csv.reader(f)\n",
    "    list1=[]\n",
    "    for row in csvCursor:\n",
    "        list1.append(row)\n",
    "    f.close()\n",
    "    x=[]\n",
    "    for i in range(1,len(list1),1):\n",
    "        x.append(list1[i][5])\n",
    "    my_dict = {i:x.count(i) for i in x}\n",
    "    state=[]\n",
    "    pop=[]\n",
    "    for i in my_dict:\n",
    "        state.append(i)\n",
    "        v=[]\n",
    "        k=[]\n",
    "        for j in range(1,len(list1),1):\n",
    "            if(list1[j][5]==i):\n",
    "                k.append(list1[j][7])\n",
    "        if(len(k)>=3):\n",
    "            k=list(map(int,k))\n",
    "            v.append(max(k))    \n",
    "            k.pop(k.index(max(k)))\n",
    "            v.append(max(k))    \n",
    "            k.pop(k.index(max(k))) \n",
    "            v.append(max(k))      \n",
    "            pop.append(sum(v))\n",
    "        else:  \n",
    "            k=list(map(int,k))\n",
    "            pop.append(sum(k))\n",
    "    top3_state=[]\n",
    "    top3_state.append(state[pop.index(max(pop))])\n",
    "    state.pop(pop.index(max(pop)))\n",
    "    pop.pop(pop.index(max(pop)))\n",
    "    top3_state.append(state[pop.index(max(pop))])\n",
    "    state.pop(pop.index(max(pop)))\n",
    "    pop.pop(pop.index(max(pop)))\n",
    "    top3_state.append(state[pop.index(max(pop))])\n",
    "    print(top3_state)"
   ]
  },
  {
   "cell_type": "code",
   "execution_count": 3,
   "metadata": {},
   "outputs": [
    {
     "name": "stdout",
     "output_type": "stream",
     "text": [
      "[5851194, 1099638, 11189397, 3520005, 50167874, 6251617, 5384940, 1633558, 1203446, 23045811, 11413555, 2498587, 2148870, 18942231, 7883200, 3688221, 3895662, 5376266, 5406095, 1807166, 7608749, 8849266, 12906586, 6964990, 3399687, 7662039, 1246686, 2628858, 5073227, 2012414, 10506868, 2930976, 24113524, 11356104, 903677, 13980040, 5073387, 5096118, 15451733, 1845392, 5461093, 1084596, 7900430, 31606159, 4310104, 843928, 9520744, 9451014, 2150226, 7122794, 730814]\n",
      "['California', 'Texas', 'New York']\n"
     ]
    }
   ],
   "source": [
    "answer32()"
   ]
  },
  {
   "cell_type": "code",
   "execution_count": 28,
   "metadata": {},
   "outputs": [],
   "source": [
    "def answer33():\n",
    "    from collections import Counter\n",
    "    import csv\n",
    "    f=open('census.csv', 'r')\n",
    "    csvCursor = csv.reader(f)\n",
    "    list1=[]\n",
    "    for row in csvCursor:\n",
    "        list1.append(row)\n",
    "    f.close()\n",
    "    y=[]\n",
    "    city=[]\n",
    "    for i in range(1,len(list1),1):\n",
    "        x=[]\n",
    "        x=list([int(list1[i][9]),int(list1[i][10]),int(list1[i][11]),int(list1[i][12]),int(list1[i][13]),int(list1[i][14])])\n",
    "        y.append(max(x)-min(x))\n",
    "        city.append(list1[i][6])\n",
    "    print(city[y.index(max(y))])    "
   ]
  },
  {
   "cell_type": "code",
   "execution_count": 29,
   "metadata": {},
   "outputs": [
    {
     "name": "stdout",
     "output_type": "stream",
     "text": [
      "Texas\n"
     ]
    }
   ],
   "source": [
    "answer33()"
   ]
  },
  {
   "cell_type": "code",
   "execution_count": null,
   "metadata": {},
   "outputs": [],
   "source": []
  }
 ],
 "metadata": {
  "kernelspec": {
   "display_name": "Python 3",
   "language": "python",
   "name": "python3"
  },
  "language_info": {
   "codemirror_mode": {
    "name": "ipython",
    "version": 3
   },
   "file_extension": ".py",
   "mimetype": "text/x-python",
   "name": "python",
   "nbconvert_exporter": "python",
   "pygments_lexer": "ipython3",
   "version": "3.6.4"
  }
 },
 "nbformat": 4,
 "nbformat_minor": 2
}
