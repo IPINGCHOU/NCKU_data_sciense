{
 "cells": [
  {
   "cell_type": "code",
   "execution_count": 11,
   "metadata": {},
   "outputs": [
    {
     "name": "stdout",
     "output_type": "stream",
     "text": [
      "Texas\n"
     ]
    }
   ],
   "source": [
    "import pandas as pd\n",
    "\n",
    "def answer31():\n",
    "#import data 'census'\n",
    "    file_name = \"data/census.csv\"\n",
    "    data = pd.read_csv(file_name, header = 0)\n",
    "    df = pd.DataFrame(data)\n",
    "#count the freq of STNAME in census\n",
    "    df = df['STNAME'].value_counts()\n",
    "#find and print the max one\n",
    "    print(df.idxmax())\n",
    "    \n",
    "answer31()"
   ]
  },
  {
   "cell_type": "code",
   "execution_count": 23,
   "metadata": {},
   "outputs": [
    {
     "name": "stdout",
     "output_type": "stream",
     "text": [
      "['California', 'Texas', 'New York']\n"
     ]
    }
   ],
   "source": [
    "def answer32():\n",
    "#import data 'census'\n",
    "    file_name = \"data/census.csv\"\n",
    "    data = pd.read_csv(file_name, header = 0)\n",
    "    df = pd.DataFrame(data)\n",
    "#calculate the sum of 'CENSUS2010POP' with grouped by 'STNAME'\n",
    "    df = df.groupby('STNAME').sum()['CENSUS2010POP']\n",
    "#find and print the top 3 of the sorted sum list\n",
    "    print(list(df.sort_values(ascending=False).index[0:3]))\n",
    "    \n",
    "answer32()"
   ]
  },
  {
   "cell_type": "code",
   "execution_count": 43,
   "metadata": {},
   "outputs": [
    {
     "name": "stdout",
     "output_type": "stream",
     "text": [
      "Texas\n"
     ]
    }
   ],
   "source": [
    "def answer33():\n",
    "#import data 'census'\n",
    "    file_name = \"data/census.csv\"\n",
    "    data = pd.read_csv(file_name, header = 0)\n",
    "    df = pd.DataFrame(data)\n",
    "#calculate the sum of colums from \"POPESTIMATE2010\" to \"POPESTIMATE2015\"\n",
    "#subtract the max one with the min one and store the result in dif\n",
    "#find and print the max one of dif\n",
    "    df = df.groupby('STNAME').sum().iloc[:,7:13]\n",
    "    dif = df.max(axis = 1) - df.min(axis = 1)\n",
    "    print(dif.idxmax())\n",
    "    \n",
    "answer33()"
   ]
  }
 ],
 "metadata": {
  "kernelspec": {
   "display_name": "Python 3",
   "language": "python",
   "name": "python3"
  },
  "language_info": {
   "codemirror_mode": {
    "name": "ipython",
    "version": 3
   },
   "file_extension": ".py",
   "mimetype": "text/x-python",
   "name": "python",
   "nbconvert_exporter": "python",
   "pygments_lexer": "ipython3",
   "version": "3.6.4"
  }
 },
 "nbformat": 4,
 "nbformat_minor": 2
}
