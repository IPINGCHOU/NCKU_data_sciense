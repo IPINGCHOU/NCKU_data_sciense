{
 "cells": [
  {
   "cell_type": "code",
   "execution_count": 19,
   "metadata": {},
   "outputs": [],
   "source": [
    "import pandas as pd\n",
    "import numpy as np\n",
    "\n",
    "file_name_test = 'original_data/test_data.csv'\n",
    "data = pd.read_csv(file_name_test, header = 0)\n",
    "test = pd.DataFrame(data)\n",
    "review_id = test['review_id']"
   ]
  },
  {
   "cell_type": "code",
   "execution_count": 29,
   "metadata": {},
   "outputs": [],
   "source": [
    "# average\n",
    "file1_name = 'out/RMSE_0.8977_ACC_0.4763_TSVD_components_2000.csv'\n",
    "file2_name = 'out/RMSE_0.9117_ACC_0.4573_OrdinalRidge.csv'\n",
    "file3_name = 'out/RMSE_0.9390_ACC_0.4588_LAD.csv'\n",
    "\n",
    "data1 = pd.read_csv(file1_name, header = None)[1]\n",
    "data2 = pd.read_csv(file2_name, header = None)[1]\n",
    "data3 = pd.read_csv(file3_name, header = None)[1]\n",
    "\n",
    "average = []\n",
    "\n",
    "for i in range(len(data1)):\n",
    "    temp_average = np.mean([data1[i], data2[i], data3[i]])\n",
    "    ans = np.round(temp_average)\n",
    "    average.append(ans)\n",
    "    \n",
    "out = pd.DataFrame()\n",
    "out[0] = review_id\n",
    "out[1] = average\n",
    "out.to_csv('out.csv', header = False, index = False)"
   ]
  },
  {
   "cell_type": "code",
   "execution_count": 42,
   "metadata": {},
   "outputs": [],
   "source": [
    "# vote\n",
    "# file1 as base line\n",
    "file1_name = 'out/RMSE_0.8977_ACC_0.4763_TSVD_components_2000.csv'\n",
    "file2_name = 'out/RMSE_0.9117_ACC_0.4573_OrdinalRidge.csv'\n",
    "file3_name = 'out/RMSE_0.9390_ACC_0.4588_LAD.csv'\n",
    "\n",
    "data1 = pd.read_csv(file1_name, header = None)[1]\n",
    "data2 = pd.read_csv(file2_name, header = None)[1]\n",
    "data3 = pd.read_csv(file3_name, header = None)[1]\n",
    "\n",
    "\n",
    "vote = []\n",
    "\n",
    "for i in range(len(data1)):\n",
    "    if(data2[i] == data3[i]):\n",
    "        vote.append(data2[i])\n",
    "    else:\n",
    "        vote.append(data1[i])\n",
    "\n",
    "out=pd.DataFrame()\n",
    "out[0] = review_id\n",
    "out[1] = vote\n",
    "out.to_csv('out.csv', index = False, header = False)"
   ]
  }
 ],
 "metadata": {
  "kernelspec": {
   "display_name": "Python 3",
   "language": "python",
   "name": "python3"
  },
  "language_info": {
   "codemirror_mode": {
    "name": "ipython",
    "version": 3
   },
   "file_extension": ".py",
   "mimetype": "text/x-python",
   "name": "python",
   "nbconvert_exporter": "python",
   "pygments_lexer": "ipython3",
   "version": "3.6.5"
  }
 },
 "nbformat": 4,
 "nbformat_minor": 2
}
