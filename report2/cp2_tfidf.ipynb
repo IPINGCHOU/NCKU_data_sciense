{
 "cells": [
  {
   "cell_type": "code",
   "execution_count": 102,
   "metadata": {},
   "outputs": [],
   "source": [
    "# 讀資料\n",
    "# file_name 資料路徑\n",
    "import pandas as pd\n",
    "import numpy as np\n",
    "from sklearn.feature_extraction.text import TfidfVectorizer\n",
    "from sklearn.feature_extraction.text import CountVectorizer\n",
    "from sklearn.feature_extraction.text import TfidfTransformer\n",
    "\n",
    "# import data\n",
    "file_name = \"original_data/training_data.csv\"\n",
    "data = pd.read_csv(file_name, header = 0)\n",
    "train = pd.DataFrame(data)\n",
    "file_name_test = 'original_data/test_data.csv'\n",
    "data = pd.read_csv(file_name_test, header = 0)\n",
    "test = pd.DataFrame(data)"
   ]
  },
  {
   "cell_type": "code",
   "execution_count": 103,
   "metadata": {},
   "outputs": [],
   "source": [
    "# tfidf函數導入  會用到的只有在下一格\n",
    "tfidf_vectorizer = TfidfVectorizer()\n",
    "tfidf_vectorizer.fit(train['text'])\n",
    "vectorizer = CountVectorizer()\n",
    "vectorizer.fit(train['text'])\n",
    "\n",
    "train_freq = vectorizer.fit_transform(train['text'])\n",
    "train_word = vectorizer.get_feature_names()\n",
    "\n",
    "X_test = train['stars']\n",
    "\n"
   ]
  },
  {
   "cell_type": "code",
   "execution_count": 81,
   "metadata": {},
   "outputs": [
    {
     "name": "stdout",
     "output_type": "stream",
     "text": [
      "1165\n"
     ]
    },
    {
     "data": {
      "text/plain": [
       "[0.5818936104382584]"
      ]
     },
     "execution_count": 81,
     "metadata": {},
     "output_type": "execute_result"
    }
   ],
   "source": [
    "transformer = TfidfTransformer()\n",
    "train_tfidf = transformer.fit_transform(train_freq)\n",
    "# 只會用到以下三個\n",
    "# tfidf 矩陣\n",
    "print(train_tfidf.toarray())\n",
    "# 總出現次數矩陣\n",
    "print(train_freq.toarray())\n",
    "# features\n",
    "print(train_word)"
   ]
  },
  {
   "cell_type": "code",
   "execution_count": 85,
   "metadata": {},
   "outputs": [],
   "source": [
    "best_3_pos = []\n",
    "# train_tfidf_list = train_tfidf.toarray().tolist()\n",
    "\n",
    "for i in range(7997):\n",
    "    # find the best 3\n",
    "    cur_best_3 = sorted(train_tfidf_list[i], reverse = True)[0:3]\n",
    "    cur_best_3_pos = []\n",
    "    \n",
    "    for j in range(3):\n",
    "        cur_best_3_pos.append(train_tfidf_list[i].index(cur_best_3[j])) \n",
    "    \n",
    "    best_3_pos.append(cur_best_3_pos)"
   ]
  },
  {
   "cell_type": "code",
   "execution_count": 98,
   "metadata": {},
   "outputs": [
    {
     "name": "stdout",
     "output_type": "stream",
     "text": [
      "['00' '000' '00pm' ... 'zuccini' 'zuchinni' 'zuzu']\n"
     ]
    },
    {
     "data": {
      "text/plain": [
       "numpy.ndarray"
      ]
     },
     "execution_count": 98,
     "metadata": {},
     "output_type": "execute_result"
    }
   ],
   "source": [
    "# 找出unique\n",
    "unique_best_3_pos = np.unique(np.asarray(best_3_pos))\n",
    "print(np.asarray(train_word)[unique_best_3_pos])"
   ]
  },
  {
   "cell_type": "code",
   "execution_count": 115,
   "metadata": {},
   "outputs": [
    {
     "data": {
      "text/plain": [
       "list"
      ]
     },
     "execution_count": 115,
     "metadata": {},
     "output_type": "execute_result"
    }
   ],
   "source": [
    "analyze = vectorizer.build_analyzer()\n",
    "type(analyze(train['text'][1]))\n"
   ]
  }
 ],
 "metadata": {
  "kernelspec": {
   "display_name": "Python 3",
   "language": "python",
   "name": "python3"
  },
  "language_info": {
   "codemirror_mode": {
    "name": "ipython",
    "version": 3
   },
   "file_extension": ".py",
   "mimetype": "text/x-python",
   "name": "python",
   "nbconvert_exporter": "python",
   "pygments_lexer": "ipython3",
   "version": "3.6.5"
  }
 },
 "nbformat": 4,
 "nbformat_minor": 2
}
