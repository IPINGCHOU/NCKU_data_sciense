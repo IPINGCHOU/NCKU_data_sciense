{
 "cells": [
  {
   "cell_type": "code",
   "execution_count": 4,
   "metadata": {},
   "outputs": [],
   "source": [
    "# packages imported\n",
    "import pandas as pd\n",
    "import numpy as np\n",
    "from sklearn.feature_extraction.text import TfidfVectorizer\n",
    "from sklearn.feature_extraction.text import CountVectorizer\n",
    "from sklearn.feature_extraction.text import TfidfTransformer\n",
    "\n",
    "# import data\n",
    "# file_name 檔案路徑\n",
    "file_name = \"original_data/training_data.csv\"\n",
    "data = pd.read_csv(file_name, header = 0)\n",
    "train = pd.DataFrame(data)\n",
    "file_name_test = 'original_data/test_data.csv'\n",
    "data = pd.read_csv(file_name_test, header = 0)\n",
    "test = pd.DataFrame(data)\n",
    "\n",
    "X_test = train['stars'].tolist()"
   ]
  },
  {
   "cell_type": "code",
   "execution_count": 5,
   "metadata": {},
   "outputs": [],
   "source": [
    "# 將train data按照星數分為五類\n",
    "# cate_* 裡面放的是該類全句子斷句結果\n",
    "cate_1 = []\n",
    "cate_2 = []\n",
    "cate_3 = []\n",
    "cate_4 = []\n",
    "cate_5 = []\n",
    "\n",
    "vectorizer = CountVectorizer()\n",
    "analyze = vectorizer.build_analyzer()\n",
    "\n",
    "for i in range(len(X_test)):\n",
    "    if(X_test[i] == 1):\n",
    "        cate_1.append(analyze(train['text'][i]))\n",
    "    elif(X_test[i] == 2):\n",
    "        cate_2.append(analyze(train['text'][i]))\n",
    "    elif(X_test[i] == 3):\n",
    "        cate_3.append(analyze(train['text'][i]))\n",
    "    elif(X_test[i] == 4):\n",
    "        cate_4.append(analyze(train['text'][i]))\n",
    "    elif(X_test[i] == 5):\n",
    "        cate_5.append(analyze(train['text'][i]))\n",
    "           "
   ]
  },
  {
   "cell_type": "code",
   "execution_count": 6,
   "metadata": {},
   "outputs": [],
   "source": [
    "# 由於cate_*中包含許多list\n",
    "# 用以下code將list給unlist \n",
    "from itertools import chain\n",
    "unlist_cate_1 = list(chain.from_iterable(cate_1))\n",
    "unlist_cate_2 = list(chain.from_iterable(cate_2))\n",
    "unlist_cate_3 = list(chain.from_iterable(cate_3))\n",
    "unlist_cate_4 = list(chain.from_iterable(cate_4))\n",
    "unlist_cate_5 = list(chain.from_iterable(cate_5))\n",
    "\n",
    "# 將unlist之後的cate_*取dict 排序出現次數\n",
    "dict_cate_1 = {i:unlist_cate_1.count(i) for i in unlist_cate_1}\n",
    "dict_cate_2 = {i:unlist_cate_2.count(i) for i in unlist_cate_2}\n",
    "dict_cate_3 = {i:unlist_cate_3.count(i) for i in unlist_cate_3}\n",
    "dict_cate_4 = {i:unlist_cate_4.count(i) for i in unlist_cate_4}\n",
    "dict_cate_5 = {i:unlist_cate_5.count(i) for i in unlist_cate_5}\n"
   ]
  },
  {
   "cell_type": "code",
   "execution_count": 7,
   "metadata": {},
   "outputs": [],
   "source": [
    "# 此函數輸入 top_num (想要前幾名) 以及 my_dict (想排序的dict集)\n",
    "# 最後回傳該dict集中排名前top_num的單詞\n",
    "def find_top(top_num, my_dict):\n",
    "    counts = list(my_dict.values())\n",
    "    top_count_pos = []\n",
    "    counts_sorted = sorted(counts, reverse = True)\n",
    "    top_num_counts = counts_sorted[top_num]\n",
    "    booling_array = (np.asarray(counts_sorted) >= top_num_counts)\n",
    "    \n",
    "    from itertools import compress\n",
    "    keys = list(my_dict.keys())\n",
    "    ans = list(compress(keys, booling_array.tolist()))\n",
    "    return(ans)\n",
    "    "
   ]
  },
  {
   "cell_type": "code",
   "execution_count": 9,
   "metadata": {},
   "outputs": [
    {
     "name": "stdout",
     "output_type": "stream",
     "text": [
      "960\n"
     ]
    }
   ],
   "source": [
    "# 上述函數帶值\n",
    "top_num = 300\n",
    "top_cate_1 = find_top(top_num, dict_cate_1)\n",
    "top_cate_2 = find_top(top_num, dict_cate_2)\n",
    "top_cate_3 = find_top(top_num, dict_cate_3)\n",
    "top_cate_4 = find_top(top_num, dict_cate_4)\n",
    "top_cate_5 = find_top(top_num, dict_cate_5)\n",
    "\n",
    "# 合併五類\n",
    "# unlist後取dict看重複次數\n",
    "top_total = [top_cate_1, top_cate_2, top_cate_3, top_cate_4, top_cate_5]\n",
    "top_total = list(chain.from_iterable(top_total))\n",
    "dict_top_total = {i:top_total.count(i) for i in top_total}\n",
    "\n",
    "# 若重複次數 高於5 則該單詞對五類都重要\n",
    "# 沒判斷性  故刪除\n",
    "keys = list(dict_top_total.keys())\n",
    "values = list(dict_top_total.values())\n",
    "var_left = []\n",
    "\n",
    "for i in range(len(keys)):\n",
    "    if values[i] <= 4:\n",
    "        var_left.append(keys[i])\n",
    "\n",
    "print(len(var_left))"
   ]
  },
  {
   "cell_type": "code",
   "execution_count": 11,
   "metadata": {},
   "outputs": [],
   "source": [
    "# 利用tfidf package斷詞以及找出不重複單詞\n",
    "train_freq = vectorizer.fit_transform(train['text'])\n",
    "train_word = vectorizer.get_feature_names()\n",
    "transformer = TfidfTransformer()\n",
    "train_tfidf = transformer.fit_transform(train_freq)\n",
    "\n",
    "# tfidf 矩陣\n",
    "train_tfidf.toarray()\n",
    "# 總出現次數\n",
    "train_freq.toarray()\n",
    "# features\n",
    "train_word"
   ]
  },
  {
   "cell_type": "code",
   "execution_count": 12,
   "metadata": {},
   "outputs": [
    {
     "name": "stderr",
     "output_type": "stream",
     "text": [
      "C:\\Users\\kami\\Anaconda3\\envs\\data_sciense\\lib\\site-packages\\ipykernel_launcher.py:9: SettingWithCopyWarning: \n",
      "A value is trying to be set on a copy of a slice from a DataFrame.\n",
      "Try using .loc[row_indexer,col_indexer] = value instead\n",
      "\n",
      "See the caveats in the documentation: http://pandas.pydata.org/pandas-docs/stable/indexing.html#indexing-view-versus-copy\n",
      "  if __name__ == '__main__':\n"
     ]
    },
    {
     "data": {
      "text/plain": [
       "(7997, 961)"
      ]
     },
     "execution_count": 12,
     "metadata": {},
     "output_type": "execute_result"
    }
   ],
   "source": [
    "# 將篩選出的參數對比原先次數矩陣\n",
    "# 只從次數矩陣中挑出該參數的重複次數\n",
    "df_total_freq = pd.DataFrame(train_freq.toarray())\n",
    "var_left_index = []\n",
    "\n",
    "for i in range(len(var_left)):\n",
    "    var_left_index.append(train_word.index(var_left[i]))\n",
    "    \n",
    "df_var_left_freq = df_total_freq.iloc[:,var_left_index]\n",
    "df_var_left_freq.columns = var_left\n",
    "df_var_left_freq['rated'] = X_test\n",
    "\n",
    "df_var_left_freq.shape"
   ]
  },
  {
   "cell_type": "code",
   "execution_count": 82,
   "metadata": {},
   "outputs": [],
   "source": [
    "#將上述結果輸出\n",
    "df_var_left_freq.to_csv('train_var_left_freq.csv', index = False)"
   ]
  },
  {
   "cell_type": "code",
   "execution_count": null,
   "metadata": {},
   "outputs": [],
   "source": [
    "#接 R code"
   ]
  },
  {
   "cell_type": "code",
   "execution_count": 41,
   "metadata": {},
   "outputs": [
    {
     "data": {
      "text/plain": [
       "LogisticAT(alpha=1.0, max_iter=1000, verbose=0)"
      ]
     },
     "execution_count": 41,
     "metadata": {},
     "output_type": "execute_result"
    }
   ],
   "source": [
    "import mord\n",
    "from sklearn import linear_model, preprocessing\n",
    "\n",
    "# 讀入 R 處理後的資料\n",
    "file_name = \"train_var_after_logistic_left_freq.csv\"\n",
    "data = pd.read_csv(file_name, header = 0)\n",
    "train_logistic_var = pd.DataFrame(data)\n",
    "\n",
    "X = train_logistic_var.iloc[:,0:428]\n",
    "y = train_logistic_var['rated']\n",
    "\n",
    "# 配模型\n",
    "clf = mord.LogisticAT(alpha = 1.)\n",
    "clf.fit(X,y)"
   ]
  },
  {
   "cell_type": "code",
   "execution_count": 46,
   "metadata": {},
   "outputs": [],
   "source": [
    "from itertools import repeat\n",
    "\n",
    "# 將test資料做轉換\n",
    "# 同樣將test資料做斷詞 得到各單詞重複次數矩陣\n",
    "# 對比該重複次數矩陣以及 R 篩選過後的單詞\n",
    "# 只保留篩選後單詞的重複次數矩陣\n",
    "# 若是重複次數矩陣中無該單詞  則新增該行 並填滿 0\n",
    "test_text = test['text']\n",
    "\n",
    "vectorizer_test = CountVectorizer()\n",
    "vectorizer_test.fit(test_text)\n",
    "test_freq = pd.DataFrame(vectorizer_test.fit_transform(test_text).toarray())\n",
    "test_word = vectorizer_test.get_feature_names()\n",
    "\n",
    "X_colnames = list(X.columns.values)\n",
    "\n",
    "test_left_var = pd.DataFrame()\n",
    "\n",
    "for i in range(len(X_colnames)):\n",
    "    cur_name = X_colnames[i]\n",
    "    \n",
    "    if cur_name in test_word:\n",
    "        cur_pos = test_word.index(cur_name)\n",
    "        test_left_var[cur_name] = test_freq.iloc[:, cur_pos]\n",
    "    else:\n",
    "        test_left_var[cur_name] = pd.Series(list(repeat(0, 7997)))"
   ]
  },
  {
   "cell_type": "code",
   "execution_count": 51,
   "metadata": {},
   "outputs": [],
   "source": [
    "# 預測並輸出\n",
    "test_pred = clf.predict(test_left_var)\n",
    "review_id = test['review_id']\n",
    "out = pd.DataFrame()\n",
    "out[0] = review_id\n",
    "out[1] = test_pred\n",
    "\n",
    "out.to_csv('out.csv', header = False, index = False)"
   ]
  }
 ],
 "metadata": {
  "kernelspec": {
   "display_name": "Python 3",
   "language": "python",
   "name": "python3"
  },
  "language_info": {
   "codemirror_mode": {
    "name": "ipython",
    "version": 3
   },
   "file_extension": ".py",
   "mimetype": "text/x-python",
   "name": "python",
   "nbconvert_exporter": "python",
   "pygments_lexer": "ipython3",
   "version": "3.6.5"
  }
 },
 "nbformat": 4,
 "nbformat_minor": 2
}
