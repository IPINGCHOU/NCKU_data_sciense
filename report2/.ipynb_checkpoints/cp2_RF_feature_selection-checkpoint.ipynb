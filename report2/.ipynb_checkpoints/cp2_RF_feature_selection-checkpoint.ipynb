{
 "cells": [
  {
   "cell_type": "code",
   "execution_count": 1,
   "metadata": {},
   "outputs": [],
   "source": [
    "# packages imported\n",
    "import pandas as pd\n",
    "import numpy as np\n",
    "import mord\n",
    "from sklearn.feature_extraction.text import TfidfVectorizer\n",
    "from sklearn.feature_extraction.text import CountVectorizer\n",
    "from sklearn.feature_extraction.text import TfidfTransformer\n",
    "from sklearn import linear_model, preprocessing\n",
    "\n",
    "# import data\n",
    "# file_name 檔案路徑\n",
    "file_name = \"original_data/training_data.csv\"\n",
    "data = pd.read_csv(file_name, header = 0)\n",
    "train = pd.DataFrame(data)\n",
    "file_name_test = 'original_data/test_data.csv'\n",
    "data = pd.read_csv(file_name_test, header = 0)\n",
    "test = pd.DataFrame(data)"
   ]
  },
  {
   "cell_type": "code",
   "execution_count": 6,
   "metadata": {},
   "outputs": [
    {
     "name": "stdout",
     "output_type": "stream",
     "text": [
      "(7997,)\n",
      "(7997,)\n",
      "(2003,)\n"
     ]
    }
   ],
   "source": [
    "X_train = train['text']\n",
    "Y_train = train['stars']\n",
    "X_test = test['text']\n",
    "\n",
    "print(X_train.shape)\n",
    "print(Y_train.shape)\n",
    "print(X_test.shape)"
   ]
  },
  {
   "cell_type": "code",
   "execution_count": 51,
   "metadata": {},
   "outputs": [],
   "source": [
    "# freq matrix of X_train\n",
    "tfidf_vectorizer = TfidfVectorizer()\n",
    "tfidf_vectorizer.fit(X_train)\n",
    "vectorizer = CountVectorizer()\n",
    "vectorizer.fit(X_train)\n",
    "\n",
    "train_text_freq = vectorizer.fit_transform(X_train)\n",
    "\n",
    "transformer = TfidfTransformer(sublinear_tf=True, use_idf=True)\n",
    "train_text_tfidf = transformer.fit_transform(train_text_freq)\n",
    "train_word = vectorizer.get_feature_names()\n",
    "\n",
    "# tfidf 矩陣\n",
    "# print(total_text_tfidf.toarray())\n",
    "# 總出現次數矩陣\n",
    "# print(train_freq.toarray())\n",
    "# features\n",
    "# print(train_word)"
   ]
  },
  {
   "cell_type": "code",
   "execution_count": 112,
   "metadata": {},
   "outputs": [
    {
     "data": {
      "text/plain": [
       "7997"
      ]
     },
     "execution_count": 112,
     "metadata": {},
     "output_type": "execute_result"
    }
   ],
   "source": [
    "train_text_tfidf.shape\n",
    "len(Y_train)"
   ]
  },
  {
   "cell_type": "code",
   "execution_count": 9,
   "metadata": {},
   "outputs": [],
   "source": [
    "# freq matrix of X_test\n",
    "tfidf_vectorizer_test = TfidfVectorizer()\n",
    "tfidf_vectorizer_test.fit(X_test)\n",
    "vectorizer_test = CountVectorizer()\n",
    "vectorizer_test.fit(X_test)\n",
    "\n",
    "test_text_freq = vectorizer.fit_transform(X_test)\n",
    "\n",
    "transformer_test = TfidfTransformer(sublinear_tf=True, use_idf=True)\n",
    "test_text_tfidf = transformer.fit_transform(test_text_freq)\n",
    "test_word = vectorizer_test.get_feature_names()"
   ]
  },
  {
   "cell_type": "code",
   "execution_count": 53,
   "metadata": {},
   "outputs": [
    {
     "data": {
      "text/plain": [
       "13880"
      ]
     },
     "execution_count": 53,
     "metadata": {},
     "output_type": "execute_result"
    }
   ],
   "source": [
    "test_text_tfidf.shape\n",
    "len(test_word)"
   ]
  },
  {
   "cell_type": "code",
   "execution_count": 129,
   "metadata": {},
   "outputs": [
    {
     "data": {
      "text/plain": [
       "RandomForestClassifier(bootstrap=True, class_weight=None, criterion='entropy',\n",
       "            max_depth=None, max_features='auto', max_leaf_nodes=None,\n",
       "            min_impurity_decrease=0.0, min_impurity_split=None,\n",
       "            min_samples_leaf=1, min_samples_split=2,\n",
       "            min_weight_fraction_leaf=0.0, n_estimators=10, n_jobs=1,\n",
       "            oob_score=False, random_state=None, verbose=0,\n",
       "            warm_start=False)"
      ]
     },
     "execution_count": 129,
     "metadata": {},
     "output_type": "execute_result"
    }
   ],
   "source": [
    "# random forest feature importance\n",
    "from sklearn.ensemble import RandomForestClassifier\n",
    "from sklearn.datasets import make_classification\n",
    "\n",
    "rf = RandomForestClassifier(criterion = 'entropy')\n",
    "rf.fit(train_text_tfidf, Y_train)"
   ]
  },
  {
   "cell_type": "code",
   "execution_count": 176,
   "metadata": {},
   "outputs": [
    {
     "data": {
      "text/plain": [
       "2000"
      ]
     },
     "execution_count": 176,
     "metadata": {},
     "output_type": "execute_result"
    }
   ],
   "source": [
    "n = 2000\n",
    "sorted_features = sorted(zip(map(lambda x: round(x, 4), rf.feature_importances_), train_word), reverse=True)\n",
    "first_n_features_of_train = [x[1] for x in sorted_features][0:n]\n",
    "len(first_n_features_of_train)"
   ]
  },
  {
   "cell_type": "code",
   "execution_count": 177,
   "metadata": {},
   "outputs": [
    {
     "data": {
      "text/plain": [
       "(7997, 2000)"
      ]
     },
     "execution_count": 177,
     "metadata": {},
     "output_type": "execute_result"
    }
   ],
   "source": [
    "# chose the features from freq matrix of features selected by RF  (train)\n",
    "df_train = pd.DataFrame(train_text_tfidf.toarray())\n",
    "var_left_index = []\n",
    "\n",
    "for i in range(len(first_n_features_of_train)):\n",
    "    var_left_index.append(train_word.index(first_n_features_of_train[i]))\n",
    "    \n",
    "df_train_var_left = df_train.iloc[:,var_left_index]\n",
    "df_train_var_left.columns = first_n_features_of_train\n",
    "\n",
    "df_train_var_left.shape"
   ]
  },
  {
   "cell_type": "code",
   "execution_count": 178,
   "metadata": {},
   "outputs": [],
   "source": [
    "# chose the features from freq matrix of features selected by RF  (test)\n",
    "from itertools import repeat\n",
    "\n",
    "# 將test資料做轉換\n",
    "# 同樣將test資料做斷詞 得到各單詞重複次數矩陣\n",
    "# 對比該重複次數矩陣以及 R 篩選過後的單詞\n",
    "# 只保留篩選後單詞的重複次數矩陣\n",
    "# 若是重複次數矩陣中無該單詞  則新增該行 並填滿 0\n",
    "\n",
    "X_colnames = first_n_features_of_train\n",
    "# test_text_tfidf = pd.DataFrame(test_text_tfidf.toarray())\n",
    "\n",
    "\n",
    "df_test_var_left = pd.DataFrame()\n",
    "\n",
    "for i in range(len(X_colnames)):\n",
    "    cur_name = X_colnames[i]\n",
    "    \n",
    "    if cur_name in test_word:\n",
    "        cur_pos = test_word.index(cur_name)\n",
    "        df_test_var_left[cur_name] = test_text_tfidf.iloc[:, cur_pos]\n",
    "    else:\n",
    "        df_test_var_left[cur_name] = pd.Series(list(repeat(0, 7997)))"
   ]
  },
  {
   "cell_type": "code",
   "execution_count": 179,
   "metadata": {},
   "outputs": [
    {
     "data": {
      "text/plain": [
       "(2003, 2000)"
      ]
     },
     "execution_count": 179,
     "metadata": {},
     "output_type": "execute_result"
    }
   ],
   "source": [
    "df_test_var_left.shape"
   ]
  },
  {
   "cell_type": "code",
   "execution_count": 156,
   "metadata": {},
   "outputs": [],
   "source": [
    "# model fitting and prediction\n",
    "import mord\n",
    "\n",
    "clf = mord.LogisticAT(alpha = 1.)\n",
    "clf.fit(df_train_var_left, Y_train)\n",
    "\n",
    "#預測\n",
    "test_pred = clf.predict(df_test_var_left)\n",
    "review_id = test['review_id']\n",
    "out = pd.DataFrame()\n",
    "out[0] = review_id\n",
    "out[1] = test_pred\n",
    "\n",
    "out.to_csv('out.csv', header = False, index = False)"
   ]
  },
  {
   "cell_type": "code",
   "execution_count": 180,
   "metadata": {},
   "outputs": [],
   "source": [
    "# SVR\n",
    "from sklearn import svm\n",
    "svr = svm.SVR(C = 10, gamma = 2)\n",
    "svr.fit(df_train_var_left, Y_train)\n",
    "test_pred=svr.predict(df_test_var_left)\n",
    "\n",
    "# test_pred = np.round(test_pred)\n",
    "\n",
    "for i in range(len(test_pred)):\n",
    "    if test_pred[i] >= 5:\n",
    "        test_pred[i] = 5\n",
    "\n",
    "review_id = test['review_id']\n",
    "out = pd.DataFrame()\n",
    "out[0] = review_id\n",
    "out[1] = test_pred\n",
    "out.to_csv('out.csv', header = False, index = False)"
   ]
  },
  {
   "cell_type": "code",
   "execution_count": 200,
   "metadata": {},
   "outputs": [],
   "source": [
    "# SVR tolerance rounding\n",
    "file_name = 'out/RMSE_0.8624_ACC_0.4398_RFfeature_3000_SVR_round_5.csv'\n",
    "data = pd.read_csv(file_name, header = None)\n",
    "data = pd.DataFrame(data)\n",
    "test_pred = list(data[1])\n",
    "\n",
    "tol = 0.1\n",
    "for i in range(len(test_pred)):\n",
    "    if 1-tol <= test_pred[i] <= 1+tol:\n",
    "        test_pred[i] = 1\n",
    "    elif 2-tol <= test_pred[i] <= 2+tol:\n",
    "        test_pred[i] = 2\n",
    "    elif 3-tol <= test_pred[i] <= 3+tol:\n",
    "        test_pred[i] = 3\n",
    "    elif 4-tol <= test_pred[i] <= 4+tol:\n",
    "        test_pred[i] = 4\n",
    "    elif test_pred[i] >= 5-tol:\n",
    "        test_pred[i] = 5\n",
    "        \n",
    "review_id = test['review_id']\n",
    "out = pd.DataFrame()\n",
    "out[0] = review_id\n",
    "out[1] = test_pred\n",
    "out.to_csv('out.csv', header = False, index = False)"
   ]
  }
 ],
 "metadata": {
  "kernelspec": {
   "display_name": "Python 3",
   "language": "python",
   "name": "python3"
  },
  "language_info": {
   "codemirror_mode": {
    "name": "ipython",
    "version": 3
   },
   "file_extension": ".py",
   "mimetype": "text/x-python",
   "name": "python",
   "nbconvert_exporter": "python",
   "pygments_lexer": "ipython3",
   "version": "3.6.5"
  }
 },
 "nbformat": 4,
 "nbformat_minor": 2
}
